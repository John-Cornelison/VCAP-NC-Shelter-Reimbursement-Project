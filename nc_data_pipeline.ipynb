{
 "cells": [
  {
   "cell_type": "code",
   "execution_count": 10,
   "id": "87b0fb77-3037-41f9-b8cc-8c9e9a50cdb7",
   "metadata": {},
   "outputs": [
    {
     "name": "stdout",
     "output_type": "stream",
     "text": [
      "Collecting pdfplumberNote: you may need to restart the kernel to use updated packages.\n",
      "\n",
      "  Downloading pdfplumber-0.10.3-py3-none-any.whl.metadata (38 kB)\n",
      "Collecting pdfminer.six==20221105 (from pdfplumber)\n",
      "  Downloading pdfminer.six-20221105-py3-none-any.whl (5.6 MB)\n",
      "     ---------------------------------------- 5.6/5.6 MB 29.8 MB/s eta 0:00:00\n",
      "Collecting Pillow>=9.1 (from pdfplumber)\n",
      "  Downloading pillow-10.2.0-cp38-cp38-win_amd64.whl.metadata (9.9 kB)\n",
      "Collecting pypdfium2>=4.18.0 (from pdfplumber)\n",
      "  Downloading pypdfium2-4.26.0-py3-none-win_amd64.whl.metadata (47 kB)\n",
      "     ---------------------------------------- 47.8/47.8 kB 2.3 MB/s eta 0:00:00\n",
      "Requirement already satisfied: charset-normalizer>=2.0.0 in c:\\users\\johnc\\anaconda3\\lib\\site-packages (from pdfminer.six==20221105->pdfplumber) (3.1.0)\n",
      "Collecting cryptography>=36.0.0 (from pdfminer.six==20221105->pdfplumber)"
     ]
    },
    {
     "name": "stderr",
     "output_type": "stream",
     "text": [
      "DEPRECATION: pyodbc 4.0.0-unsupported has a non-standard version number. pip 24.0 will enforce this behaviour change. A possible replacement is to upgrade to a newer version of pyodbc or contact the author to suggest that they release a version with a conforming version number. Discussion can be found at https://github.com/pypa/pip/issues/12063\n",
      "ERROR: pip's dependency resolver does not currently take into account all the packages that are installed. This behaviour is the source of the following dependency conflicts.\n",
      "spyder 4.2.5 requires pyqtwebengine<5.13, which is not installed.\n",
      "spyder 4.2.5 requires pyqt5<5.13, but you have pyqt5 5.15.9 which is incompatible.\n",
      "WARNING: There was an error checking the latest version of pip.\n"
     ]
    },
    {
     "name": "stdout",
     "output_type": "stream",
     "text": [
      "\n",
      "  Downloading cryptography-41.0.7-cp37-abi3-win_amd64.whl.metadata (5.3 kB)\n",
      "Requirement already satisfied: cffi>=1.12 in c:\\users\\johnc\\anaconda3\\lib\\site-packages (from cryptography>=36.0.0->pdfminer.six==20221105->pdfplumber) (1.14.5)\n",
      "Requirement already satisfied: pycparser in c:\\users\\johnc\\anaconda3\\lib\\site-packages (from cffi>=1.12->cryptography>=36.0.0->pdfminer.six==20221105->pdfplumber) (2.20)\n",
      "Downloading pdfplumber-0.10.3-py3-none-any.whl (48 kB)\n",
      "   ---------------------------------------- 49.0/49.0 kB 2.4 MB/s eta 0:00:00\n",
      "Downloading pillow-10.2.0-cp38-cp38-win_amd64.whl (2.6 MB)\n",
      "   ---------------------------------------- 2.6/2.6 MB 27.8 MB/s eta 0:00:00\n",
      "Downloading pypdfium2-4.26.0-py3-none-win_amd64.whl (2.7 MB)\n",
      "   ---------------------------------------- 2.7/2.7 MB 35.1 MB/s eta 0:00:00\n",
      "Downloading cryptography-41.0.7-cp37-abi3-win_amd64.whl (2.7 MB)\n",
      "   ---------------------------------------- 2.7/2.7 MB 28.6 MB/s eta 0:00:00\n",
      "Installing collected packages: pypdfium2, Pillow, cryptography, pdfminer.six, pdfplumber\n",
      "  Attempting uninstall: Pillow\n",
      "    Found existing installation: Pillow 8.2.0\n",
      "    Uninstalling Pillow-8.2.0:\n",
      "      Successfully uninstalled Pillow-8.2.0\n",
      "  Attempting uninstall: cryptography\n",
      "    Found existing installation: cryptography 3.4.7\n",
      "    Uninstalling cryptography-3.4.7:\n",
      "      Successfully uninstalled cryptography-3.4.7\n",
      "Successfully installed Pillow-10.2.0 cryptography-41.0.7 pdfminer.six-20221105 pdfplumber-0.10.3 pypdfium2-4.26.0\n"
     ]
    }
   ],
   "source": [
    "pip install pdfplumber"
   ]
  },
  {
   "cell_type": "code",
   "execution_count": 11,
   "id": "c7c076a4-8d08-4075-826d-4f53b05d58c8",
   "metadata": {},
   "outputs": [],
   "source": [
    "## Libraries\n",
    "import pandas as pd\n",
    "import sqlite3\n",
    "import PyPDF2\n",
    "import pdfplumber\n",
    "import os\n",
    "import numpy as np\n",
    "from IPython.display import HTML\n",
    "from IPython.core.interactiveshell import InteractiveShell"
   ]
  },
  {
   "cell_type": "code",
   "execution_count": 2,
   "id": "81ede5c0-19fd-4bfb-bca6-9172edec6b04",
   "metadata": {},
   "outputs": [],
   "source": [
    "### Changing working directory\n",
    "##Desktop\n",
    "#os.chdir(\"C:/Users/john/Documents/GitHub_Data/VCAP-NC-Shelter-Reimbursement-Project-Data\")\n",
    "\n",
    "##laptop\n",
    "os.chdir(\"C:/Users/johnc/Documents/GitHub_Data/VCAP-NC-Shelter-Reimbursement-Project-Data\")"
   ]
  },
  {
   "cell_type": "markdown",
   "id": "87c69812-fd08-4914-9392-612d84eb1d65",
   "metadata": {},
   "source": [
    "### Trying with PDF PLumber"
   ]
  },
  {
   "cell_type": "code",
   "execution_count": 80,
   "id": "fb9de6d7-0806-457a-9f69-a613ed690236",
   "metadata": {
    "tags": []
   },
   "outputs": [
    {
     "name": "stdout",
     "output_type": "stream",
     "text": [
      "[['cat', '1,425', '307', '0', '1,118'], ['dog', '1,783', '564', '20', '1,172'], ['horse', '2', '1', '1', '0']]\n",
      "[['bird', '2', '2', '0', '0'], ['cat', '1,927', '261', '21', '1,666'], ['dog', '1,870', '463', '122', '1,296'], ['ferret', '1', '1', '0', '0'], ['guinea pig', '2', '2', '0', '0'], ['rabbit', '2', '2', '0', '0']]\n",
      "[['bat', '1', '0', '0', '1'], ['bird', '15', '11', '0', '0'], ['cat', '3,503', '144', '35', '3,285'], ['cow', '1', '0', '1', '0'], ['coyote', '3', '0', '0', '3'], ['dog', '2,779', '651', '299', '1,797'], ['goat', '24', '22', '0', '1'], ['guinea pig', '1', '1', '0', '0'], ['horse', '3', '2', '1', '0'], ['opossum', '175', '0', '0', '148'], ['pig', '14', '12', '2', '0'], ['rabbit', '2', '2', '0', '0'], ['raccoon', '100', '0', '0', '96'], ['squirrel', '1', '0', '0', '0']]\n",
      "[['bat', '32', '0', '0', '18'], ['bird', '2', '0', '1', '1'], ['cat', '3,454', '579', '89', '2,651'], ['chicken', '14', '6', '1', '0'], ['cow', '2', '0', '1', '1'], ['crow', '2', '0', '0', '2'], ['deer', '2', '0', '0', '1'], ['dog', '3,858', '1,103', '687', '1,786'], ['ferret', '5', '4', '0', '0'], ['fox', '4', '0', '0', '3'], ['gerbil', '2', '2', '0', '0'], ['goat', '24', '1', '0', '2'], ['groundhog', '14', '0', '0', '8'], ['guinea pig', '16', '9', '0', '8'], ['hamster', '15', '4', '0', '11'], ['horse', '20', '4', '11', '1'], ['muskrat', '1', '0', '0', '1'], ['opossum', '12', '0', '0', '12'], ['pig', '3', '1', '1', '1'], ['rabbit', '29', '1', '0', '11'], ['raccoon', '51', '0', '0', '36'], ['rat', '17', '5', '0', '12'], ['sheep', '24', '30', '0', '2']]\n",
      "[['bat', '4', '0', '0', '1'], ['bird', '2', '0', '1', '0'], ['cat', '2,192', '62', '39', '2,017'], ['deer', '1', '0', '0', '1']]\n",
      "[['dog', '2,970', '219', '206', '2,478'], ['ferret', '1', '0', '0', '1'], ['fox', '1', '0', '0', '0'], ['goat', '3', '2', '1', '0'], ['groundhog', '2', '0', '0', '1'], ['hawk', '1', '0', '0', '0'], ['opossum', '11', '0', '0', '3'], ['pig', '4', '0', '2', '1'], ['rabbit', '3', '2', '0', '1'], ['raccoon', '13', '0', '0', '8'], ['skunk', '1', '0', '0', '1'], ['snake', '2', '0', '1', '0']]\n",
      "[['cat', '784', '225', '16', '521'], ['chicken', '1', '0', '0', '1'], ['dog', '1,211', '695', '66', '489'], ['goat', '1', '1', '0', '0'], ['guinea pig', '1', '1', '0', '0'], ['iguana', '1', '1', '0', '0'], ['owl', '2', '0', '1', '1'], ['rabbit', '3', '2', '0', '1'], ['squirrel', '1', '0', '0', '1']]\n",
      "[['bat', '3', '0', '0', '0'], ['cat', '814', '59', '24', '731'], ['dog', '654', '133', '107', '419'], ['nutria', '4', '0', '0', '4'], ['opossum', '22', '0', '0', '0'], ['raccoon', '6', '0', '0', '6'], ['squirrel', '4', '0', '0', '0']]\n",
      "[['bat', '24', '0', '0', '24'], ['buzzard', '1', '0', '0', '1'], ['cat', '3,013', '0', '27', '2,965'], ['chicken', '3', '3', '0', '0'], ['deer', '8', '0', '0', '8'], ['dog', '3,496', '10', '315', '3,139'], ['emu', '1', '1', '0', '0'], ['fox', '23', '0', '0', '23'], ['goat', '8', '6', '2', '0'], ['groundhog', '16', '0', '0', '16'], ['iguana', '1', '1', '0', '0'], ['opossum', '52', '5', '0', '47'], ['owl', '2', '1', '0', '1'], ['pigeon', '1', '0', '1', '0'], ['rabbit', '2', '0', '1', '1'], ['raccoon', '74', '0', '0', '74'], ['sheep', '1', '0', '0', '1'], ['skunk', '53', '0', '0', '53'], ['song bird', '1', '0', '0', '1'], ['squirrel', '7', '0', '0', '7'], ['turkey', '1', '0', '0', '1']]\n",
      "[['cat', '3,513', '175', '29', '3,272'], ['deer', '1', '0', '0', '0'], ['dog', '2,658', '418', '227', '1,932'], ['ferret', '1', '0', '0', '1'], ['fox', '12', '0', '0', '7'], ['opossum', '36', '0', '0', '1'], ['rabbit', '1', '0', '0', '1'], ['raccoon', '13', '0', '0', '10']]\n",
      "[['cat', '769', '260', '26', '407'], ['dog', '407', '129', '78', '175'], ['rabbit', '3', '3', '0', '0']]\n",
      "[['bat', '6', '0', '0', '6'], ['cat', '3,706', '140', '26', '3,540'], ['chicken', '3', '3', '0', '0'], ['dog', '3,775', '395', '420', '2,960'], ['groundhog', '3', '0', '0', '3'], ['opossum', '12', '0', '0', '12'], ['raccoon', '10', '0', '0', '10']]\n",
      "[['bat', '66', '0', '0', '66'], ['bird', '45', '15', '0', '9'], ['cat', '2,858', '446', '36', '2,323'], ['coyote', '1', '0', '0', '1'], ['deer', '2', '0', '0', '2'], ['dog', '3,998', '722', '496', '2,713'], ['ferret', '3', '0', '0', '1'], ['fish', '15', '4', '0', '0'], ['fox', '10', '0', '0', '10'], ['opossum', '7', '0', '0', '7'], ['rabbit', '29', '14', '0', '8'], ['raccoon', '32', '0', '0', '30'], ['reptile', '11', '2', '3', '2'], ['rodent', '56', '25', '0', '14'], ['skunk', '1', '0', '0', '1']]\n",
      "[['cat', '3,712', '387', '41', '3,226'], ['dog', '4,609', '965', '535', '3,075'], ['other', '263', '61', '4', '165']]\n",
      "[['cat', '4,151', '716', '29', '3,219'], ['chicken', '95', '37', '0', '57'], ['coyote', '1', '0', '0', '1'], ['deer', '4', '0', '0', '4'], ['dog', '4,348', '1,505', '430', '2,378'], ['fox', '18', '0', '0', '16'], ['goat', '3', '1', '1', '1'], ['horse', '1', '0', '1', '0'], ['opossum', '6', '0', '0', '4'], ['pig', '1', '1', '0', '0'], ['rabbit', '7', '1', '0', '3'], ['raccoon', '71', '0', '0', '68'], ['skunk', '2', '0', '0', '1'], ['snake', '6', '0', '0', '0'], ['squirrel', '2', '0', '0', '2'], ['turtle', '4', '0', '0', '0']]\n",
      "[['bat', '4', '0', '0', '4'], ['cat', '1,277', '64', '9', '1,204'], ['dog', '1,706', '236', '102', '1,368'], ['fox', '5', '0', '0', '5'], ['goat', '1', '0', '1', '0'], ['opossum', '8', '0', '0', '0'], ['raccoon', '15', '0', '0', '15'], ['turtle', '1', '0', '0', '0']]\n",
      "[['bat', '20', '0', '0', '5'], ['buzzard', '2', '0', '0', '2'], ['caiman', '1', '0', '0', '1'], ['cat', '4,102', '223', '63', '3,608'], ['chicken', '13', '9', '0', '2'], ['cockatiel', '1', '1', '0', '0']]\n",
      "[['cow', '2', '0', '2', '0'], ['coyote', '2', '0', '0', '2'], ['crow', '1', '0', '0', '1'], ['deer', '4', '0', '0', '4'], ['dog', '3,508', '506', '410', '2,549'], ['duck', '5', '3', '0', '1'], ['goat', '13', '11', '2', '0'], ['hawk', '3', '0', '0', '0'], ['horse', '25', '3', '22', '0'], ['mule', '1', '0', '1', '0'], ['other', '2', '0', '0', '2'], ['pig', '18', '15', '0', '2'], ['pigeon', '1', '0', '0', '1'], ['song bird', '15', '0', '0', '11'], ['turkey', '1', '0', '0', '1']]\n",
      "[['bat', '5', '0', '0', '5'], ['bird', '12', '9', '2', '1'], ['cat', '3,770', '2,159', '28', '1,583'], ['deer', '1', '0', '0', '0'], ['dog', '5,515', '3,612', '298', '1,605'], ['ferret', '3', '2', '1', '0'], ['fox', '3', '0', '0', '3'], ['goat', '12', '10', '2', '0'], ['guinea pig', '15', '7', '7', '1'], ['horse', '26', '20', '6', '0'], ['rabbit', '8', '6', '2', '0'], ['sheep', '1', '0', '1', '0']]\n",
      "[['bat', '195', '0', '0', '165'], ['bird', '385', '61', '6', '127'], ['cat', '7,980', '1,065', '223', '6,508'], ['coyote', '3', '0', '0', '3'], ['deer', '86', '0', '0', '65'], ['dog', '9,669', '2,838', '1,677', '5,076'], ['ferret', '17', '12', '0', '5'], ['fish', '11', '8', '1', '0'], ['fox', '37', '0', '0', '29'], ['goat', '25', '14', '7', '5'], ['horse', '11', '8', '2', '0'], ['muskrat', '1', '0', '0', '0'], ['opossum', '194', '0', '0', '81'], ['otter', '1', '0', '0', '1'], ['pig', '18', '1', '0', '0']]\n",
      "[['bird', '2', '2', '0', '0'], ['cat', '574', '184', '6', '414'], ['dog', '645', '341', '51', '229'], ['ferret', '1', '1', '0', '0'], ['guinea pig', '3', '0', '0', '0'], ['horse', '1', '0', '0', '0'], ['rabbit', '5', '0', '0', '0']]\n",
      "[['cat', '430', '0', '0', '430'], ['dog', '708', '0', '51', '657'], ['opossum', '15', '0', '0', '15'], ['raccoon', '25', '0', '0', '25'], ['skunk', '3', '0', '0', '3']]\n",
      "[['bat', '5', '0', '0', '5'], ['cat', '2,128', '474', '117', '1,426'], ['dog', '1,900', '523', '651', '687'], ['fox', '1', '0', '0', '1'], ['opossum', '5', '0', '0', '5'], ['other', '1', '1', '0', '0'], ['rabbit', '12', '9', '0', '3'], ['raccoon', '20', '0', '0', '20']]\n",
      "[['bat', '2', '0', '0', '2'], ['bird', '1', '0', '1', '0'], ['cat', '3,441', '349', '74', '3,018'], ['dog', '3,703', '1,298', '583', '1,822'], ['ferret', '7', '7', '0', '0'], ['goat', '6', '6', '0', '0'], ['guinea pig', '5', '5', '0', '0'], ['horse', '4', '4', '0', '0'], ['opossum', '2', '0', '2', '0'], ['parakeet', '1', '1', '0', '0'], ['pig', '2', '0', '2', '0'], ['pot belly pig', '1', '0', '0', '1'], ['rabbit', '17', '17', '0', '0'], ['raccoon', '28', '0', '0', '28'], ['snake', '3', '2', '1', '0']]\n",
      "[['cat', '1,033', '74', '9', '940'], ['dog', '1,427', '144', '62', '1,221'], ['fox', '1', '0', '0', '1'], ['horse', '1', '1', '0', '0']]\n",
      "[['bat', '1', '0', '0', '1'], ['cat', '1,883', '317', '17', '1,428'], ['dog', '2,637', '654', '259', '1,463'], ['fox', '1', '0', '0', '1'], ['other', '1', '0', '0', '1'], ['rabbit', '2', '2', '0', '0'], ['raccoon', '1', '0', '0', '1']]\n",
      "[['beaver', '0', '0', '1', '0'], ['bobcat', '0', '0', '0', '1'], ['cat', '1,336', '197', '3', '1,063'], ['chicken', '0', '0', '2', '0'], ['dog', '2,914', '402', '110', '2,383'], ['goat', '0', '1', '2', '0'], ['opossum', '0', '0', '12', '1'], ['raccoon', '2', '0', '1', '0']]\n",
      "[['bat', '54', '0', '0', '43'], ['bird', '2', '0', '1', '1'], ['buzzard', '2', '0', '1', '0'], ['cat', '4,079', '133', '16', '3,480'], ['chicken', '1', '1', '0', '0'], ['cow', '1', '1', '0', '0'], ['coyote', '1', '0', '0', '1'], ['deer', '5', '0', '0', '3'], ['dog', '3,604', '613', '341', '2,422'], ['duck', '1', '1', '0', '0'], ['ferret', '1', '1', '0', '0'], ['fox', '10', '0', '0', '7'], ['goat', '13', '0', '12', '0'], ['groundhog', '3', '0', '0', '3'], ['guinea pig', '1', '1', '0', '0'], ['horse', '1', '1', '0', '0']]\n",
      "[['mouse', '1', '0', '1', '0'], ['opossum', '24', '0', '7', '17'], ['owl', '2', '0', '2', '0'], ['pig', '6', '6', '0', '0'], ['pigeon', '6', '6', '0', '0'], ['rabbit', '5', '3', '0', '1'], ['raccoon', '51', '0', '0', '47'], ['sheep', '1', '0', '0', '0'], ['skunk', '16', '0', '0', '6'], ['snake', '9', '0', '9', '0'], ['turkey', '1', '0', '0', '1']]\n",
      "[['cat', '1,932', '70', '9', '1,761'], ['dog', '3,075', '344', '62', '2,482'], ['other', '10', '0', '10', '0']]\n",
      "[['bat', '6', '0', '0', '6'], ['bird', '19', '15', '', '4'], ['cat', '3,571', '198', '17', '3,292'], ['cow', '1', '1', '0', '0'], ['deer', '7', '5', '0', '2'], ['dog', '3,234', '556', '306', '2,222'], ['ferret', '9', '7', '', '1'], ['fox', '5', '0', '0', '2'], ['goat', '3', '2', '0', '1'], ['opossum', '26', '0', '0', '26'], ['pig', '3', '3', '0', '0'], ['rabbit', '18', '0', '0', '0'], ['raccoon', '47', '0', '0', '39'], ['rodent', '20', '12', '0', '8']]\n",
      "[['bat', '6', '0', '0', '6'], ['bird', '19', '15', '0', '4'], ['cat', '3,571', '198', '17', '3,292'], ['cow', '1', '1', '0', '0'], ['coyote', '1', '0', '0', '1'], ['deer', '7', '5', '', '2'], ['dog', '3,234', '556', '306', '2,222'], ['ferret', '9', '7', '0', '1'], ['fox', '5', '0', '0', '2'], ['goat', '3', '2', '0', '1'], ['opossum', '26', '0', '0', '26'], ['pig', '3', '3', '0', '0'], ['rabbit', '18', '0', '0', '0'], ['raccoon', '47', '0', '0', '39'], ['rodent', '20', '12', '0', '8']]\n",
      "[['cat', '633', '146', '25', '307'], ['dog', '845', '275', '153', '67'], ['other', '1', '0', '0', '1']]\n",
      "[['cat', '513', '116', '5', '352'], ['dog', '609', '311', '53', '212']]\n"
     ]
    }
   ],
   "source": [
    "import pdfplumber\n",
    "\n",
    "with pdfplumber.open(\"Summaryreport2008fromDHHS.pdf\") as pdf:\n",
    "    for page in pdf.pages:\n",
    "        # Extract the table\n",
    "        table = page.extract_table()\n",
    "        print(table)\n",
    "        "
   ]
  },
  {
   "cell_type": "code",
   "execution_count": null,
   "id": "2e563e32-7a36-4add-ad7f-d6396089977b",
   "metadata": {},
   "outputs": [],
   "source": []
  },
  {
   "cell_type": "code",
   "execution_count": null,
   "id": "78e2a1b5-7948-40bc-89b9-b6e5f4c8de53",
   "metadata": {},
   "outputs": [],
   "source": []
  },
  {
   "cell_type": "code",
   "execution_count": null,
   "id": "047e9be6-cb93-4aef-b4a3-9bf6cb476249",
   "metadata": {},
   "outputs": [],
   "source": []
  },
  {
   "cell_type": "code",
   "execution_count": 3,
   "id": "b5ed2dce-2d6d-4692-a2fe-d4678355d744",
   "metadata": {},
   "outputs": [
    {
     "data": {
      "text/plain": [
       "'Full name Asheville Humane Society\\nDepartment\\n72 Lees Creek Rd\\nAsheville NC 28806\\nspecies # into shelter # adopted out # returned to owner # euthanizedtotal operating expenses\\ncost per animal handled$1,258,398.00\\n$75.68 ID # 7\\nbird 60 15 0 13\\ncat 4155 660 74 3193\\ndog 5080 1259 615 3037\\nferret 12 4 0 4\\nfish 29 1 20 0\\nfox 6 0 0 5\\ngerbil 23 6 0 22\\ngoat 8 1 0 1\\ngroundhog 1 0 0 1\\nguinea pig 28 10 0 15\\nhamster 22 2 0 15\\nlivestock 14 0 10 0\\nmouse 24 10 0 16\\nopossum 16 0 0 14\\npotbelly pig 4 1 0 1\\npython 1 1 0 0\\nrabbit 39 8 0 35\\nraccoon 74 0 0 69\\nsalamander 0 1 0 0\\nskunk 2 0 0 2\\nsquirrel 7 0 0 5\\ntarantula 0 1 0 0\\nTuesday, January 03, 2012 Page 2 of 34'"
      ]
     },
     "execution_count": 3,
     "metadata": {},
     "output_type": "execute_result"
    }
   ],
   "source": [
    "### Reading in PDF Data\n",
    "from PyPDF2 import PdfReader\n",
    "\n",
    "reader = PdfReader(\"Summaryreport2001fromDHHS.pdf\")\n",
    "#page = reader.pages[0]\n",
    "#print(page.extract_text())\n",
    "\n",
    "reader.pages[1].extract_text()"
   ]
  },
  {
   "cell_type": "code",
   "execution_count": 4,
   "id": "2926a967-952e-431a-a15a-0aa99de31a85",
   "metadata": {},
   "outputs": [],
   "source": [
    "from PyPDF2 import PdfReader\n",
    "\n",
    "def combinePDFPages(pdf_file, date_str, num_of_page_str):\n",
    "    reader = PdfReader(pdf_file)\n",
    "\n",
    "    final_page = False\n",
    "    page_num = 0\n",
    "    combined_pdf = \"\"\n",
    "    try:\n",
    "        while final_page == False:\n",
    "            pdf_text = reader.pages[page_num].extract_text()\n",
    "            pdf_text = pdf_text.replace(date_str, \"\")\n",
    "            pdf_text = pdf_text.replace(num_of_page_str, \"\")\n",
    "            pdf_text = pdf_text.replace(\"Page\" + \" \" + str(page_num + 1), \"\")\n",
    "            pdf_text = pdf_text.replace(\"\\n  \", \"\\n\")\n",
    "            combined_pdf += pdf_text\n",
    "            page_num += 1\n",
    "    except IndexError:\n",
    "        final_page = True\n",
    "\n",
    "    return combined_pdf"
   ]
  },
  {
   "cell_type": "code",
   "execution_count": 5,
   "id": "2574cccd-8bf7-49d1-a019-e82049749f9c",
   "metadata": {},
   "outputs": [],
   "source": [
    "pdf_2001_combined = combinePDFPages(\"Summaryreport2001fromDHHS.pdf\", \"Tuesday, January 03, 2012\", \"of 34\")\n",
    "pdf_2002_combined = combinePDFPages(\"Summaryreport2002fromDHHS.pdf\", \"03-Jan-12\", \"of 47\")\n",
    "pdf_2003_combined = combinePDFPages(\"Summaryreport2003fromDHHS.pdf\", \"03-Jan-12\", \"of 43\")\n",
    "pdf_2004_combined = combinePDFPages(\"Summaryreport2004fromDHHS.pdf\", \"03-Jan-12\", \"of 50\")\n",
    "pdf_2005_combined = combinePDFPages(\"Summaryreport2005fromDHHS.pdf\", \"03-Jan-12\", \"of 42\")\n",
    "pdf_2006_combined = combinePDFPages(\"Summaryreport2006fromDHHS.pdf\", \"03-Jan-12\", \"of 31\")\n",
    "pdf_2007_combined = combinePDFPages(\"Summaryreport2007fromDHHS.pdf\", \"03-Jan-12\", \"of 29\")\n",
    "pdf_2008_combined = combinePDFPages(\"Summaryreport2008fromDHHS.pdf\", \"03-Jan-12\", \"of 34\")\n",
    "pdf_2009_combined = combinePDFPages(\"Summaryreport2009fromDHHS.pdf\", \"03-Jan-12\", \"of 37\")"
   ]
  },
  {
   "cell_type": "markdown",
   "id": "c5dc4ce3-e1d4-4225-86f1-bc516c2fe0a8",
   "metadata": {},
   "source": [
    "### Second Attempt"
   ]
  },
  {
   "cell_type": "code",
   "execution_count": 34,
   "id": "6d015ec7-60f6-42ae-a0ca-590fd2aeeda0",
   "metadata": {},
   "outputs": [
    {
     "name": "stdout",
     "output_type": "stream",
     "text": [
      "Species: cat, Total Intake: 50, Adopted: 44, Returned: 0, Euthanized: 6\n",
      "Species: dog, Total Intake: 460, Adopted: 187, Returned: 33, Euthanized: 240\n",
      "Species: equine, Total Intake: 1, Adopted: 0, Returned: 1, Euthanized: 0\n"
     ]
    }
   ],
   "source": [
    "data_list = [' Alleghany County Animal Control', 'Department co/ Public Works', 'PO Box 366', 'Sparta NC 28675', 'species # into shelter # adopted out # returned to owner # euthanizedtotal operating expenses', 'cost per animal handled$9,826.85', '$19.23 ID # 4', 'cat 50 44 0 6', 'dog 460 187 33 240', 'equine 1 0 1 0', '']\n",
    "\n",
    "# Extract the last three entries\n",
    "relevant_entries = data_list[-4:-1]\n",
    "\n",
    "# Define a function to parse each entry\n",
    "def parse_entry(entry):\n",
    "    parts = entry.split()\n",
    "    species = parts[0]\n",
    "    numbers = [int(n) for n in parts[1:]]\n",
    "    return species, numbers\n",
    "\n",
    "# Parse and store the data\n",
    "extracted_data = [parse_entry(entry) for entry in relevant_entries]\n",
    "\n",
    "for species, numbers in extracted_data:\n",
    "    print(f\"Species: {species}, Total Intake: {numbers[0]}, Adopted: {numbers[1]}, Returned: {numbers[2]}, Euthanized: {numbers[3]}\")"
   ]
  },
  {
   "cell_type": "code",
   "execution_count": 73,
   "id": "96a06dd8-01a3-4d3e-9d9e-3316bd18043b",
   "metadata": {},
   "outputs": [
    {
     "name": "stdout",
     "output_type": "stream",
     "text": [
      "[' Alleghany County Animal Control', 'Department co/ Public Works', 'PO Box 366', 'Sparta NC 28675', 'species # into shelter # adopted out # returned to owner # euthanizedtotal operating expenses', 'cost per animal handled$9,826.85', '$19.23 ID # 4', 'cat 50 44 0 6', 'dog 460 187 33 240', 'equine 1 0 1 0']\n"
     ]
    }
   ],
   "source": [
    "new_list = pdf_2001_combined.split(\"Full name\")[1].split(\"\\n\")[:-1]\n",
    "print(new_list)"
   ]
  },
  {
   "cell_type": "code",
   "execution_count": 70,
   "id": "3646ffcc-6120-4dd1-87a9-0835e04ec939",
   "metadata": {},
   "outputs": [
    {
     "name": "stdout",
     "output_type": "stream",
     "text": [
      "['first', 'second', 'third']\n"
     ]
    }
   ],
   "source": [
    "your_list = ['first', 'second', 'third', 'last']\n",
    "your_list.pop()  # This removes the last item 'last'\n",
    "\n",
    "print(your_list)"
   ]
  },
  {
   "cell_type": "code",
   "execution_count": 78,
   "id": "bf404b13-7ef2-4dc0-85c6-1807fa64f00a",
   "metadata": {
    "collapsed": true,
    "jupyter": {
     "outputs_hidden": true
    },
    "tags": []
   },
   "outputs": [
    {
     "data": {
      "text/plain": [
       "'Animal Shelter Reporting Data \\nfor calendar year 2009\\nBurlington Animal Shelter\\n215 Stone Quarry Rd Haw River NC 27258\\nspecies # into shelter # adopted out # returned to owner # euthanizedtotal operating expenses\\ncost per animal handled$711,188.27\\n$82.23ID # 197county = Alamance\\ncat 4,541 274 47 3,913\\ndog 3,708 525 469 2,231\\nother 399 49 7 248\\nAnson County Animal Control\\nAnson County Health Dept\\nPO Box 473 Wadesboro NC 28170\\nspecies # into shelter # adopted out # returned to owner # euthanizedtotal operating expenses\\ncost per animal handled$45,702.61\\n$57.20ID # 5county = Anson\\ncat 222 0 0 222\\ndog 577 11 9 557\\nAvery County Humane Society Shelter\\nAvery County Contractor\\nPO Box 2474 Banner Elk NC 28604\\nspecies # into shelter # adopted out # returned to owner # euthanizedtotal operating expenses\\ncost per animal handled$300,130.91\\n$289.70ID # 167county = Avery\\ncat 439 124 4 300\\ndog 597 369 45 169\\nBertie County Animal Control\\nAnimal Control/Solid Waste\\nPO Box 530 Windsor NC 27983\\nspecies # into shelter # adopted out # returned to owner # euthanizedtotal operating expenses\\ncost per animal handled$83,023.00\\n$89.85ID # 10county = Bertie\\nSpay/Neuter Program, Div. of Public Health, NC DHHS\\nData is self-reported by animal shelters meeting the criteria set forth in the \"Spay/Neuter Law\"  (GS 19A-60 to 65)Bertie County Animal Control\\nAnimal Control/Solid Waste\\nPO Box 530 Windsor NC 27983\\nspecies # into shelter # adopted out # returned to owner # euthanizedtotal operating expenses\\ncost per animal handled$83,023.00\\n$89.85ID # 10county = Bertie\\ncat 432 23 1 368\\ndog 492 49 23 235\\nBladen County Animal Control\\nBladen County Health Dept\\nPO Box 189 Elizabethtown NC 28337\\nspecies # into shelter # adopted out # returned to owner # euthanizedtotal operating expenses\\ncost per animal handled$99,617.38\\n$42.12ID # 11county = Bladen\\ncat 886 254 382 250\\ndog 2,130 1,941 43 146\\nother 0 0 0 0\\nBrunswick County Animal Services\\nBrunswick County Health Dept\\nPO Box 92 Supply NC 28462\\nspecies # into shelter # adopted out # returned to owner # euthanizedtotal operating expenses\\ncost per animal handled$835,694.42\\n$131.79ID # 12county = Brunswick\\ncat 3,446 286 15 3,076\\nchicken 18 14 0 0\\ncoyote 1 0 0 1\\ndog 2,521 466 248 1,763\\nduck 61 0 0 0\\nferret 2 2 0 0\\nfox 12 0 0 10\\ngoat 18 4 10 4\\nhorse 6 1 2 2\\nSpay/Neuter Program, Div. of Public Health, NC DHHS\\nData is self-reported by animal shelters meeting the criteria set forth in the \"Spay/Neuter Law\"  (GS 19A-60 to 65)Brunswick County Animal Services\\nBrunswick County Health Dept\\nPO Box 92 Supply NC 28462\\nspecies # into shelter # adopted out # returned to owner # euthanizedtotal operating expenses\\ncost per animal handled$835,694.42\\n$131.79ID # 12county = Brunswick\\nopossum 128 0 0 46\\npig 4 2 2 0\\nrabbit 8 6 2 0\\nraccoon 116 0 0 105\\nBuncombe/Asheville Humane Society\\n72 Lees Creek Rd Asheville NC 28806\\nspecies # into shelter # adopted out # returned to owner # euthanizedtotal operating expenses\\ncost per animal handled$1,027,792.00\\n$144.00ID # 7county = Buncombe\\nbat 20 0 0 15\\nbird 4 1 0 1\\ncat 3,465 637 70 2,642\\nchicken 19 9 0 8\\ncow 2 0 2 0\\ncoyote 1 0 0 1\\ndeer 1 0 0 1\\ndog 3,398 991 621 1,521\\nduck 2 0 0 0\\nferret 12 5 0 2\\nfox 4 0 0 4\\ngerbil 9 2 0 7\\ngoat 14 7 9 1\\ngroundhog 4 0 0 3\\nSpay/Neuter Program, Div. of Public Health, NC DHHS\\nData is self-reported by animal shelters meeting the criteria set forth in the \"Spay/Neuter Law\"  (GS 19A-60 to 65)Buncombe/Asheville Humane Society\\n72 Lees Creek Rd Asheville NC 28806\\nspecies # into shelter # adopted out # returned to owner # euthanizedtotal operating expenses\\ncost per animal handled$1,027,792.00\\n$144.00ID # 7county = Buncombe\\nguinea pig 13 3 0 5\\nhamster 11 1 0 9\\nhawk 1 0 0 0\\nhorse 6 0 2 1\\niguana 1 1 0 0\\nopossum 16 0 0 14\\npig 2 1 0 0\\npigeon 1 0 0 1\\nrabbit 26 0 0 4\\nraccoon 64 0 0 52\\nrat 11 1 0 9\\nsheep 1 0 0 1\\nskunk 2 0 0 0\\nsquirrel 7 0 0 6\\nturkey 2 0 0 2\\nwolf 3 0 0 3\\nBurke County Animal Shelter\\nBurke County Sheriff\\'s Dept\\n150 Government Dr Morganton NC 28655\\nspecies # into shelter # adopted out # returned to owner # euthanizedtotal operating expenses\\ncost per animal handled$254,000.00\\n$41.46ID # 13county = Burke\\ncat 2,935 131 5 2,799\\ndog 3,191 778 199 2,214\\nSpay/Neuter Program, Div. of Public Health, NC DHHS\\nData is self-reported by animal shelters meeting the criteria set forth in the \"Spay/Neuter Law\"  (GS 19A-60 to 65)Cabarrus County Animal Control\\nCabarrus County Sheriff\\'s Dept\\nPO Box 525 Concord NC 28026-0525\\nspecies # into shelter # adopted out # returned to owner # euthanizedtotal operating expenses\\ncost per animal handled$700,000.00\\n$7.01ID # 14county = Cabarrus\\ncat 1,907 81 11 1,693\\ndog 2,075 238 375 1,385\\nferret 2 0 0 0\\nraccoon 36 0 0 0\\nCaldwell County Animal Control\\nPO Box 2200 Lenoir NC 28645\\nspecies # into shelter # adopted out # returned to owner # euthanizedtotal operating expenses\\ncost per animal handled$449,453.01\\n$80.62ID # 15county = Caldwell\\nbat 3 0 0 1\\nbobcat 1 0 0 0\\ncat 2,708 55 13 2,599\\ndog 2,756 163 231 2,300\\nfox 1 0 0 0\\ngoat 5 4 0 1\\nhorse 1 0 1 0\\nopossum 12 0 0 2\\nopossum 12 0 0 12\\nrabbit 4 1 0 3\\nrabbit 4 1 0 3\\nraccoon 14 0 0 9\\nrat 2 0 0 2\\nrooster 66 0 0 56\\nSpay/Neuter Program, Div. of Public Health, NC DHHS\\nData is self-reported by animal shelters meeting the criteria set forth in the \"Spay/Neuter Law\"  (GS 19A-60 to 65)Caldwell County Animal Control\\nPO Box 2200 Lenoir NC 28645\\nspecies # into shelter # adopted out # returned to owner # euthanizedtotal operating expenses\\ncost per animal handled$449,453.01\\n$80.62ID # 15county = Caldwell\\nskunk 2 0 0 2\\nCarteret County Humane Society Animal Shel\\nHumane Society of Carteret Co.\\nPO Box 357 Newport NC 28570\\nspecies # into shelter # adopted out # returned to owner # euthanizedtotal operating expenses\\ncost per animal handled$281,007.00\\n$62.94ID # 122county = Carteret\\ncat 2,977 236 92 2,233\\ndog 1,479 730 270 439\\nhamster 5 5 0 0\\nrabbit 3 3 0 0\\nsheep 1 1 0 0\\nAnimal Protection Society of the Northern Pie\\nCaswell County Animal Control\\nPO Box 193 Yanceyville NC 27379\\nspecies # into shelter # adopted out # returned to owner # euthanizedtotal operating expenses\\ncost per animal handled$110,000.00\\n$51.74ID # 18county = Caswell\\nbat 1 0 0 1\\ncat 968 224 10 724\\nchicken 20 20 0 0\\ndog 1,119 702 70 393\\ngroundhog 1 0 0 1\\nguinea pig 4 4 0 0\\nhamster 8 6 0 2\\nmouse 1 0 0 1\\nSpay/Neuter Program, Div. of Public Health, NC DHHS\\nData is self-reported by animal shelters meeting the criteria set forth in the \"Spay/Neuter Law\"  (GS 19A-60 to 65)Animal Protection Society of the Northern Pie\\nCaswell County Animal Control\\nPO Box 193 Yanceyville NC 27379\\nspecies # into shelter # adopted out # returned to owner # euthanizedtotal operating expenses\\ncost per animal handled$110,000.00\\n$51.74ID # 18county = Caswell\\nowl 1 0 0 0\\nrabbit 3 3 0 0\\nChatham County Animal Control\\nChatham County Health Dept\\n725 County Landfill Rd Pittsboro NC 27312\\nspecies # into shelter # adopted out # returned to owner # euthanizedtotal operating expenses\\ncost per animal handled$494,922.11\\n$179.38ID # 21county = Chatham\\nbat 11 0 0 0\\ncat 1,369 229 12 994\\ndeer 1 0 0 0\\ndog 1,350 416 113 696\\nfox 4 0 0 0\\ngoat 1 0 0 0\\nopossum 15 0 0 0\\npeacock 2 0 0 0\\nrabbit 1 0 0 0\\nraccoon 4 0 0 0\\nskunk 1 0 0 0\\nTri-County Shelter\\nChowan-Gates-Perquimans Counties\\n138 Icaria Rd Tyner NC 27980\\nspecies # into shelter # adopted out # returned to owner # euthanizedtotal operating expenses\\ncost per animal handled$136,550.00\\n$51.70ID # 23county = Chowan\\nbird 1 0 1 0\\nSpay/Neuter Program, Div. of Public Health, NC DHHS\\nData is self-reported by animal shelters meeting the criteria set forth in the \"Spay/Neuter Law\"  (GS 19A-60 to 65)Tri-County Shelter\\nChowan-Gates-Perquimans Counties\\n138 Icaria Rd Tyner NC 27980\\nspecies # into shelter # adopted out # returned to owner # euthanizedtotal operating expenses\\ncost per animal handled$136,550.00\\n$51.70ID # 23county = Chowan\\ncat 1,389 116 13 1,237\\ndeer 1 0 0 1\\ndog 1,221 198 172 755\\nferret 1 1 0 0\\nfox 1 0 0 1\\nguinea pig 1 1 0 0\\nhamster 2 2 0 0\\nhorse 2 2 0 0\\nopossum 6 0 6 0\\nparakeet 3 3 0 0\\nrabbit 5 5 0 0\\nraccoon 6 0 0 6\\nrooster 1 1 0 0\\nsnake 1 0 0 1\\nCleveland County Animal Control\\nCleveland County Animal Shelter\\n315 E Grover St Shelby NC 28150-3998\\nspecies # into shelter # adopted out # returned to owner # euthanizedtotal operating expenses\\ncost per animal handled$590,869.00\\n$86.21ID # 48county = Cleveland\\nbat 26 0 0 26\\nbuzzard 1 1 0 0\\ncat 3,150 7 21 3,134\\nchicken 1 1 0 0\\nSpay/Neuter Program, Div. of Public Health, NC DHHS\\nData is self-reported by animal shelters meeting the criteria set forth in the \"Spay/Neuter Law\"  (GS 19A-60 to 65)Cleveland County Animal Control\\nCleveland County Animal Shelter\\n315 E Grover St Shelby NC 28150-3998\\nspecies # into shelter # adopted out # returned to owner # euthanizedtotal operating expenses\\ncost per animal handled$590,869.00\\n$86.21ID # 48county = Cleveland\\ncow 1 0 0 1\\ncoyote 1 0 0 1\\ndeer 2 0 0 2\\ndog 3,396 33 285 3,113\\nduck 2 2 0 0\\nferret 4 2 0 2\\nfox 16 0 0 16\\ngoat 8 3 1 4\\ngroundhog 13 0 0 13\\nguinea pig 1 0 0 1\\nguinea pig 1 1 0 0\\nhawk 1 1 0 0\\nopossum 88 0 0 88\\nowl 1 1 0 0\\npig 1 1 0 0\\npigeon 4 0 0 4\\nrabbit 4 0 0 4\\nraccoon 76 0 0 76\\nskunk 50 0 0 50\\nsquirrel 5 1 0 4\\nSpay/Neuter Program, Div. of Public Health, NC DHHS\\nData is self-reported by animal shelters meeting the criteria set forth in the \"Spay/Neuter Law\"  (GS 19A-60 to 65)Columbus County Animal Control\\n111 Washington Ave Whiteville NC 28472\\nspecies # into shelter # adopted out # returned to owner # euthanizedtotal operating expenses\\ncost per animal handled$198,130.00\\n$44.66ID # 49county = Columbus\\ncat 1,936 44 0 1,892\\ndog 2,501 1,574 19 908\\nCraven County Animal Rabies Control\\nCraven County Health Department\\nPO Box 12610 New Bern NC 28562\\nspecies # into shelter # adopted out # returned to owner # euthanizedtotal operating expenses\\ncost per animal handled$323,152.64\\n$51.53ID # 50county = Craven\\nbat 9 0 0 9\\ncat 3,595 197 19 3,341\\nchicken 28 0 0 14\\ndeer 2 0 0 0\\ndog 2,540 351 237 1,334\\nferret 3 0 1 2\\nfox 16 0 0 10\\nopossum 60 0 0 0\\notter 1 0 0 0\\nrabbit 2 0 0 2\\nCumberland County Animal Control\\nPO Drawer 1829 Fayetteville NC 28302\\nspecies # into shelter # adopted out # returned to owner # euthanizedtotal operating expenses\\ncost per animal handled$1,331,017.48\\n$106.17ID # 52county = Cumberland\\ncat 5,131 250 29 4,678\\ndog 7,405 804 635 5,532\\nSpay/Neuter Program, Div. of Public Health, NC DHHS\\nData is self-reported by animal shelters meeting the criteria set forth in the \"Spay/Neuter Law\"  (GS 19A-60 to 65)Currituck County Humane Society & Animal \\nPO Box 266 Currituck NC 27929\\nspecies # into shelter # adopted out # returned to owner # euthanizedtotal operating expenses\\ncost per animal handled$0.00\\n$0.00ID # 174county = Currituck\\ncat 1,154 295 26 596\\ndog 470 201 132 137\\nrabbit 3 3 0 0\\nThe Outer Banks SPCA Animal Shelter\\nPO Box 1000 Manteo NC 27954\\nspecies # into shelter # adopted out # returned to owner # euthanizedtotal operating expenses\\ncost per animal handled$207,479.00\\n$115.72ID # 129county = Dare\\nbird 8 6 2 0\\ncat 1,159 136 31 962\\ndog 626 189 241 182\\nferret 3 3 0 0\\nguinea pig 1 1 0 0\\niguana 1 1 0 0\\nrabbit 3 2 0 1\\nDavidson County Animal Control\\n490 Glendale Rd Lexington NC 27292\\nspecies # into shelter # adopted out # returned to owner # euthanizedtotal operating expenses\\ncost per animal handled$281,836.79\\n$35.01ID # 54county = Davidson\\ncat 4,060 102 59 3,899\\nchicken 6 6 0 0\\ndog 3,936 396 426 3,114\\ngoat 5 5 0 0\\nSpay/Neuter Program, Div. of Public Health, NC DHHS\\nData is self-reported by animal shelters meeting the criteria set forth in the \"Spay/Neuter Law\"  (GS 19A-60 to 65)Davidson County Animal Control\\n490 Glendale Rd Lexington NC 27292\\nspecies # into shelter # adopted out # returned to owner # euthanizedtotal operating expenses\\ncost per animal handled$281,836.79\\n$35.01ID # 54county = Davidson\\nopossum 18 0 0 18\\npig 2 2 0 0\\nraccoon 10 0 10\\nDavie County Animal Control\\nDavie County\\n718 Milling Road Mocksville NC 27028\\nspecies # into shelter # adopted out # returned to owner # euthanizedtotal operating expenses\\ncost per animal handled$0.00\\n$0.00ID # 55county = Davie\\ncat 999 29 8 962\\ndog 1,034 191 77 766\\nfox 1 0 0 1\\ngoat 1 0 1 0\\npig 1 0 1 0\\nraccoon 5 0 0 5\\nskunk 6 0 0 6\\nDuplin County Animal Control\\nDuplin County Manager\\'s Office\\nPO Box 910 Kenansville NC 28349\\nspecies # into shelter # adopted out # returned to owner # euthanizedtotal operating expenses\\ncost per animal handled$140,000.00\\n$61.05ID # 56county = Duplin\\ncat 632 109 12 511\\ndog 1,661 579 121 961\\nSpay/Neuter Program, Div. of Public Health, NC DHHS\\nData is self-reported by animal shelters meeting the criteria set forth in the \"Spay/Neuter Law\"  (GS 19A-60 to 65)The Animal Protection Society of Durham\\n2117 E Club Blvd Durham NC 27704\\nspecies # into shelter # adopted out # returned to owner # euthanizedtotal operating expenses\\ncost per animal handled$832,312.00\\n$119.52ID # 121county = Durham\\nbat 53 0 0 52\\nbird 53 30 0 19\\nbird 53 30 0 0\\ncat 2,654 435 40 2,085\\ndeer 4 0 0 4\\ndog 3,975 771 452 2,685\\nferret 10 10 1 0\\nfish 16 7 0 0\\nfox 11 0 0 10\\nlivestock 7 1 3 0\\nopossum 13 5 0 6\\nrabbit 29 22 0 7\\nraccoon 49 0 0 47\\nreptile 12 10 0 0\\nrodent 78 34 1 38\\nEdgecombe/City of Tarboro Animal Control\\nDept. of Public Works\\nPO Box 220 Tarboro NC 27886\\nspecies # into shelter # adopted out # returned to owner # euthanizedtotal operating expenses\\ncost per animal handled$60,481.41\\n$110.16ID # 45county = Edgecombe\\ncat 318 2 3 313\\ndog 231 11 27 193\\nSpay/Neuter Program, Div. of Public Health, NC DHHS\\nData is self-reported by animal shelters meeting the criteria set forth in the \"Spay/Neuter Law\"  (GS 19A-60 to 65)Edgecombe County Animal Control\\n2909 N Main St Tarboro NC 27886\\nspecies # into shelter # adopted out # returned to owner # euthanizedtotal operating expenses\\ncost per animal handled$212,644.20\\n$97.32ID # 58county = Edgecombe\\ncat 1,060 13 3 1,010\\ndog 1,125 102 25 985\\nForsyth County Animal Shelter\\n5570 Sturmer Park Circle Winston Salem NC 27105\\nspecies # into shelter # adopted out # returned to owner # euthanizedtotal operating expenses\\ncost per animal handled$1,972,658.00\\n$227.97ID # 59county = Forsyth\\ncat 3,664 311 55 3,257\\ndog 4,739 1,079 511 3,059\\nother 250 36 4 124\\nGaston County Animal Control\\nGaston County Police Dept\\nPO Box 479 Dallas NC 28034\\nspecies # into shelter # adopted out # returned to owner # euthanizedtotal operating expenses\\ncost per animal handled$947,325.00\\n$102.12ID # 61county = Gaston\\ncat 4,613 477 51 3,874\\ncrow 1 0 0 0\\ndeer 1 0 0 0\\ndog 4,548 2,354 387 1,739\\nfox 6 0 0 5\\ngoat 4 0 1 2\\ngoose 1 0 0 0\\ngroundhog 3 0 0 1\\nguinea pig 1 0 0 1\\nSpay/Neuter Program, Div. of Public Health, NC DHHS\\nData is self-reported by animal shelters meeting the criteria set forth in the \"Spay/Neuter Law\"  (GS 19A-60 to 65)Gaston County Animal Control\\nGaston County Police Dept\\nPO Box 479 Dallas NC 28034\\nspecies # into shelter # adopted out # returned to owner # euthanizedtotal operating expenses\\ncost per animal handled$947,325.00\\n$102.12ID # 61county = Gaston\\nhamster 1 0 0 1\\nhawk 2 0 0 0\\nhorse 1 0 1 0\\nopossum 14 0 0 9\\nother 1 0 0 0\\npigeon 2 0 0 0\\nrabbit 5 0 0 4\\nrat 3 0 0 2\\nskunk 3 0 0 2\\nsquirrel 5 0 0 2\\nwild bird 11 0 0 6\\nGranville County Animal Control\\nDept of Emergency Services\\nPO Box 1642 Oxford NC 27565\\nspecies # into shelter # adopted out # returned to owner # euthanizedtotal operating expenses\\ncost per animal handled$246,561.00\\n$72.45ID # 64county = Granville\\nbat 1 0 0 0\\ncat 1,576 79 73 1,424\\ndog 1,742 163 246 1,333\\nduck 1 0 0 0\\nferret 1 0 0 0\\nfox 4 0 0 4\\ngoat 1 0 1 0\\nSpay/Neuter Program, Div. of Public Health, NC DHHS\\nData is self-reported by animal shelters meeting the criteria set forth in the \"Spay/Neuter Law\"  (GS 19A-60 to 65)Granville County Animal Control\\nDept of Emergency Services\\nPO Box 1642 Oxford NC 27565\\nspecies # into shelter # adopted out # returned to owner # euthanizedtotal operating expenses\\ncost per animal handled$246,561.00\\n$72.45ID # 64county = Granville\\nguinea pig 1 0 0 0\\nopossum 46 0 0 0\\nraccoon 15 0 0 15\\nreptile 3 0 0 0\\nskunk 1 0 0 1\\nwolf 11 0 0 11\\nGreene County Animal Control\\nGreene County Health Dept\\n227 Kingold Blvd - Ste B Snow Hill NC 28580\\nspecies # into shelter # adopted out # returned to owner # euthanizedtotal operating expenses\\ncost per animal handled$135,808.39\\n$259.67ID # 65county = Greene\\ncat 249 10 2 237\\ndog 260 32 16 212\\nferret 2 2 0 0\\nfish 5 5 0 0\\nlizard 1 1 0 0\\nparakeet 4 4 0 0\\nparrot 1 1 0 0\\nsnake 1 1 0 0\\nHalifax County Env Health / Animal Control\\nAttn:  Jeff Dillard\\nPO Box 10 Halifax NC 27839\\nspecies # into shelter # adopted out # returned to owner # euthanizedtotal operating expenses\\ncost per animal handled$224,145.00\\n$61.58ID # 68county = Halifax\\nSpay/Neuter Program, Div. of Public Health, NC DHHS\\nData is self-reported by animal shelters meeting the criteria set forth in the \"Spay/Neuter Law\"  (GS 19A-60 to 65)Halifax County Env Health / Animal Control\\nAttn:  Jeff Dillard\\nPO Box 10 Halifax NC 27839\\nspecies # into shelter # adopted out # returned to owner # euthanizedtotal operating expenses\\ncost per animal handled$224,145.00\\n$61.58ID # 68county = Halifax\\ncat 1,525 136 21 1,362\\ndog 2,099 849 181 1,034\\nfox 2 0 0 2\\nopossum 2 0 0 0\\nraccoon 8 0 0 8\\nskunk 4 0 0 4\\nHarnett County Animal Shelter\\nAttn:  Tino Medina\\n1137 E Cornelius Harnett B Lillington NC 27546\\nspecies # into shelter # adopted out # returned to owner # euthanizedtotal operating expenses\\ncost per animal handled$388,571.00\\n$67.68ID # 70county = Harnett\\nbat 1 0 0 1\\nbird 14 4 1 0\\ncat 2,369 338 45 1,684\\nchicken 15 12 0 1\\ncow 17 0 17 0\\ndeer 3 0 0 3\\ndog 3,190 878 143 1,438\\nfox 10 0 0 10\\ngoat 9 2 2 0\\nhamster 3 2 0 0\\nhorse 16 5 10 1\\nopossum 31 0 0 1\\nSpay/Neuter Program, Div. of Public Health, NC DHHS\\nData is self-reported by animal shelters meeting the criteria set forth in the \"Spay/Neuter Law\"  (GS 19A-60 to 65)Harnett County Animal Shelter\\nAttn:  Tino Medina\\n1137 E Cornelius Harnett B Lillington NC 27546\\nspecies # into shelter # adopted out # returned to owner # euthanizedtotal operating expenses\\ncost per animal handled$388,571.00\\n$67.68ID # 70county = Harnett\\npig 17 1 0 1\\nrabbit 15 9 0 0\\nraccoon 13 0 0 9\\nsnake 6 0 0 0\\nsquirrel 12 0 0 0\\nHaywood County Animal Control\\n245 Hemlock Street Waynesville NC 28786\\nspecies # into shelter # adopted out # returned to owner # euthanizedtotal operating expenses\\ncost per animal handled$371,788.00\\n$37.00ID # 71county = Haywood\\nalligator 1 1 0 0\\nbat 3 0 0 3\\ncat 1,811 527 31 1,147\\ncow 2 0 0 2\\ndog 2,011 1,002 281 598\\nemu 2 0 0 2\\nfox 1 0 0 1\\ngoat 1 0 1 0\\ngroundhog 1 0 0 1\\nhorse 2 0 1 1\\niguana 1 0 1 0\\nraccoon 3 0 0 3\\nsnake 93 0 93 0\\nSpay/Neuter Program, Div. of Public Health, NC DHHS\\nData is self-reported by animal shelters meeting the criteria set forth in the \"Spay/Neuter Law\"  (GS 19A-60 to 65)Haywood County Animal Control\\n245 Hemlock Street Waynesville NC 28786\\nspecies # into shelter # adopted out # returned to owner # euthanizedtotal operating expenses\\ncost per animal handled$371,788.00\\n$37.00ID # 71county = Haywood\\nsquirrel 1 0 0 1\\nHenderson County Animal Control\\nHenderson County Health Dept\\n810 Stoney Mtn Rd Hendersonville NC 28791\\nspecies # into shelter # adopted out # returned to owner # euthanizedtotal operating expenses\\ncost per animal handled$540,192.00\\n$144.32ID # 72county = Henderson\\ncat 1,855 343 23 1,489\\nchicken 5 4 0 1\\ndog 1,863 758 385 720\\nduck 1 1 0 0\\nhorse 8 8 0 0\\nrabbit 11 11 0 0\\nHoke County Animal Shelter\\nHoke County Animal Control\\nPO Box 728 Raeford NC 28376\\nspecies # into shelter # adopted out # returned to owner # euthanizedtotal operating expenses\\ncost per animal handled$242,920.00\\n$121.76ID # 74county = Hoke\\ncat 642 50 9 583\\ndog 1,351 170 171 937\\nferret 1 1 0 0\\nwolf hybrid 1 0 0 1\\nSpay/Neuter Program, Div. of Public Health, NC DHHS\\nData is self-reported by animal shelters meeting the criteria set forth in the \"Spay/Neuter Law\"  (GS 19A-60 to 65)Iredell County Animal Control\\n243 Twin Oaks Rd Statesville NC 28625\\nspecies # into shelter # adopted out # returned to owner # euthanizedtotal operating expenses\\ncost per animal handled$948,050.43\\n$137.59ID # 76county = Iredell\\nbat 18 0 0 8\\ncat 3,401 198 35 3,040\\nchicken 16 11 0 5\\ncockatiel 3 3 0 0\\ncow 1 0 1 0\\ncoyote 3 0 0 3\\ndeer 12 0 0 9\\ndog 3,158 560 396 2,069\\ndove 3 0 0 1\\nduck 3 1 0 1\\nferret 1 1 0 0\\nfox 4 0 0 3\\ngeese 2 0 0 0\\ngoat 58 56 0 1\\ngoose 1 0 0 0\\ngroundhog 6 0 0 4\\nguinea pig 3 3 0 0\\nhamster 3 3 0 0\\nhawk 5 0 0 3\\nhorse 18 6 9 1\\nlizard 1 0 0 1\\nopossum 27 0 0 18\\notter 1 0 0 1\\nSpay/Neuter Program, Div. of Public Health, NC DHHS\\nData is self-reported by animal shelters meeting the criteria set forth in the \"Spay/Neuter Law\"  (GS 19A-60 to 65)Iredell County Animal Control\\n243 Twin Oaks Rd Statesville NC 28625\\nspecies # into shelter # adopted out # returned to owner # euthanizedtotal operating expenses\\ncost per animal handled$948,050.43\\n$137.59ID # 76county = Iredell\\npot belly pig 9 9 0 0\\nrabbit 17 8 0 3\\nraccoon 50 0 0 32\\nrat 2 0 0 1\\nskunk 17 0 0 4\\nsong bird 7 0 0 6\\nsquirrel 4 0 0 2\\nJackson County Animal Control\\nJackson County Health Dept\\n538 Scotts Creek Rd Sylva NC 28779\\nspecies # into shelter # adopted out # returned to owner # euthanizedtotal operating expenses\\ncost per animal handled$203,493.83\\n$175.42ID # 77county = Jackson\\ncat 467 195 4 332\\ndog 660 286 81 277\\nother 30 0 0 2\\nCatman2 No-Kill-Shelter\\nPO Box 2344 Cullowhee NC 28723\\nspecies # into shelter # adopted out # returned to owner # euthanizedtotal operating expenses\\ncost per animal handled$42,000.00\\n$270.00ID # 124county = Jackson\\ncat 156 140 2 2\\nSpay/Neuter Program, Div. of Public Health, NC DHHS\\nData is self-reported by animal shelters meeting the criteria set forth in the \"Spay/Neuter Law\"  (GS 19A-60 to 65)Johnston County Animal Control\\n1320 N Brightleaf Blvd Smithfield NC 27577\\nspecies # into shelter # adopted out # returned to owner # euthanizedtotal operating expenses\\ncost per animal handled$459,000.00\\n$71.48ID # 78county = Johnston\\nbat 1 0 0 2\\nbird 9 4 2 0\\ncat 3,165 462 30 2,806\\ncow 1 1 0 0\\ndog 3,214 1,054 353 1,866\\nduck 11 0 15 0\\nferret 1 1 0 0\\nfox 1 0 0 1\\ngoat 4 4 0 0\\nhorse 10 7 3 0\\nopossum 1 0 0 1\\npig 2 2 0 0\\nsheep 1 1 0 0\\nLenoir County SPCA Animal Shelter\\nPO Box 1481 Kinston NC 28503\\nspecies # into shelter # adopted out # returned to owner # euthanizedtotal operating expenses\\ncost per animal handled$247,782.00\\n$68.52ID # 128county = Lenoir\\nbird 3 0 0 3\\ncat 1,580 213 3 1,257\\ndog 2,036 928 101 884\\nopossum 5 0 0 5\\nraccoon 1 0 0 1\\nSpay/Neuter Program, Div. of Public Health, NC DHHS\\nData is self-reported by animal shelters meeting the criteria set forth in the \"Spay/Neuter Law\"  (GS 19A-60 to 65)McDowell County Animal Control\\nMcDowell County Animal Shelter\\n60 E Court St Marion NC 28752\\nspecies # into shelter # adopted out # returned to owner # euthanizedtotal operating expenses\\ncost per animal handled$88,755.66\\n$31.90ID # 88county = McDowell\\ncat 1,247 270 3 1,091\\ndog 1,536 306 96 1,162\\nMitchell County Animal Shelter\\nPO Box 308 Spruce Pine NC 28777\\nspecies # into shelter # adopted out # returned to owner # euthanizedtotal operating expenses\\ncost per animal handled$87,733.02\\n$78.53ID # 89county = Mitchell\\ncat 534 166 3 357\\ncoyote 1 1 0 0\\ndog 581 382 35 154\\nferret 2 2 0 0\\ngoat 1 0 0 1\\nhamster 13 13 0 0\\nhorse 1 0 0 0\\nrabbit 5 5 0 0\\nMontgomery County Animal Control\\nc/o Laura Morton\\nPO Box 425 Troy NC 27371\\nspecies # into shelter # adopted out # returned to owner # euthanizedtotal operating expenses\\ncost per animal handled$0.00\\n$0.00ID # 90county = Montgomery\\ncat 668 0 0 668\\ndog 1,033 14 16 1,003\\nSpay/Neuter Program, Div. of Public Health, NC DHHS\\nData is self-reported by animal shelters meeting the criteria set forth in the \"Spay/Neuter Law\"  (GS 19A-60 to 65)Animal Center of Moore County\\nc/o Moore County Health Dept\\nPO Box 279 Carthage NC 28327\\nspecies # into shelter # adopted out # returned to owner # euthanizedtotal operating expenses\\ncost per animal handled$630,002.00\\n$130.40ID # 91county = Moore\\ncat 2,394 0 0 0\\ndog 2,402 0 0 0\\nhorse 35 0 0 0\\nCity of Rocky Mount Animal Control\\nRocky Mount Police Dept\\nPO Box 1180 Rocky Mount NC 27801\\nspecies # into shelter # adopted out # returned to owner # euthanizedtotal operating expenses\\ncost per animal handled$184,279.80\\n$73.93ID # 42county = Nash\\ncat 893 118 18 757\\ndog 1,498 480 213 805\\nother 102 90 12\\nNash County Animal Control\\nNash County Health Dept\\nPO Box 849 Nashville NC 27856\\nspecies # into shelter # adopted out # returned to owner # euthanizedtotal operating expenses\\ncost per animal handled$291,823.40\\n$93.92ID # 93county = Nash\\nbat 1 0 0 1\\nbird 2 0 1 1\\ncat 1,665 57 7 1,580\\nchicken 1 1 0 0\\ncockatiel 1 1 0 0\\ndog 1,390 189 99 1,084\\nfox 3 0 0 0\\ngoat 1 1 0 0\\nSpay/Neuter Program, Div. of Public Health, NC DHHS\\nData is self-reported by animal shelters meeting the criteria set forth in the \"Spay/Neuter Law\"  (GS 19A-60 to 65)Nash County Animal Control\\nNash County Health Dept\\nPO Box 849 Nashville NC 27856\\nspecies # into shelter # adopted out # returned to owner # euthanizedtotal operating expenses\\ncost per animal handled$291,823.40\\n$93.92ID # 93county = Nash\\ngroundhog 1 0 1 0\\nhorse 2 2 0 0\\nopossum 31 0 29 2\\npig 1 0 1 0\\nrabbit 2 0 0 1\\nraccoon 6 0 0 3\\nNew Hanover County Animal Control Service\\nNew Hanover County Health Dept\\n180 Division Dr Wilmington NC 28401\\nspecies # into shelter # adopted out # returned to owner # euthanizedtotal operating expenses\\ncost per animal handled$1,178,704.00\\n$209.00ID # 94county = New Hanover\\nbat 5 0 0 5\\ncat 1,982 403 91 1,428\\ndog 1,793 486 570 726\\nfox 9 0 0 9\\nopossum 9 0 0 9\\nother 24 18 2 4\\nrabbit 21 20 0 1\\nraccoon 38 0 0 38\\nOnslow County Animal Control\\n244 Georgetown Rd Jacksonville NC 28540\\nspecies # into shelter # adopted out # returned to owner # euthanizedtotal operating expenses\\ncost per animal handled$651,763.00\\n$94.00ID # 97county = Onslow\\nSpay/Neuter Program, Div. of Public Health, NC DHHS\\nData is self-reported by animal shelters meeting the criteria set forth in the \"Spay/Neuter Law\"  (GS 19A-60 to 65)Onslow County Animal Control\\n244 Georgetown Rd Jacksonville NC 28540\\nspecies # into shelter # adopted out # returned to owner # euthanizedtotal operating expenses\\ncost per animal handled$651,763.00\\n$94.00ID # 97county = Onslow\\nbat 2 0 2 0\\nbird 1 1 0 0\\ncat 3,356 1,193 1,537 626\\ndog 3,516 325 3,117 74\\nferret 6 3 1 2\\nfox 6 0 6 0\\ngoat 2 2 0 0\\nguinea pig 1 1 0 0\\nhorse 5 1 0 4\\nopossum 3 0 3 0\\npig 2 2 0 0\\npot belly pig 1 0 0 1\\nOrange County Animal Shelter\\nOrange County Animal Shelter\\n1081 Martin Luther King Jr Chapel Hill NC 27514\\nspecies # into shelter # adopted out # returned to owner # euthanizedtotal operating expenses\\ncost per animal handled$1,717,032.00\\n$405.24ID # 200county = Orange\\nbird 24 16 2 4\\nbird-domestic 24 16 2 4\\ncat 1,985 831 46 1,040\\ncat 1,985 831 46 1,040\\ndog 1,923 791 420 732\\nother 91 79 0 10\\nSpay/Neuter Program, Div. of Public Health, NC DHHS\\nData is self-reported by animal shelters meeting the criteria set forth in the \"Spay/Neuter Law\"  (GS 19A-60 to 65)Orange County Animal Shelter\\nOrange County Animal Shelter\\n1081 Martin Luther King Jr Chapel Hill NC 27514\\nspecies # into shelter # adopted out # returned to owner # euthanizedtotal operating expenses\\ncost per animal handled$1,717,032.00\\n$405.24ID # 200county = Orange\\nreptile 4 2 1 0\\nwildlife 200 11 25 110\\nThe SPCA of NE North Carolina\\nc/o Jo Ellen Smith\\nPO Box 1772 Elizabeth City NC 27906\\nspecies # into shelter # adopted out # returned to owner # euthanizedtotal operating expenses\\ncost per animal handled$228,454.51\\n$74.44ID # 131county = Pasquotank\\ncat 1,863 372 39 1,460\\ndog 1,206 625 257 382\\nPerson County Animal Control\\n2103 Chub Lake Rd Roxboro NC 27573\\nspecies # into shelter # adopted out # returned to owner # euthanizedtotal operating expenses\\ncost per animal handled$259,335.00\\n$106.81ID # 103county = Person\\ncat 1,038 37 5 996\\ndog 1,373 212 71 1,090\\nwildlife 17 0 0 17\\nPitt County Animal Control\\nPitt County Animal Shelter\\n1717 W 5th St Greenville NC 27834\\nspecies # into shelter # adopted out # returned to owner # euthanizedtotal operating expenses\\ncost per animal handled$514,520.00\\n$108.98ID # 104county = Pitt\\ncat 2,075 317 7 1,625\\ndog 2,641 570 226 1,590\\nferret 1 0 0 1\\nSpay/Neuter Program, Div. of Public Health, NC DHHS\\nData is self-reported by animal shelters meeting the criteria set forth in the \"Spay/Neuter Law\"  (GS 19A-60 to 65)Pitt County Animal Control\\nPitt County Animal Shelter\\n1717 W 5th St Greenville NC 27834\\nspecies # into shelter # adopted out # returned to owner # euthanizedtotal operating expenses\\ncost per animal handled$514,520.00\\n$108.98ID # 104county = Pitt\\nnutria 1 1 0 0\\nopossum 1 0 0 1\\nrabbit 1 1 0 0\\nraccoon 1 0 0 1\\nRichmond County Animal Control\\nRichmond County Health Dept\\n127 Caroline St Rockingham NC 28379\\nspecies # into shelter # adopted out # returned to owner # euthanizedtotal operating expenses\\ncost per animal handled$386,189.29\\n$84.15ID # 107county = Richmond\\ncat 1,609 214 10 1,366\\ndog 2,954 476 125 2,274\\nfox 1 0 1 0\\ngoat 3 0 3 0\\nhorse 1 0 1 0\\nopossum 4 0 3 0\\nopossum 1 0 0 0\\notter 1 0 1 0\\nowl 1 0 0 0\\nraccoon 1 0 0 1\\nsquirrel 3 0 3 0\\nSpay/Neuter Program, Div. of Public Health, NC DHHS\\nData is self-reported by animal shelters meeting the criteria set forth in the \"Spay/Neuter Law\"  (GS 19A-60 to 65)Robeson County Animal Control\\nRobeson County Health Dept\\n460 Country Club Blvd Lumberton NC 28358\\nspecies # into shelter # adopted out # returned to owner # euthanizedtotal operating expenses\\ncost per animal handled$222,236.40\\n$38.30ID # 109county = Robeson\\ncat 1,866 172 7 1,713\\ndog 3,936 1,011 86 2,843\\nCity of Stoneville Animal Control\\nattn: Kevin Baughn, City Manager, Admin Office\\n151 Smith St Stoneville NC 27048\\nspecies # into shelter # adopted out # returned to owner # euthanizedtotal operating expenses\\ncost per animal handled$0.00\\n$0.00ID # 164county = Rockingham\\ncat 0 0 5 0\\ndog 3 0 7 0\\nRowan County Animal Control\\nRowan County Health Dept\\n1811 E Innes St Salisbury NC 28146-6030\\nspecies # into shelter # adopted out # returned to owner # euthanizedtotal operating expenses\\ncost per animal handled$669,779.00\\n$84.00ID # 111county = Rowan\\nbat 32 0 0 25\\nbird 1 0 0 1\\ncat 4,232 101 21 3,525\\nchicken 1 0 0 1\\ncoyote 1 0 0 0\\ncrow 1 0 0 1\\ndeer 2 0 0 2\\ndog 3,499 440 352 2,600\\nduck 1 0 0 1\\nemu 1 0 1 0\\nSpay/Neuter Program, Div. of Public Health, NC DHHS\\nData is self-reported by animal shelters meeting the criteria set forth in the \"Spay/Neuter Law\"  (GS 19A-60 to 65)Rowan County Animal Control\\nRowan County Health Dept\\n1811 E Innes St Salisbury NC 28146-6030\\nspecies # into shelter # adopted out # returned to owner # euthanizedtotal operating expenses\\ncost per animal handled$669,779.00\\n$84.00ID # 111county = Rowan\\nferret 1 0 0 1\\nfox 6 0 0 3\\ngerbil 6 0 0 6\\ngoat 5 2 2 1\\ngroundhog 4 0 0 4\\nhawk 3 1 2 0\\nhorse 2 0 2 0\\nmule 1 1 0 0\\nopossum 57 0 36 13\\nowl 4 4 0 0\\nparrot 1 1 0 0\\npig 3 2 0 1\\npigeon 4 2 0 1\\nrabbit 1 0 0 1\\nraccoon 75 0 1 60\\nrat 1 0 0 1\\nskunk 9 0 0 3\\nsnake 7 0 7 0\\nsquirrel 2 0 1 0\\nturtle 1 0 1 0\\nSpay/Neuter Program, Div. of Public Health, NC DHHS\\nData is self-reported by animal shelters meeting the criteria set forth in the \"Spay/Neuter Law\"  (GS 19A-60 to 65)Rutherford County Animal Control\\nRutherford County Sheriff\\'s Dept\\n289 N Main St Rutherfordton NC 28139\\nspecies # into shelter # adopted out # returned to owner # euthanizedtotal operating expenses\\ncost per animal handled$179,975.00\\n$44.38ID # 112county = Rutherford\\ncat 1,791 0 0 1,621\\ndog 2,256 0 0 1,295\\nScotland Co. Humane Society\\n1401 West Blvd Laurinburg NC 28352\\nspecies # into shelter # adopted out # returned to owner # euthanizedtotal operating expenses\\ncost per animal handled$189,466.25\\n$101.37ID # 130county = Scotland\\ncat 533 93 18 427\\ndog 1,336 232 112 989\\nStokes County Animal Control\\nStokes County Animal Shelter\\n1999 Sizemore Rd Germanton NC 27019\\nspecies # into shelter # adopted out # returned to owner # euthanizedtotal operating expenses\\ncost per animal handled$177,201.00\\n$60.52ID # 116county = Stokes\\ncat 1,426 150 6 1,222\\ndog 1,502 310 95 1,026\\nSurry County Animal Control\\nSurry County Health Dept\\n118 Hamby Rd Dobson NC 27017\\nspecies # into shelter # adopted out # returned to owner # euthanizedtotal operating expenses\\ncost per animal handled$397,288.12\\n$86.18ID # 118county = Surry\\ncat 2,207 101 10 2,000\\ncow 10 1 0 0\\ndog 2,380 188 162 1,939\\nwildlife 13 0 1 2\\nSpay/Neuter Program, Div. of Public Health, NC DHHS\\nData is self-reported by animal shelters meeting the criteria set forth in the \"Spay/Neuter Law\"  (GS 19A-60 to 65)Transylvania County Animal Control\\nTransylvania Co. Health Dept\\n203 E Morgan St Brevard NC 28712\\nspecies # into shelter # adopted out # returned to owner # euthanizedtotal operating expenses\\ncost per animal handled$58,142.00\\n$54.13ID # 143county = Transylvania\\ncat 403 51 7 369\\ndog 671 300 31 331\\nUnion County Animal Shelter\\nUnion County Sheriff\\'s Office-Shelter\\n3340 Presson Rd Monroe NC 28112\\nspecies # into shelter # adopted out # returned to owner # euthanizedtotal operating expenses\\ncost per animal handled$1,058,983.00\\n$144.59ID # 146county = Union\\nbat 11 0 0 0\\nbat 6 0 0 6\\nbird 8 6 0 2\\nbird 19 15 0 4\\ncat 3,571 198 17 3,292\\ncat 3,952 255 20 3,605\\nchicken 1 0 0 1\\ncow 1 1 0 0\\ncow 2 0 2 0\\ncoyote 1 0 0 1\\ncoyote 1 0 0 0\\ndeer 7 5 0 2\\ndog 3,235 650 335 2,099\\nferret 9 7 0 1\\nfox 5 0 0 2\\nfox 3 0 0 2\\nSpay/Neuter Program, Div. of Public Health, NC DHHS\\nData is self-reported by animal shelters meeting the criteria set forth in the \"Spay/Neuter Law\"  (GS 19A-60 to 65)Union County Animal Shelter\\nUnion County Sheriff\\'s Office-Shelter\\n3340 Presson Rd Monroe NC 28112\\nspecies # into shelter # adopted out # returned to owner # euthanizedtotal operating expenses\\ncost per animal handled$1,058,983.00\\n$144.59ID # 146county = Union\\ngoat 7 4 2 0\\ngoat 3 2 0 1\\nhorse 3 1 2 0\\nopossum 22 0 0 20\\nopossum 26 0 0 26\\npig 3 3 0 0\\nrabbit 18 0 0 0\\nrabbit 19 17 2\\nraccoon 47 0 0 39\\nraccoon 44 0 0 37\\nrodent 20 12 0 8\\nrodent 15 7 0 4\\nskunk 1 0 0 0\\nThe Wake Co SPCA Animal Shelter\\n200 Petfinder Ln Raleigh NC 27603-6075\\nspecies # into shelter # adopted out # returned to owner # euthanizedtotal operating expenses\\ncost per animal handled$2,062,000.00\\n$345.57ID # 133county = Wake\\ncat 2,629 1,161 87 1,176\\ndog 3,049 1,434 651 831\\nother 248 17 2 163\\nrabbit 41 22 1 8\\nSpay/Neuter Program, Div. of Public Health, NC DHHS\\nData is self-reported by animal shelters meeting the criteria set forth in the \"Spay/Neuter Law\"  (GS 19A-60 to 65)Wake County Animal Control & Shelter\\nMike Williams Director\\nPO Box 550 Raleigh NC 27602\\nspecies # into shelter # adopted out # returned to owner # euthanizedtotal operating expenses\\ncost per animal handled$1,247,086.00\\n$107.15ID # 148county = Wake\\ncat 5,771 1,040 88 4,416\\ndog 5,980 2,719 700 1,895\\nother 388 248 5 73\\nWarren County Animal Shelter\\nWarren County Manager\\'s Office\\nPO Box 619 Warrenton NC 27589\\nspecies # into shelter # adopted out # returned to owner # euthanizedtotal operating expenses\\ncost per animal handled$214,534.00\\n$0.00ID # 149county = Warren\\ncat 595 80 3 499\\nchicken 1 1 0 0\\ndog 781 334 43 588\\nraccoon 2 0 0 2\\nWatauga County Animal Control\\nCourthouse Box 23 Boone NC 28607\\nspecies # into shelter # adopted out # returned to owner # euthanizedtotal operating expenses\\ncost per animal handled$144,285.00\\n$116.92ID # 151county = Watauga\\ncat 634 301 22 311\\ndog 595 463 65 67\\nfox 1 0 0 1\\nopossum 1 0 0 1\\nraccoon 3 0 0 3\\nSpay/Neuter Program, Div. of Public Health, NC DHHS\\nData is self-reported by animal shelters meeting the criteria set forth in the \"Spay/Neuter Law\"  (GS 19A-60 to 65)Wayne County Animal Control\\nPO Box 227 Goldsboro NC 27533-0227\\nspecies # into shelter # adopted out # returned to owner # euthanizedtotal operating expenses\\ncost per animal handled$1,008,628.00\\n$200.00ID # 153county = Wayne\\ncat 3,283 219 42 2,555\\ndog 3,657 701 261 1,592\\nfish 4 0 0 0\\nopossum 28 0 0 0\\nother 6 0 0 3\\nrabbit 3 0 0 0\\nraccoon 20 0 0 10\\nWilkes County Animal Control\\n408 Call St Wilkesboro NC 28697\\nspecies # into shelter # adopted out # returned to owner # euthanizedtotal operating expenses\\ncost per animal handled$521,218.00\\n$83.16ID # 154county = Wilkes\\nbat 5 0 0 5\\nbeaver 1 0 0 1\\ncat 2,994 204 22 1,622\\ndeer 1 0 0 1\\ndog 3,274 611 234 2,476\\nferret 1 1 0 0\\nfox 5 0 0 5\\ngeese 1 0 1 0\\ngoat 2 0 0 2\\ngroundhog 4 0 0 4\\nhorse 12 12 0 0\\nSpay/Neuter Program, Div. of Public Health, NC DHHS\\nData is self-reported by animal shelters meeting the criteria set forth in the \"Spay/Neuter Law\"  (GS 19A-60 to 65)Wilkes County Animal Control\\n408 Call St Wilkesboro NC 28697\\nspecies # into shelter # adopted out # returned to owner # euthanizedtotal operating expenses\\ncost per animal handled$521,218.00\\n$83.16ID # 154county = Wilkes\\nopossum 14 0 0 14\\nowl 1 0 1 0\\npot belly pig 5 0 0 5\\nrabbit 2 0 0 1\\nraccoon 30 0 0 30\\nrooster 2 0 3\\nskunk 10 0 0 10\\nsquirrel 1 0 0 1\\nWilson County Animal Control\\nWilson County Health Dept.\\n4001 Airport Dr Wilson NC 27893\\nspecies # into shelter # adopted out # returned to owner # euthanizedtotal operating expenses\\ncost per animal handled$541,101.62\\n$165.02ID # 155county = Wilson\\nbat 15 0 0 0\\ncat 1,424 98 15 1,291\\ndeer 1 1 0 0\\ndog 1,818 553 191 1,038\\nferret 3 3 0 0\\nhorse 9 8 0 1\\nopossum 3 3 0 0\\nrooster 2 2 0 0\\nsquirrel 3 3 0 0\\nturtle 1 1 0 0\\nSpay/Neuter Program, Div. of Public Health, NC DHHS\\nData is self-reported by animal shelters meeting the criteria set forth in the \"Spay/Neuter Law\"  (GS 19A-60 to 65)Yadkin County Animal Control\\nPO Box 1688 Yadkinville NC 27055\\nspecies # into shelter # adopted out # returned to owner # euthanizedtotal operating expenses\\ncost per animal handled$215,949.39\\n$107.60ID # 156county = Yadkin\\ncat 1,176 7 2 1,167\\ndog 831 53 75 703\\nYancey County Animal Shelter\\nYancey County Humane Society\\nPO Box 1016 Burnsville NC 28714\\nspecies # into shelter # adopted out # returned to owner # euthanizedtotal operating expenses\\ncost per animal handled$202,454.17\\n$188.86ID # 157county = Yancey\\ncat 567 169 1 391\\ndog 505 289 55 177\\nSpay/Neuter Program, Div. of Public Health, NC DHHS\\nData is self-reported by animal shelters meeting the criteria set forth in the \"Spay/Neuter Law\"  (GS 19A-60 to 65)'"
      ]
     },
     "execution_count": 78,
     "metadata": {},
     "output_type": "execute_result"
    }
   ],
   "source": [
    "pdf_2009_combined"
   ]
  },
  {
   "cell_type": "code",
   "execution_count": 92,
   "id": "bc0d93f0-112e-4342-a90b-18a57b457218",
   "metadata": {},
   "outputs": [
    {
     "name": "stdout",
     "output_type": "stream",
     "text": [
      "guinea pig\n",
      "potbelly pig\n",
      "vietnamese pig\n",
      "no report\n",
      "can. Goose\n",
      "mallard duck\n",
      "no report\n",
      "no report\n",
      "prairie dog\n",
      "ferret,hamster,guinea pig\n",
      "no report\n",
      "Fowl, chicken\n",
      "no report\n",
      "no report\n",
      "no report\n",
      "guinea pig\n",
      "no report\n",
      "no report\n",
      "no report\n",
      "no report\n",
      "potbelly pig\n",
      "potbelly pig\n",
      "guinea pig\n",
      "guinea pig\n",
      "potbelly pig\n",
      "no report\n",
      "guinea pig\n"
     ]
    }
   ],
   "source": [
    "facility_name = []\n",
    "species_name = []\n",
    "intake = []\n",
    "adopted = []\n",
    "returned = []\n",
    "euthanized = []\n",
    "\n",
    "for i in range(1,94):\n",
    "    removed_blank_entry = pdf_2001_combined.split(\"Full name\")[i].split(\"\\n\")[:-1]\n",
    "    for entry in removed_blank_entry[7:]:\n",
    "        if len(entry.split()) == 5:\n",
    "            facility_name.append(removed_blank_entry[0])\n",
    "            species_name.append(entry[0])\n",
    "            intake.append(entry[1])\n",
    "            adopted.append(entry[2])\n",
    "            returned.append(entry[3])\n",
    "            euthanized.append(entry[4])\n",
    "        elif len(entry.split()) == 6:\n",
    "            facility_name.append(removed_blank_entry[0])\n",
    "            print(\" \".join(entry.split()[0:2]))\n",
    "            "
   ]
  },
  {
   "cell_type": "code",
   "execution_count": 87,
   "id": "97d4756e-1afe-4b53-98ff-f33927d46cb8",
   "metadata": {},
   "outputs": [
    {
     "name": "stdout",
     "output_type": "stream",
     "text": [
      "393\n",
      "393\n",
      "393\n",
      "393\n",
      "393\n",
      "393\n"
     ]
    }
   ],
   "source": [
    "print(len(facility_name))\n",
    "print(len(species_name))\n",
    "print(len(intake))\n",
    "print(len(adopted))\n",
    "print(len(returned))\n",
    "print(len(euthanized))"
   ]
  },
  {
   "cell_type": "markdown",
   "id": "d492b64f-d22d-474c-a8f0-cf9a5d0a52dc",
   "metadata": {},
   "source": [
    "### Creating Functions for first PDF"
   ]
  },
  {
   "cell_type": "code",
   "execution_count": 31,
   "id": "8618e2ae-4355-4029-a891-2effaaa5344c",
   "metadata": {
    "collapsed": true,
    "jupyter": {
     "outputs_hidden": true
    }
   },
   "outputs": [
    {
     "data": {
      "text/plain": [
       "'Animal Shelter Reporting Data\\nfor calendar year 2002Data required to be reported by animal shelters \\nmeeting criteria set forth by the \"Spay/Neuter Law\"\\nNC animal shelter reporting data, calendar year 2002, per \"Spay/Neuter Law\"\\nAlleghany County Animal Control\\nco/ Public Works\\nPO Box 366\\nSparta NC 28675\\nspecies # into shelter # adopted out # returned to owner # euthanizedtotal operating expenses\\ncost per animal handled$11,200.00\\n$22.31ID # 4\\ncat 55 43 2 10\\ndog 447 254 12 178\\nAnson County Animal Control\\nAnson County Health Dept\\nPO Box 473\\nWadesboro NC 28170\\nspecies # into shelter # adopted out # returned to owner # euthanizedtotal operating expenses\\ncost per animal handled$34,759.64\\n$27.48ID # 5\\ncat 315 0 0 315\\ndog 950 0 6 944\\nAshe County Animal Control\\nPO Box 1797\\nWest Jefferson NC 28694\\nspecies # into shelter # adopted out # returned to owner # euthanizedtotal operating expenses\\ncost per animal handled$114,118.00\\n$78.91ID # 6\\ncat 705 33 19 653\\ndog 741 84 28 629\\nSpay/Neuter Program, Div. of Public Health, NC DHHSNC animal shelter reporting data, calendar year 2002, per \"Spay/Neuter Law\"\\nAsheville Humane Society\\n72 Lees Creek Rd\\nAsheville NC 28806\\nspecies # into shelter # adopted out # returned to owner # euthanizedtotal operating expenses\\ncost per animal handled$501,452.96\\n$52.28ID # 7\\nbat 6 0 0 5\\ncanary 2 0 0 2\\ncat 4,156 555 55 3,318\\nchicken 6 1 0 5\\ncockatiel 8 4 0 0\\ncow 1 1 0 0\\ncoyote 1 0 0 1\\ncrow 1 0 0 0\\ndog 5,079 1,189 601 3,072\\ndove 2 0 2 0\\nemu 2 0 0 1\\nferret 17 11 1 2\\nfox 4 0 0 4\\ngarter snake 1 0 0 0\\ngerbil 21 6 0 12\\ngoat 13 8 1 0\\ngroundhog 2 0 0 2\\nguinea pig 10 4 0 6\\nhamster 47 16 0 31\\nhawk 1 0 0 0\\nSpay/Neuter Program, Div. of Public Health, NC DHHSNC animal shelter reporting data, calendar year 2002, per \"Spay/Neuter Law\"\\nhorse 10 0 5\\niguana 3 0 0 0\\nkestrel 1 0 0 0\\nllama 1 0 0 0\\nmacaw 2 0 0 0\\nmockingbird 1 0 0 0\\nmouse 0 1 0 0\\nopossum 14 0 0 19\\nowl 1 0 0 1\\nparakeet 1 0 0 0\\nparrot 9 0 0 0\\npeafowl 2 0 1 0\\npig 7 0 1 0\\npigeon 9 0 0 2\\npython 1 0 0 0\\nrabbit 37 14 0 20\\nraccoon 53 0 0 43\\nrat 23 8 0 26\\nrattlesnake 1 0 0 1\\nrobin 1 0 0 1\\nsheep 2 0 0 0\\nskunk 1 0 0 1\\nsnake 2 0 0 0\\nsparrow 3 0 0 1\\nSpay/Neuter Program, Div. of Public Health, NC DHHSNC animal shelter reporting data, calendar year 2002, per \"Spay/Neuter Law\"\\nsquirrel, ground 2 0 0 2\\nsquirrel, tree 5 0 0 3\\nturkey 1 0 0 0\\nwater snake 2 0 0 1\\nBeaufort County Animal Control\\nPO Box 1027\\nWashington NC 27889\\nspecies # into shelter # adopted out # returned to owner # euthanizedtotal operating expenses\\ncost per animal handled$114,702.00\\n$35.00ID # 9\\ncat 1,523 63 15 1,443\\ndog 1,753 86 68 1,587\\nBertie County Animal Control\\nAnimal Control/Solid Waste\\nPO Box 530\\nWindsor NC 27983\\nspecies # into shelter # adopted out # returned to owner # euthanizedtotal operating expenses\\ncost per animal handled$41,585.00\\n$23.00ID # 10\\ncat 475 356 25 890\\ndog 1,345 430 25 890\\nopossum 11 0 0 0\\nrat 3 0 0 3\\nsnake 2 0 0 2\\nBladen County Animal Control\\nBladen County Health Dept\\nPO Box 189\\nElizabethtown NC 28337\\nspecies # into shelter # adopted out # returned to owner # euthanizedtotal operating expenses\\ncost per animal handled$88,301.00\\n$20.70ID # 11\\nalligator 1 0 1 0\\nSpay/Neuter Program, Div. of Public Health, NC DHHSNC animal shelter reporting data, calendar year 2002, per \"Spay/Neuter Law\"\\nbat 4 0 0 4\\nbird 17 0 0 17\\ncat 1,514 319 7 1,188\\ndog 2,603 560 82 1,988\\nfox 45 0 0 45\\ngoat 1 0 0 1\\nopossum 31 0 31 0\\nraccoon 42 0 0 42\\nsnake 7 0 0 7\\nBrunswick County Animal Services\\nBrunswick County Health Dept\\nPO Box 92\\nSupply NC 28462\\nspecies # into shelter # adopted out # returned to owner # euthanizedtotal operating expenses\\ncost per animal handled$395,855.00\\n$63.23ID # 12\\nbobcat 3 0 0 3\\nbuzzard 1 0 0 0\\ncat 3,036 218 16 2,630\\ndog 3,064 413 189 2,267\\nduck 10 10 0 0\\nfox 12 0 0 12\\ngoat 7 4 3 0\\nhog 1 0 1 0\\nloon 1 0 0 0\\nopossum 48 0 0 0\\nparrot 1 1 0 0\\nSpay/Neuter Program, Div. of Public Health, NC DHHSNC animal shelter reporting data, calendar year 2002, per \"Spay/Neuter Law\"\\nrabbit 5 5 0 0\\nraccoon 66 0 0 66\\nseagull 2 0 0 0\\nviet pig 4 4 0 0\\nBurke County Animal Shelter\\nBurke County Sheriff\\'s Dept\\n150 Government Dr\\nMorganton NC 28655\\nspecies # into shelter # adopted out # returned to owner # euthanizedtotal operating expenses\\ncost per animal handled$273,325.00\\n$25.00ID # 13\\nbat 7 0 0 7\\ncat 2,215 166 5 2,044\\ndog 3,077 555 151 2,371\\nfox 1 0 0 1\\ngroundhog 62 0 0 62\\nraccoon 31 0 0 31\\nskunk 12 0 0 12\\nCabarrus County Animal Control\\nCabarrus County Sheriff\\'s Dept\\nPO Box 525\\nConcord NC 28026-0525\\nspecies # into shelter # adopted out # returned to owner # euthanizedtotal operating expenses\\ncost per animal handled$554,664.00\\n$109.98ID # 14\\nbat 3 0 0 3\\ncat 2,458 206 22 2,244\\nchicken 1 0 0 1\\ndeer 1 0 0 1\\ndog 2,468 285 439 1,689\\nSpay/Neuter Program, Div. of Public Health, NC DHHSNC animal shelter reporting data, calendar year 2002, per \"Spay/Neuter Law\"\\nfox 2 0 0 2\\ngerbil 1 1 0 0\\nopossum 27 0 0 27\\npig 6 6 0 0\\nrabbit 5 0 0 5\\nraccoon 72 0 0 72\\nskunk 2 0 0 2\\nsquirrel 3 0 0 3\\nCaldwell County Animal Control\\nPO Box 2200\\nLenoir NC 28645\\nspecies # into shelter # adopted out # returned to owner # euthanizedtotal operating expenses\\ncost per animal handled$297,004.83\\n$46.05ID # 15\\nbat 8 0 0 5\\nbird 32 0 0 0\\ncat 2,841 45 28 2,780\\ndog 3,464 185 195 2,983\\nferret 1 0 0 0\\nfox 1 0 0 1\\ngoat 1 0 0 0\\ngroundhog 2 0 0 1\\nopossum 60 0 0 2\\nrabbit 1 0 0 1\\nraccoon 23 0 0 8\\nrat 1 0 0 0\\nSpay/Neuter Program, Div. of Public Health, NC DHHSNC animal shelter reporting data, calendar year 2002, per \"Spay/Neuter Law\"\\nskunk 13 0 0 5\\nsquirrel 1 0 0 0\\nAnimal Protection Society of the Northern Piedmont\\nCaswell County Animal Control\\nPO Box 193\\nYanceyville NC 27379\\nspecies # into shelter # adopted out # returned to owner # euthanizedtotal operating expenses\\ncost per animal handled$0.00\\n$0.00ID # 18\\nDID NOT REPORT 0 0 0 0\\nCatawba County Animal Control and Shelter\\nPO Box 389\\nNewton NC 28658\\nspecies # into shelter # adopted out # returned to owner # euthanizedtotal operating expenses\\ncost per animal handled$243,474.00\\n$36.00ID # 19\\nbat 4 0 0 4\\ncat 3,374 207 17 3,150\\ndog 3,388 803 253 2,332\\nfox 3 0 0 3\\ngroundhog 1 0 0 1\\nraccoon 28 0 0 28\\nskunk 7 0 0 7\\nCharlotte-Mecklenburg Animal Control\\nCharlotte-Mecklenburg Police Dept\\n8315 Byrum Dr\\nCharlotte NC 28217\\nspecies # into shelter # adopted out # returned to owner # euthanizedtotal operating expenses\\ncost per animal handled$4,114,262.00\\n$199.81ID # 20\\nbat 190 0 0 137\\nbird 377 65 3 173\\nSpay/Neuter Program, Div. of Public Health, NC DHHSNC animal shelter reporting data, calendar year 2002, per \"Spay/Neuter Law\"\\ncat 7,580 891 206 6,314\\ndeer 28 0 0 15\\ndog 10,912 1,849 2,040 6,874\\nequine 1 0 2 0\\nferret 18 13 1 1\\nfish 2 0 0 0\\nfox 56 0 0 42\\ngoat,sheep 24 16 6 1\\nmonkey 1 0 1 0\\nmuskrat 4 0 0 1\\nopossum 192 0 0 72\\nrabbit 188 34 1 121\\nraccoon 750 0 0 679\\nreptile 39 10 0 6\\nrodent 215 21 4 130\\nskunk 5 0 0 4\\nswine 9 12 4 1\\nChatham County Animal Control\\nChatham County Health Dept\\n725 County Landfill Rd\\nPittsboro NC 27312\\nspecies # into shelter # adopted out # returned to owner # euthanizedtotal operating expenses\\ncost per animal handled$288,210.00\\n$127.47ID # 21\\ncat 975 181 10 762\\ndog 1,286 313 111 866\\nSpay/Neuter Program, Div. of Public Health, NC DHHSNC animal shelter reporting data, calendar year 2002, per \"Spay/Neuter Law\"\\nChowan County Animal Control\\n138 Icaria Rd\\nTyner NC 27980\\nspecies # into shelter # adopted out # returned to owner # euthanizedtotal operating expenses\\ncost per animal handled$52,137.33\\n$78.00ID # 23\\nbadger 1 0 1 0\\nbird 21 15 0 6\\ncat 486 81 9 396\\ndog 349 139 51 159\\nnutria 2 0 2 0\\nopossum 29 0 29 0\\nraccoon 3 0 0 3\\nsnake 13 0 13 0\\nsquirrel 3 0 3 0\\nCity of Burlington Animal Control\\nBurlington Police Department\\n267 W Front St\\nBurlington NC 27215\\nspecies # into shelter # adopted out # returned to owner # euthanizedtotal operating expenses\\ncost per animal handled$267,292.28\\n$57.78ID # 25\\nbat 12 0 0 12\\ncat 1,972 176 32 1,744\\nchicken 8 0 6 0\\ndog 2,585 319 314 1,915\\nduck 5 0 0 0\\nduck 8 2 0 0\\nemu 2 0 2 0\\nSpay/Neuter Program, Div. of Public Health, NC DHHSNC animal shelter reporting data, calendar year 2002, per \"Spay/Neuter Law\"\\nequine 2 0 0 0\\nferret 4 2 0 0\\ngoat 5 2 3 0\\nrabbit 2 2 0 0\\nraccoon 21 0 0 21\\nCity of Havelock Public Safety\\n2 Hatteras Ave\\nHavelock NC 28532\\nspecies # into shelter # adopted out # returned to owner # euthanizedtotal operating expenses\\ncost per animal handled$34,474.00\\n$62.34ID # 32\\nbird 3 3 0 0\\ncat 202 16 9 177\\nchicken 2 2 0 0\\ndog 279 95 112 72\\nduck 15 12 0 3\\nferret 6 6 0 0\\nfish 7 7 0 0\\nfox 2 0 0 2\\nhamster 6 6 0 0\\niguana 4 4 0 0\\nopossum 12 0 0 12\\nraccoon 4 0 0 4\\nrat 1 1 0 0\\nsnake 10 10 0 0\\nSpay/Neuter Program, Div. of Public Health, NC DHHSNC animal shelter reporting data, calendar year 2002, per \"Spay/Neuter Law\"\\nCity of Rocky Mount Animal Control\\nRocky Mount Police Dept\\nPO Box 1180\\nRocky Mount NC 27801\\nspecies # into shelter # adopted out # returned to owner # euthanizedtotal operating expenses\\ncost per animal handled$0.00\\n$0.00ID # 42\\nDID NOT REPORT 0 0 0 0\\nCity of Tarboro Animal Control\\nDept. of Public Works\\nPO Box 220\\nTarboro NC 27886\\nspecies # into shelter # adopted out # returned to owner # euthanizedtotal operating expenses\\ncost per animal handled$44,910.65\\n$83.94ID # 45\\nbird 4 0 0 4\\ncat 261 3 8 250\\ndeer 6 0 0 6\\ndog 235 21 26 188\\nlivestock 1 0 1 0\\nopossum 8 0 0 8\\nraccoon 5 0 0 5\\nsnake 7 0 0 7\\nsquirrel 8 0 0 8\\nCleveland County Animal Control\\nCleveland County Animal Shelter\\n315 E Grover St\\nShelby NC 28150-3998\\nspecies # into shelter # adopted out # returned to owner # euthanizedtotal operating expenses\\ncost per animal handled$310,815.00\\n$40.77ID # 48\\nbat 18 0 0 18\\nbobcat 1 0 0 1\\nSpay/Neuter Program, Div. of Public Health, NC DHHSNC animal shelter reporting data, calendar year 2002, per \"Spay/Neuter Law\"\\nbord 63 0 0 63\\ncat 3,227 3 34 3,042\\nchipmunk 1 0 0 1\\ndeer 1 0 0 0\\ndog 4,040 17 383 3,611\\nferret 1 0 0 1\\nfox 30 0 0 30\\ngoat 5 0 5 0\\ngroundhog 22 0 0 22\\noppossum 96 0 0 80\\npig 3 0 3 0\\nraccoon 83 0 0 83\\nrat 1 0 0 1\\nskunk 25 0 0 25\\nsnake 1 0 0 1\\nsquirrel 5 0 0 5\\nColumbus County Animal Control\\n111 Washington Ave\\nWhiteville NC 28472\\nspecies # into shelter # adopted out # returned to owner # euthanizedtotal operating expenses\\ncost per animal handled$118,252.00\\n$25.51ID # 49\\ncat 1,606 55 29 1,522\\ndog 2,957 358 110 2,489\\nopossum 47 0 0 47\\nraccoon 26 0 0 26\\nSpay/Neuter Program, Div. of Public Health, NC DHHSNC animal shelter reporting data, calendar year 2002, per \"Spay/Neuter Law\"\\nCraven-Pamlico Animal Services Center\\nCraven County Health Dept\\n1639 Old Airport Rd\\nNew Bern NC 28562\\nspecies # into shelter # adopted out # returned to owner # euthanizedtotal operating expenses\\ncost per animal handled$299,589.69\\n$49.26ID # 51\\nbat 4 0 0 2\\ncat 3,093 170 17 2,873\\ndeer 1 0 0 0\\ndog 2,919 389 251 2,186\\nferret 1 0 0 1\\nfox 4 0 0 3\\nguinea pig 1 0 0 1\\nmonkey 1 0 1 0\\nopossum 45 0 33 0\\nrabbit 2 1 0 1\\nraccoon 22 0 0 10\\nCumberland County Animal Control\\nPO Drawer 1829\\nFayetteville NC 28302\\nspecies # into shelter # adopted out # returned to owner # euthanizedtotal operating expenses\\ncost per animal handled$845,618.00\\n$70.76ID # 52\\nbat 15 0 0 15\\nbuzzard 3 0 0 3\\ncat 4,562 516 51 3,951\\nchicken 14 12 0 2\\ncockatiel 1 0 0 1\\nSpay/Neuter Program, Div. of Public Health, NC DHHSNC animal shelter reporting data, calendar year 2002, per \"Spay/Neuter Law\"\\ncrow 1 0 0 1\\ndeer 6 0 0 6\\ndog 7,196 965 619 5,587\\ndove 2 0 0 2\\nduck 17 17 0 0\\nequine 4 0 4 0\\nferret 1 0 0 1\\nfox 6 0 0 6\\ngoose 2 0 0 2\\nguinea pig 1 0 0 1\\nopposum 31 0 0 31\\nosprey 1 0 0 1\\npotbelly pig 5 3 2 0\\npython 2 2 0 0\\nrabbit 7 2 0 5\\nraccoon 68 0 0 68\\nsnake 1 0 1 0\\nsquirrel 3 0 0 3\\nturtle 1 0 1 0\\nwoodpecker 1 0 1 0\\nDavidson County Animal Control\\n490 Glendale Rd\\nLexington NC 27292\\nspecies # into shelter # adopted out # returned to owner # euthanizedtotal operating expenses\\ncost per animal handled$296,962.00\\n$38.18ID # 54\\nSpay/Neuter Program, Div. of Public Health, NC DHHSNC animal shelter reporting data, calendar year 2002, per \"Spay/Neuter Law\"\\nbat 11 0 0 11\\ncat 3,304 135 12 3,157\\ndog 4,275 304 295 3,676\\nfox 7 0 0 7\\nopossum 26 0 0 26\\nraccoon 148 0 0 148\\nskunk 5 0 0 5\\nDavie County Animal Control\\n809 Salisbury St\\nMocksville NC 27028\\nspecies # into shelter # adopted out # returned to owner # euthanizedtotal operating expenses\\ncost per animal handled$96,000.00\\n$45.26ID # 55\\ncat 786 38 17 731\\ndog 1,302 52 56 1,194\\nfox 3 0 0 3\\nraccoon 24 0 0 24\\nskunk 6 0 0 6\\nDuplin County Animal Control\\nDuplin County Manager\\'s Office\\nPO Box 910\\nKenansville NC 28349\\nspecies # into shelter # adopted out # returned to owner # euthanizedtotal operating expenses\\ncost per animal handled$80,922.83\\n$25.01ID # 56\\ncat 1,013 0 20 993\\ndog 2,223 91 47 2,085\\nSpay/Neuter Program, Div. of Public Health, NC DHHSNC animal shelter reporting data, calendar year 2002, per \"Spay/Neuter Law\"\\nEdgecombe County Animal Control\\n2909 N Main St\\nTarboro NC 27886\\nspecies # into shelter # adopted out # returned to owner # euthanizedtotal operating expenses\\ncost per animal handled$125,149.95\\n$54.31ID # 58\\ncat 928 15 0 595\\ndog 1,375 72 31 841\\npotbelly pig 1 1 0 0\\nForsyth County Animal Control\\n1200 Fairchild Dr\\nWinston Salem NC 27105\\nspecies # into shelter # adopted out # returned to owner # euthanizedtotal operating expenses\\ncost per animal handled$1,204,323.00\\n$104.45ID # 59\\nbat 105 0 0 67\\nbird 1 0 0 0\\ncat 5,174 231 61 4,782\\nchicken 49 6 10 30\\nchipmunk 1 0 0 0\\ndeer 1 0 0 1\\ndog 6,222 405 526 5,158\\nduck 3 0 3 0\\nequine 35 32 0 1\\nferret 6 2 1 2\\nfish 1 1 0 0\\ngoat 19 14 5 0\\ngoat, pygmy 6 0 6 0\\nSpay/Neuter Program, Div. of Public Health, NC DHHSNC animal shelter reporting data, calendar year 2002, per \"Spay/Neuter Law\"\\ngopher 1 0 0 0\\ngroundhog 8 0 0 5\\nhawk 1 0 0 0\\niguana 1 0 0 0\\nlizard 1 0 0 1\\nopossum 19 0 0 8\\npig 2 1 0 0\\npotbelly pig 3 3 0 0\\nrabbit 11 2 2 6\\nraccoon 141 0 0 102\\nrat 2 0 0 2\\nsheep 3 3 0 0\\nskunk 12 0 0 6\\nsnake 2 0 0 1\\nsquirrel 7 0 0 6\\nwolf 1 0 0 1\\nwoodchuck 2 0 0 0\\nFranklin County Animal Control\\nFranklin County Health Dept\\n107 Industrial Dr Ste C\\nLouisburg NC 27549\\nspecies # into shelter # adopted out # returned to owner # euthanizedtotal operating expenses\\ncost per animal handled$179,698.50\\n$28.70ID # 60\\nbat 3 0 0 3\\nbeaver 1 0 0 1\\nbird 8 0 0 8\\nSpay/Neuter Program, Div. of Public Health, NC DHHSNC animal shelter reporting data, calendar year 2002, per \"Spay/Neuter Law\"\\ncat 1,205 144 0 985\\ncrow 2 0 0 2\\ndeer 1 0 0 1\\ndog 1,992 259 58 1,581\\nequine 3 0 0 3\\nfox 1 0 0 1\\nopossum 4 0 0 4\\npig 1 0 0 1\\nprairie dog 1 0 0 1\\nraccoon 6 0 0 6\\nsnake 2 0 0 2\\nturtle 5 0 0 5\\nGaston County Animal Control\\nGaston County Police Dept\\nPO Box 479\\nDallas NC 28034\\nspecies # into shelter # adopted out # returned to owner # euthanizedtotal operating expenses\\ncost per animal handled$792,387.00\\n$90.61ID # 61\\nalligator 1 0 0 0\\narmadillo 2 0 0 0\\nbat 40 0 0 20\\nbird 15 0 0 8\\nbluejay 1 0 0 0\\ncat 4,069 41 35 3,888\\nchicken 2 0 0 2\\nchimney sweep 1 0 0 1\\nSpay/Neuter Program, Div. of Public Health, NC DHHSNC animal shelter reporting data, calendar year 2002, per \"Spay/Neuter Law\"\\ndeer 2 0 0 1\\ndog 4,353 67 469 3,703\\nduck 6 0 0 3\\nferret 2 0 0 2\\nfox 15 0 0 12\\ngoat 4 0 0 0\\ngoose 5 0 0 1\\ngroundhog 1 0 0 0\\nhamster 3 0 0 0\\nhawk 5 0 0 0\\nmice 3 0 0 0\\nopossum 57 0 0 30\\nowl 2 0 0 1\\npig 3 0 0 0\\npigeon 2 0 0 0\\nprairie dog 2 0 0 1\\nrabbit 10 0 0 9\\nraccoon 118 0 0 116\\nskunk 8 0 0 8\\nsnake 1 0 0 0\\nsquirrel 12 0 0 10\\nSpay/Neuter Program, Div. of Public Health, NC DHHSNC animal shelter reporting data, calendar year 2002, per \"Spay/Neuter Law\"\\nGates County Animal Control\\nGates County Sheriff\\'s Dept\\nPO Box 148\\nGatesville NC 27938\\nspecies # into shelter # adopted out # returned to owner # euthanizedtotal operating expenses\\ncost per animal handled$39,247.53\\n$78.00ID # 62\\nbird 3 3 0 0\\ncat 486 32 5 449\\ndog 349 70 26 253\\nrabbit 2 2 0 0\\nGraham County Animal Control\\nValley River Humane Society\\n7450 US Hwy 19\\nMarble NC 28905\\nspecies # into shelter # adopted out # returned to owner # euthanizedtotal operating expenses\\ncost per animal handled$0.00\\n$0.00ID # 63\\nDID NOT REPORT 0 0 0 0\\nGranville County Animal Control\\nDept of Emergency Services\\nPO Box 1642\\nOxford NC 27565\\nspecies # into shelter # adopted out # returned to owner # euthanizedtotal operating expenses\\ncost per animal handled$176,160.34\\n$50.74ID # 64\\ncat 1,150 150 15 0\\ndog 2,208 319 110 0\\nguinea pig 7 7 0 0\\nhamster 2 2 0 0\\nopossum 26 0 0 26\\nrabbit 13 3 0 10\\nraccoon 66 0 0 66\\nSpay/Neuter Program, Div. of Public Health, NC DHHSNC animal shelter reporting data, calendar year 2002, per \"Spay/Neuter Law\"\\nGreene County Animal Control\\nGreene County Health Dept\\n227 Kingold Blvd - Ste B\\nSnow Hill NC 28580\\nspecies # into shelter # adopted out # returned to owner # euthanizedtotal operating expenses\\ncost per animal handled$75,021.61\\n$202.76ID # 65\\ncat 56 23 0 33\\ndog 314 106 2 206\\nUnited Animal Coalition\\nGuilford County Animal Shelter\\nPO Box 8\\nJamestown NC 27282-0008\\nspecies # into shelter # adopted out # returned to owner # euthanizedtotal operating expenses\\ncost per animal handled$1,197,552.00\\n$80.00ID # 66\\nbat 50 0 0 22\\nbird 3 0 0 3\\ncat 5,291 1,423 87 3,074\\nchicken 5 1 3 1\\ndeer 3 0 0 2\\ndog 7,947 2,574 929 3,835\\ndomestic/wild birds 21 5 1 5\\nfox 50 0 3\\nguinea pig/hampster/ferret 60 21 7 24\\nopossum 18 0 3 15\\nrabbit 39 22 1 5\\nraccoon 395 0 0 395\\nskunk 9 0 0 9\\nsquirrel 4 0 0 4\\nSpay/Neuter Program, Div. of Public Health, NC DHHSNC animal shelter reporting data, calendar year 2002, per \"Spay/Neuter Law\"\\nHalifax County Animal Control\\nHalifax County Health Dept\\nPO Box 10\\nHalifax NC 27839\\nspecies # into shelter # adopted out # returned to owner # euthanizedtotal operating expenses\\ncost per animal handled$0.00\\n$0.00ID # 68\\nDID NOT REPORT 0 0 0 0\\nHarnett County Animal Shelter\\nAttn:  Tino Medina\\n1137 E Cornelius Harnett B\\nLillington NC 27546\\nspecies # into shelter # adopted out # returned to owner # euthanizedtotal operating expenses\\ncost per animal handled$225,989.12\\n$46.86ID # 70\\nbobcat 1 0 1 0\\ncat 2,073 30 36 1,742\\nchicken 11 10 1 0\\ncrow 1 0 0 1\\ndeer 1 0 0 1\\ndog 2,583 119 119 1,981\\nequine 3 2 1 0\\nfox 9 0 0 9\\ngoat 3 1 2 0\\nhamster 1 1 0 0\\nhawk 1 0 1 0\\nmouse 2 0 2 0\\nmule 1 0 1 0\\nopossum 40 0 38 2\\nparakeet 1 1 0 0\\nSpay/Neuter Program, Div. of Public Health, NC DHHSNC animal shelter reporting data, calendar year 2002, per \"Spay/Neuter Law\"\\npig 12 7 2 3\\nrabbit 1 0 1 0\\nraccoon 19 0 0 12\\nrat 59 0 59 0\\nsnake 1 0 0 1\\nsquirrel 2 0 2 0\\nHaywood County Animal Control\\nPO Box 3036\\nWaynesville NC 28738\\nspecies # into shelter # adopted out # returned to owner # euthanizedtotal operating expenses\\ncost per animal handled$230,314.00\\n$6.00ID # 71\\nbat 3 0 0 3\\ncat 1,715 225 37 1,236\\ndog 2,086 429 269 1,299\\nfox 3 0 0 3\\nlivestock 3 3 0 0\\nraccoon 7 0 0 7\\nwildlife 20 5 0 15\\nHenderson County Animal Control\\nHenderson County Health Dept\\n810 Stoney Mtn Rd\\nHendersonville NC 28791\\nspecies # into shelter # adopted out # returned to owner # euthanizedtotal operating expenses\\ncost per animal handled$238,049.00\\n$62.40ID # 72\\ncat 1,744 189 11 1,490\\ndog 2,071 577 140 1,421\\nSpay/Neuter Program, Div. of Public Health, NC DHHSNC animal shelter reporting data, calendar year 2002, per \"Spay/Neuter Law\"\\nHertford County Animal Control\\nPO Box 479\\nWinton NC 27986\\nspecies # into shelter # adopted out # returned to owner # euthanizedtotal operating expenses\\ncost per animal handled$0.00\\n$0.00ID # 73\\nDID NOT REPORT 0 0 0 0\\nHoke County Animal Control\\nPO Box 210\\nRaeford NC 28376\\nspecies # into shelter # adopted out # returned to owner # euthanizedtotal operating expenses\\ncost per animal handled$32,500.00\\n$19.10ID # 74\\ncat 487 39 11 436\\ndog 1,150 308 104 702\\nIredell County Animal Control\\n243 Twin Oaks Rd\\nStatesville NC 28625\\nspecies # into shelter # adopted out # returned to owner # euthanizedtotal operating expenses\\ncost per animal handled$517,364.00\\n$67.44ID # 76\\nbat 17 0 0 17\\nblue jay 1 0 1 0\\ncardinal 1 0 0 1\\ncat 3,695 56 45 3,225\\nchicken 4 1 0 3\\ncow 2 2 0 0\\ndeer 8 0 1 7\\ndog 3,796 160 326 3,224\\nequine 9 1 8 0\\nSpay/Neuter Program, Div. of Public Health, NC DHHSNC animal shelter reporting data, calendar year 2002, per \"Spay/Neuter Law\"\\nferret 1 0 1 0\\nfox 4 0 0 4\\ngoat 7 5 1 1\\ngroundhog 11 0 3 8\\nguinea 1 0 0 1\\nhamster 1 0 0 1\\nhawk 6 0 3 3\\nheron 1 0 1 0\\niguana 1 0 0 1\\nnight hawk 2 0 2 0\\nopossum 38 0 0 38\\nowl 2 0 0 2\\nrabbit 1 0 0 1\\nraccoon 39 0 0 39\\nskunk 19 0 0 19\\nsnake 17 0 15 2\\nsongbird 14 0 7 7\\nsquirrel 13 0 8 5\\nJackson County Animal Control\\nJackson County Health Dept\\n538 Scotts Creek Rd\\nSylva NC 28779\\nspecies # into shelter # adopted out # returned to owner # euthanizedtotal operating expenses\\ncost per animal handled$123,444.52\\n$101.60ID # 77\\nbat 5 0 0 5\\ncat 543 112 5 313\\nSpay/Neuter Program, Div. of Public Health, NC DHHSNC animal shelter reporting data, calendar year 2002, per \"Spay/Neuter Law\"\\ndog 667 168 77 353\\nJohnston County Animal Control\\n1320 N Brightleaf Blvd\\nSmithfield NC 27577\\nspecies # into shelter # adopted out # returned to owner # euthanizedtotal operating expenses\\ncost per animal handled$244,000.00\\n$46.56ID # 78\\ncat 2,195 220 23 1,565\\ndog 3,045 729 327 2,049\\nMacon County Animal Control\\nMacon County Sheriff\\'s Dept\\nPO Box 81\\nFranklin NC 28744\\nspecies # into shelter # adopted out # returned to owner # euthanizedtotal operating expenses\\ncost per animal handled$276,240.00\\n$65.00ID # 84\\ncat 671 223 12 436\\ndog 954 536 109 309\\ngoat 1 0 1 0\\nsnake 1 1 0 0\\nMadison County Animal Control\\nMadison County Health Dept\\n140 Health Care Ln\\nMarshall NC 28753\\nspecies # into shelter # adopted out # returned to owner # euthanizedtotal operating expenses\\ncost per animal handled$0.00\\n$0.00ID # 85\\nDID NOT REPORT 0 0 0 0\\nMadison County Friends of Animals\\nAnimal Shelter\\n389 Long Branch Rd\\nMarshall NC 28753\\nspecies # into shelter # adopted out # returned to owner # euthanizedtotal operating expenses\\ncost per animal handled$128,030.53\\n$69.81ID # 86\\nSpay/Neuter Program, Div. of Public Health, NC DHHSNC animal shelter reporting data, calendar year 2002, per \"Spay/Neuter Law\"\\ncat 794 396 13 204\\ndog 1,027 411 26 483\\nferret 1 0 1 0\\npot bellied pig 12 0 0 0\\nMcDowell County Animal Control\\nMcDowell County Animal Shelter\\n60 E Court St\\nMarion NC 28752\\nspecies # into shelter # adopted out # returned to owner # euthanizedtotal operating expenses\\ncost per animal handled$82,149.00\\n$19.47ID # 88\\ncat 1,819 51 67 1,780\\ndog 2,401 212 234 2,036\\nMitchell County Animal Shelter\\nPO Box 308\\nSpruce Pine NC 28777\\nspecies # into shelter # adopted out # returned to owner # euthanizedtotal operating expenses\\ncost per animal handled$71,859.98\\n$133.56ID # 89\\ncat 269 134 1 148\\nchicken 1 0 0 1\\ndog 304 183 25 208\\nferret 1 0 1 0\\ngoat 1 0 0 1\\nhamster 1 1 0 0\\nrabbit 1 0 1 0\\nSpay/Neuter Program, Div. of Public Health, NC DHHSNC animal shelter reporting data, calendar year 2002, per \"Spay/Neuter Law\"\\nMontgomery County Animal Control\\nc/o Laura Morton\\nPO Box 425\\nTroy NC 27371\\nspecies # into shelter # adopted out # returned to owner # euthanizedtotal operating expenses\\ncost per animal handled$0.00\\n$0.00ID # 90\\nDID NOT REPORT 0 0 0 0\\nAnimal Center of Moore County\\nc/o Moore County Health Dept\\nPO Box 279\\nCarthage NC 28327\\nspecies # into shelter # adopted out # returned to owner # euthanizedtotal operating expenses\\ncost per animal handled$0.00\\n$0.00ID # 91\\nDID NOT REPORT 0 0 0 0\\nNash County Animal Control\\nNash County Health Dept\\nPO Box 849\\nNashville NC 27856\\nspecies # into shelter # adopted out # returned to owner # euthanizedtotal operating expenses\\ncost per animal handled$185,546.64\\n$50.57ID # 93\\nbat 2 0 0 1\\ncat 1,808 9 8 1,750\\nchicken 4 3 0 1\\ncrow 2 0 0 1\\ndog 1,789 71 61 1,600\\nfox 2 0 0 2\\ngoat 1 0 0 1\\ngroundhog 2 0 2 0\\nhawk 2 0 2 0\\nopossum 35 0 13 21\\nSpay/Neuter Program, Div. of Public Health, NC DHHSNC animal shelter reporting data, calendar year 2002, per \"Spay/Neuter Law\"\\npig 1 1 0 0\\nraccoon 20 0 0 18\\nsnake 2 0 0 2\\nNew Hanover County Animal Control Services\\nNew Hanover County Health Dept\\n180 Division Dr\\nWilmington NC 28401\\nspecies # into shelter # adopted out # returned to owner # euthanizedtotal operating expenses\\ncost per animal handled$904,084.00\\n$209.00ID # 94\\nbat 4 0 0 4\\ncat 2,160 476 85 1,200\\ndog 2,259 313 598 1,699\\nfox 7 0 0 7\\nlivestock 48 43 0 3\\nopossum 4 0 0 0\\nrabbit 1 1 0 0\\nraccoon 14 0 0 14\\nNorthampton County Animal Control\\nNorthampton County Health Dept\\nPO Box 635\\nJackson NC 27845\\nspecies # into shelter # adopted out # returned to owner # euthanizedtotal operating expenses\\ncost per animal handled$63,570.33\\n$62.33ID # 95\\ncat 382 0 0 382\\ndog 638 0 0 629\\nSpay/Neuter Program, Div. of Public Health, NC DHHSNC animal shelter reporting data, calendar year 2002, per \"Spay/Neuter Law\"\\nOnslow County Animal Control\\n244 Georgetown Rd\\nJacksonville NC 28540\\nspecies # into shelter # adopted out # returned to owner # euthanizedtotal operating expenses\\ncost per animal handled$443,574.00\\n$29.08ID # 97\\ncat 1,494 353 0 2,054\\ndeer 1 0 0 1\\ndog 5,978 1,415 0 3,081\\nequine 17 17 0 0\\nferret 6 6 0 0\\nfox 3 0 3 3\\ngoat 1 1 0 0\\niguana 2 2 0 0\\nopossum 9 0 9 0\\npig 2 2 0 0\\nrabbit 2 2 0 0\\nraccoon 39 0 0 39\\nrat 7 0 0 0\\nsnake 6 0 6 0\\nsquirrel 4 0 4 0\\nPender County Animal Control\\nPender County Health Dept\\nPO Box 1209\\nBurgaw NC 28425\\nspecies # into shelter # adopted out # returned to owner # euthanizedtotal operating expenses\\ncost per animal handled$120,525.00\\n$98.06ID # 101\\ncat 454 18 13 348\\nSpay/Neuter Program, Div. of Public Health, NC DHHSNC animal shelter reporting data, calendar year 2002, per \"Spay/Neuter Law\"\\ndog 775 97 85 466\\nPerquimans County Animal Control\\nPerquimans County Sheriff\\'s Dept\\nPO Box 45\\nHertford NC 27944\\nspecies # into shelter # adopted out # returned to owner # euthanizedtotal operating expenses\\ncost per animal handled$41,590.85\\n$78.00ID # 102\\ncat 222 50 1 171\\ndog 172 85 14 73\\nfox 3 0 0 3\\nopossum 8 0 8 0\\nraccoon 5 0 0 5\\nPerson County Animal Control\\n2103 Chub Lake Rd\\nRoxboro NC 27573\\nspecies # into shelter # adopted out # returned to owner # euthanizedtotal operating expenses\\ncost per animal handled$171,065.00\\n$75.00ID # 103\\ncat 872 61 66 745\\ndog 1,399 120 212 1,067\\nPitt County Animal Control\\nPitt County Animal Shelter\\n1717 W 5th St\\nGreenville NC 27834\\nspecies # into shelter # adopted out # returned to owner # euthanizedtotal operating expenses\\ncost per animal handled$111,000.00\\n$36.24ID # 104\\ncat 1,666 167 6 1,246\\ndeer 3 0 0 3\\ndog 2,312 293 146 1,748\\nferret 1 1 0 0\\nSpay/Neuter Program, Div. of Public Health, NC DHHSNC animal shelter reporting data, calendar year 2002, per \"Spay/Neuter Law\"\\nopossum 23 0 0 23\\nraccoon 12 0 0 12\\nsquirrel 6 0 0 6\\nRandolph County Animal Control\\nRandolph County Health Dept\\n2222-B S Fayetteville St\\nAsheboro NC 27203\\nspecies # into shelter # adopted out # returned to owner # euthanizedtotal operating expenses\\ncost per animal handled$250,500.67\\n$38.35ID # 106\\nbeaver 1 0 0 1\\ncat 3,175 53 15 3,107\\nchicken 1 0 0 1\\ndog 3,279 152 292 2,835\\ngoat 1 0 0 1\\nhybrids 2 0 0 2\\nopossum 4 0 0 4\\npig 1 1 0 0\\nrabbit 3 3 0 0\\nraccoon 65 0 0 65\\nRichmond County Animal Control\\nRichmond County Health Dept\\n127 Caroline St\\nRockingham NC 28379\\nspecies # into shelter # adopted out # returned to owner # euthanizedtotal operating expenses\\ncost per animal handled$164,184.43\\n$59.38ID # 107\\ncat 810 66 0 800\\ncrow 1 0 0 1\\ndog 1,949 113 30 1,815\\nSpay/Neuter Program, Div. of Public Health, NC DHHSNC animal shelter reporting data, calendar year 2002, per \"Spay/Neuter Law\"\\ngoat 3 0 1 2\\npig 1 0 0 1\\nraccoon 1 0 0 1\\nRobeson County Animal Control\\nRobeson County Health Dept\\n460 Country Club Blvd\\nLumberton NC 28358\\nspecies # into shelter # adopted out # returned to owner # euthanizedtotal operating expenses\\ncost per animal handled$31,593.00\\n$19.43ID # 109\\ncat 999 332 4 737\\ndog 3,714 951 112 2,888\\nRowan County Animal Control\\nRowan County Health Dept\\n1811 E Innes St\\nSalisbury NC 28146-6030\\nspecies # into shelter # adopted out # returned to owner # euthanizedtotal operating expenses\\ncost per animal handled$351,370.00\\n$45.00ID # 111\\nbat 3 0 0 3\\nbeaver 2 0 0 2\\ncat 2,718 218 172 1,954\\nchipmunk 1 0 0 1\\ndog 5,137 541 720 4,842\\nfox 7 0 0 7\\ngoat 4 0 0 4\\ngroundhog 3 0 0 3\\nopossum 18 0 0 18\\npehens 3 0 0 3\\npig 3 3 0 0\\nSpay/Neuter Program, Div. of Public Health, NC DHHSNC animal shelter reporting data, calendar year 2002, per \"Spay/Neuter Law\"\\nraccoon 98 0 0 98\\nskunk 8 0 0 8\\nsnake 10 0 0 10\\nsquirrel 4 0 0 4\\nRutherford County Animal Control\\nRutherford County Sheriff\\'s Dept\\n289 N Main St\\nRutherfordton NC 28139\\nspecies # into shelter # adopted out # returned to owner # euthanizedtotal operating expenses\\ncost per animal handled$210,965.00\\n$38.94ID # 112\\ncat 2,095 67 110 1,908\\ndog 3,323 339 347 2,647\\nSampson County Animal Control\\nSampson County Manager\\'s Office\\n435 Rowan Rd\\nClinton NC 28328\\nspecies # into shelter # adopted out # returned to owner # euthanizedtotal operating expenses\\ncost per animal handled$0.00\\n$0.00ID # 113\\nDID NOT REPORT 0 0 0 0\\nStanly County Animal Control\\nStanly County Health Dept\\n1000 N First St, Ste 3\\nAlbemarle NC 28001\\nspecies # into shelter # adopted out # returned to owner # euthanizedtotal operating expenses\\ncost per animal handled$194,920.00\\n$41.50ID # 115\\ncat 2,270 44 10 1,912\\ndog 2,426 256 200 1,579\\nSpay/Neuter Program, Div. of Public Health, NC DHHSNC animal shelter reporting data, calendar year 2002, per \"Spay/Neuter Law\"\\nStokes County Animal Control\\nStokes County Animal Shelter\\n1999 Sizemore Rd\\nGermanton NC 27019\\nspecies # into shelter # adopted out # returned to owner # euthanizedtotal operating expenses\\ncost per animal handled$130,093.00\\n$35.63ID # 116\\ncat 1,740 40 11 1,694\\ndog 1,911 148 119 1,642\\nSurry County Animal Control\\nSurry County Health Dept\\n118 Hamby Rd\\nDobson NC 27017\\nspecies # into shelter # adopted out # returned to owner # euthanizedtotal operating expenses\\ncost per animal handled$316,117.85\\n$77.12ID # 118\\ncat 1,688 2 10 1,561\\ndog 2,403 47 101 2,206\\ngoat 5 3 2 0\\nrabbit 3 0 0 3\\nThe Animal Protection Soc. of Durham\\n2117 E Club Blvd\\nDurham NC 27704\\nspecies # into shelter # adopted out # returned to owner # euthanizedtotal operating expenses\\ncost per animal handled$504,918.32\\n$85.00ID # 121\\ncat 2,062 367 33 1,653\\ndog 3,879 535 595 2,706\\nCarteret County Humane Society Animal Shelter\\nHumane Society of Carteret Co.\\nPO Box 357\\nNewport NC 28570\\nspecies # into shelter # adopted out # returned to owner # euthanizedtotal operating expenses\\ncost per animal handled$190,700.79\\n$39.83ID # 122\\nSpay/Neuter Program, Div. of Public Health, NC DHHSNC animal shelter reporting data, calendar year 2002, per \"Spay/Neuter Law\"\\ncat 2,980 195 111 2,224\\ndog 1,809 389 297 1,393\\nThe Jackson County Humane Society\\nPO Box 1966\\nSylva NC 28779\\nspecies # into shelter # adopted out # returned to owner # euthanizedtotal operating expenses\\ncost per animal handled$0.00\\n$0.00ID # 127\\nDID NOT REPORT 0 0 0 0\\nThe Lenoir Co SPCA Animal Shelter\\nPO Box 1481\\nKinston NC 28503\\nspecies # into shelter # adopted out # returned to owner # euthanizedtotal operating expenses\\ncost per animal handled$144,000.00\\n$80.00ID # 128\\ncat 1,163 160 8 844\\ndog 1,666 368 99 1,139\\nThe Outer Banks SPCA Animal Shelter\\nPO Box 1000\\nManteo NC 27954\\nspecies # into shelter # adopted out # returned to owner # euthanizedtotal operating expenses\\ncost per animal handled$250,752.00\\n$107.48ID # 129\\nbat 4 0 0 0\\nbird 61 0 0 0\\ncat 1,129 94 32 995\\ndeer 11 0 0 0\\ndog 710 138 276 270\\nequine 1 0 0 0\\nferret 1 0 0 0\\nSpay/Neuter Program, Div. of Public Health, NC DHHSNC animal shelter reporting data, calendar year 2002, per \"Spay/Neuter Law\"\\nfox 9 0 0 0\\niguana 1 0 0 0\\nmuskrat 2 0 0 0\\nnutria 2 0 0 0\\nopossum 147 0 0 0\\nrabbit 12 0 0 0\\nraccoon 207 0 0 207\\nsea turtle 2 0 0 0\\nsnake 14 0 0 0\\nsquirrel 21 0 0 0\\nThe Scotland Co. Humane Society\\n1401 West Blvd\\nLaurinburg NC 28352\\nspecies # into shelter # adopted out # returned to owner # euthanizedtotal operating expenses\\ncost per animal handled$168,617.85\\n$82.09ID # 130\\ncat 612 200 21 376\\ndog 1,442 367 93 951\\nThe SPCA of NE North Carolina\\nc/o Jo Ellen Smith\\nPO Box 1772\\nElizabeth City NC 27906\\nspecies # into shelter # adopted out # returned to owner # euthanizedtotal operating expenses\\ncost per animal handled$112,482.31\\n$36.01ID # 131\\ncat 1,749 398 30 1,102\\ndog 1,374 532 242 466\\nSpay/Neuter Program, Div. of Public Health, NC DHHSNC animal shelter reporting data, calendar year 2002, per \"Spay/Neuter Law\"\\nValley River Humane Society\\n(Cherokee Co)\\n7450 US 19\\nMarble NC 28905\\nspecies # into shelter # adopted out # returned to owner # euthanizedtotal operating expenses\\ncost per animal handled$0.00\\n$0.00ID # 132\\nDID NOT REPORT 0 0 0 0\\nThe Wake Co SPCA Animal Shelter\\n200 Petfinder Ln\\nRaleigh NC 276036075\\nspecies # into shelter # adopted out # returned to owner # euthanizedtotal operating expenses\\ncost per animal handled$0.00\\n$0.00ID # 133\\nDID NOT REPORT 0 0 0 0\\nTown of Kill Devil Hills Animal Control\\nKill Devil Hills Police Dept\\nPO Box 1605\\nKill Devil Hills NC 27959\\nspecies # into shelter # adopted out # returned to owner # euthanizedtotal operating expenses\\ncost per animal handled$106,078.00\\n$374.00ID # 138\\ncat 83 1 4 0\\ndog 163 12 101 0\\nferret 1 1 0 0\\nraccoon 6 0 0 6\\nTransylvania County Animal Control\\nTransylvania Co. Health Dept\\n203 E Morgan St\\nBrevard NC 28712\\nspecies # into shelter # adopted out # returned to owner # euthanizedtotal operating expenses\\ncost per animal handled$122,304.00\\n$100.99ID # 143\\ncat 385 14 1 387\\ndog 825 95 49 680\\nSpay/Neuter Program, Div. of Public Health, NC DHHSNC animal shelter reporting data, calendar year 2002, per \"Spay/Neuter Law\"\\ngaboon viper 1 1 0 0\\nUnion County Animal Shelter\\nUnion County Sheriff\\'s Office\\n3344 Presson Rd\\nMonroe NC 28112\\nspecies # into shelter # adopted out # returned to owner # euthanizedtotal operating expenses\\ncost per animal handled$433,603.00\\n$58.00ID # 146\\ncat 3,236 825 13 2,398\\nchicken 2 0 0 2\\ndog 4,196 1,161 237 2,798\\nemu 1 0 1 0\\nferret 2 2 0 0\\nfox 1 0 0 1\\ngoat 5 1 4 0\\nhamster 1 1 0 0\\nparakeet 1 1 0 0\\npig 9 2 2 5\\npotbelly pig 2 2 0 0\\nrabbit 8 8 0 0\\nraccoon 3 0 0 3\\nsquirrel 1 0 0 1\\nVance County Animal Control\\n165 Vance Academy Rd\\nHenderson NC 27536\\nspecies # into shelter # adopted out # returned to owner # euthanizedtotal operating expenses\\ncost per animal handled$127,368.00\\n$32.00ID # 147\\nbird 1 0 0 0\\nSpay/Neuter Program, Div. of Public Health, NC DHHSNC animal shelter reporting data, calendar year 2002, per \"Spay/Neuter Law\"\\ncat 1,224 136 5 1,083\\ndog 1,860 140 16 1,704\\nfox 1 0 0 0\\nopossum 1 0 0 0\\npig 1 1 0 0\\nraccoon 1 0 0 0\\nWake County Animal Control & Shelter\\nPO Box 550\\nRaleigh NC 27602\\nspecies # into shelter # adopted out # returned to owner # euthanizedtotal operating expenses\\ncost per animal handled$1,355,686.00\\n$155.57ID # 148\\nbird 8 5 2 1\\ncat 4,132 699 98 3,112\\ndog 4,245 1,498 365 2,206\\nferret 10 8 2 0\\nferret 8 4 3 1\\nfox 2 0 0 2\\ngerbil 11 0 9 2\\nguinea pig 15 11 0 4\\nhamster 5 3 0 2\\niguana 2 1 0 1\\nrabbit 29 26 0 3\\nscorpion 1 1 0 0\\nsnake 5 1 1 2\\nSpay/Neuter Program, Div. of Public Health, NC DHHSNC animal shelter reporting data, calendar year 2002, per \"Spay/Neuter Law\"\\nWarren County Animal Control\\nWarren County Manager\\'s Office\\nPO Box 619\\nWarrenton NC 27589\\nspecies # into shelter # adopted out # returned to owner # euthanizedtotal operating expenses\\ncost per animal handled$40,927.00\\n$7,272.00ID # 149\\ndog 1,086 64 9 1,013\\nWashington County Animal Control\\nWashington County Manager\\nPO Box 1007\\nPlymouth NC 27962\\nspecies # into shelter # adopted out # returned to owner # euthanizedtotal operating expenses\\ncost per animal handled$31,128.00\\n$36.24ID # 150\\ncat 444 10 18 423\\ndog 415 94 2 277\\nWatauga County Animal Control\\nCourthouse Box 23\\nBoone NC 28607\\nspecies # into shelter # adopted out # returned to owner # euthanizedtotal operating expenses\\ncost per animal handled$156,642.00\\n$121.33ID # 151\\ncat 559 39 39 444\\ndog 724 100 174 342\\nraccoon 7 0 0 7\\nskunk 1 0 0 1\\nWayne County Animal Control\\nPO Box 227\\nGoldsboro NC 27533-0227\\nspecies # into shelter # adopted out # returned to owner # euthanizedtotal operating expenses\\ncost per animal handled$220,178.00\\n$29.75ID # 153\\nbobcat 1 0 0 1\\nSpay/Neuter Program, Div. of Public Health, NC DHHSNC animal shelter reporting data, calendar year 2002, per \"Spay/Neuter Law\"\\ncat 3,686 111 15 3,560\\ndog 3,567 238 255 3,074\\nfowl 5 0 0 5\\nfox 7 0 0 7\\ngoat 5 0 3 2\\nopossum 87 0 0 87\\npig 6 0 3 3\\nrabbit 4 0 0 4\\nraccoon 27 0 0 27\\nskunk 1 0 0 1\\nsnake 4 0 0 4\\nWilkes County Animal Control\\n408 Call St\\nWilkesboro NC 28697\\nspecies # into shelter # adopted out # returned to owner # euthanizedtotal operating expenses\\ncost per animal handled$274,000.00\\n$46.57ID # 154\\nbat 1 0 0 1\\ncat 2,646 177 10 2,459\\ncow 2 2 0 0\\ndog 3,237 393 169 2,675\\npotbelly pig 1 0 1 0\\nrabbit 10 0 0 10\\nskunk 2 0 0 2\\nsnake 1 1 0 0\\ntarantula 1 1 0 0\\nSpay/Neuter Program, Div. of Public Health, NC DHHSNC animal shelter reporting data, calendar year 2002, per \"Spay/Neuter Law\"\\nWilson County Animal Control\\nWilson County Health Dept.\\n4001 Airport Dr\\nWilson NC 27893\\nspecies # into shelter # adopted out # returned to owner # euthanizedtotal operating expenses\\ncost per animal handled$240,971.32\\n$83.90ID # 155\\ncat 1,142 63 12 1,112\\ndog 1,681 118 103 1,417\\nrabbit 49 5 41 3\\nYancey County Animal Shelter\\nYancey County Humane Society\\nPO Box 1016\\nBurnsville NC 28714\\nspecies # into shelter # adopted out # returned to owner # euthanizedtotal operating expenses\\ncost per animal handled$116,350.00\\n$116.46ID # 157\\ncat 548 215 0 297\\ndog 451 247 9 162\\nLincoln County Animal Control\\nPO Box 506\\nLincolnton NC 28903\\nspecies # into shelter # adopted out # returned to owner # euthanizedtotal operating expenses\\ncost per animal handled$227,819.00\\n$62.92ID # 159\\ncat 1,536 114 9 1,405\\ndog 2,085 354 100 1,605\\nReidsville Veterinary Hospital\\nattn: Dr Joe Kinnarney\\n1401 W Harrison St\\nReidsville NC 27320\\nspecies # into shelter # adopted out # returned to owner # euthanizedtotal operating expenses\\ncost per animal handled$95,700.00\\n$22.76ID # 161\\ncat 1,835 22 12 1,801\\nSpay/Neuter Program, Div. of Public Health, NC DHHSNC animal shelter reporting data, calendar year 2002, per \"Spay/Neuter Law\"\\nchicken 7 7 0 0\\ndog 2,360 79 167 2,114\\ngoat 3 3 0 0\\nEden Veterinary Hospital\\nattn: Dr Glasscock\\nPO Box 2161\\nEden NC 27288\\nspecies # into shelter # adopted out # returned to owner # euthanizedtotal operating expenses\\ncost per animal handled$18,600.00\\n$41.25ID # 162\\nbat 10 0 0 10\\ncat 225 10 0 225\\ndog 177 20 5 177\\nfox 8 0 0 8\\nraccoon 25 0 0 25\\nskunk 1 0 0 1\\nsnake 5 0 0 5\\nAnimal Clinic of Madison-Mayodan\\nAttn: Dr McKinlay\\n726 Ayersville Rd\\nMadison NC 27027\\nspecies # into shelter # adopted out # returned to owner # euthanizedtotal operating expenses\\ncost per animal handled$0.00\\n$0.00ID # 163\\ncat 39 16 6 17\\ndog 47 20 8 19\\nCity of Stoneville Animal Control\\nattn: Bob Wyatt, City Mgr., Administrative Office\\n151 Smith St\\nStoneville NC 27048\\nspecies # into shelter # adopted out # returned to owner # euthanizedtotal operating expenses\\ncost per animal handled$553.00\\n$55.30ID # 164\\nSpay/Neuter Program, Div. of Public Health, NC DHHSNC animal shelter reporting data, calendar year 2002, per \"Spay/Neuter Law\"\\ndog 10 0 3 7\\nValley River Humane Society\\n(Graham Co)\\n7450 US Hwy 19\\nMarble NC 28905\\nspecies # into shelter # adopted out # returned to owner # euthanizedtotal operating expenses\\ncost per animal handled$0.00\\n$0.00ID # 170\\nDID NOT REPORT 0 0 0 0\\nValley River Humane Society\\n(Clay Co)\\n7450 US Hwy 19\\nMarble NC 28905\\nspecies # into shelter # adopted out # returned to owner # euthanizedtotal operating expenses\\ncost per animal handled$0.00\\n$0.00ID # 171\\nDID NOT REPORT 0 0 0 0\\nValley River Humane Society\\n(Swain Co)\\n7450 US Hwy 19\\nMarble NC 28905\\nspecies # into shelter # adopted out # returned to owner # euthanizedtotal operating expenses\\ncost per animal handled$0.00\\n$0.00ID # 172\\nDID NOT REPORT 0 0 0 0\\nCurrituck County Humane Society & Animal Shelter\\nPO Box 365\\nMaple NC 27956\\nspecies # into shelter # adopted out # returned to owner # euthanizedtotal operating expenses\\ncost per animal handled$0.00\\n$0.00ID # 174\\nDID NOT REPORT 0 0 0 0\\nSpay/Neuter Program, Div. of Public Health, NC DHHSNC animal shelter reporting data, calendar year 2002, per \"Spay/Neuter Law\"\\nMelinda Barefoot\\nJohnston County SPCA\\n720 Durham St\\nClayton NC 27520\\nspecies # into shelter # adopted out # returned to owner # euthanizedtotal operating expenses\\ncost per animal handled$48,490.00\\n$53.11ID # 175\\ncat 235 25 2 184\\nchicken 2 2 0 0\\ndog 676 78 75 241\\nAlexander County Animal Control\\nSolid Waste and Animal Control\\nBox 12, 621 Liledoun Rd\\nTaylorsville NC 28681\\nspecies # into shelter # adopted out # returned to owner # euthanizedtotal operating expenses\\ncost per animal handled$118,969.37\\n$43.65ID # 177\\ncat 1,141 29 1 1,049\\ndog 1,575 153 65 1,326\\nopossum 3 0 0 3\\nraccoon 7 0 0 7\\nSpay/Neuter Program, Div. of Public Health, NC DHHS'"
      ]
     },
     "execution_count": 31,
     "metadata": {},
     "output_type": "execute_result"
    }
   ],
   "source": [
    "pdf_2002_combined"
   ]
  },
  {
   "cell_type": "code",
   "execution_count": 6,
   "id": "e30237b6-f748-4c71-be08-d3c1c0b5a316",
   "metadata": {},
   "outputs": [],
   "source": [
    "def returnNumTables(combined_pdf):\n",
    "    return (len(combined_pdf.split(\"Full name\")) - 1)\n",
    "    "
   ]
  },
  {
   "cell_type": "code",
   "execution_count": 7,
   "id": "7c5c3a05-dbc2-49ff-be98-b3b4be2b0ad5",
   "metadata": {},
   "outputs": [],
   "source": [
    "def addShelterInfoData(combined_pdf, num_tables, my_dict):\n",
    "    for i in range(1,num_tables + 1):\n",
    "        my_dict[\"table_num\"].append(i)\n",
    "        my_dict[\"lic_id\"].append(combined_pdf.split(\"total operating expenses\\ncost per animal handled\")[i].split(\"\\n\")[1].lstrip().rstrip().split(\" \")[-1])\n",
    "        my_dict[\"year\"].append(2001)\n",
    "        \n",
    "        try:\n",
    "            if len(combined_pdf.split(\"Department\")[i].split(\"\\n\")[2].split(\" \")) > 3:\n",
    "                county_city = \" \".join(combined_pdf.split(\"Department\")[i].split(\"\\n\")[2].split(\" \")[0:len(combined_pdf.split(\"Department\")[i].split(\"\\n\")[2].split(\" \"))-2])\n",
    "                my_dict[\"city/county\"].append(county_city)\n",
    "                \n",
    "            \n",
    "            else:\n",
    "                my_dict[\"city/county\"].append(combined_pdf.split(\"Department\")[i].split(\"\\n\")[2].split(\" \")[0])\n",
    "            \n",
    "        except IndexError:\n",
    "            \n",
    "            my_dict[\"city/county\"].append(\"Error\")\n",
    "            \n",
    "        try:\n",
    "            my_dict[\"state\"].append(combined_pdf.split(\"Department\")[i].split(\"\\n\")[2].split(\" \")[-2])\n",
    "        \n",
    "        except IndexError:\n",
    "            my_dict[\"state\"].append(\"Error\")\n",
    "            \n",
    "        try:\n",
    "            my_dict[\"zip\"].append(combined_pdf.split(\"Department\")[i].split(\"\\n\")[2].split(\" \")[-1])\n",
    "        \n",
    "        except IndexError:\n",
    "            my_dict[\"zip\"].append(\"Error\")\n",
    "            \n",
    "        my_dict[\"facility_name\"].append(combined_pdf.split(\"Full name\")[i].split(\"\\n\")[0].lstrip().rstrip())\n",
    "    return my_dict"
   ]
  },
  {
   "cell_type": "code",
   "execution_count": 8,
   "id": "67442c27-9ba8-4d80-a986-dc9c07304127",
   "metadata": {},
   "outputs": [],
   "source": [
    "def addExpensesData(combined_pdf, num_tables, my_dict):\n",
    "    for i in range(1,num_tables + 1):\n",
    "        \n",
    "        my_dict[\"operating_expense\"].append(combined_pdf.split(\"total operating expenses\\ncost per animal handled\")[i].split(\"\\n\")[0].lstrip().rstrip())\n",
    "        my_dict[\"cost_per_animal\"].append(combined_pdf.split(\"total operating expenses\\ncost per animal handled\")[i].split(\"\\n\")[1].lstrip().rstrip().split(\" \")[0])\n",
    "        \n",
    "    return my_dict"
   ]
  },
  {
   "cell_type": "code",
   "execution_count": 9,
   "id": "3831a5e1-9cdb-4aa0-b446-0851ab46cdfd",
   "metadata": {},
   "outputs": [
    {
     "ename": "IndentationError",
     "evalue": "expected an indented block (<ipython-input-9-1dc710fd535a>, line 20)",
     "output_type": "error",
     "traceback": [
      "\u001b[1;36m  File \u001b[1;32m\"<ipython-input-9-1dc710fd535a>\"\u001b[1;36m, line \u001b[1;32m20\u001b[0m\n\u001b[1;33m    my_dict[\"species\"].append(species_and_counts[0])\u001b[0m\n\u001b[1;37m    ^\u001b[0m\n\u001b[1;31mIndentationError\u001b[0m\u001b[1;31m:\u001b[0m expected an indented block\n"
     ]
    }
   ],
   "source": [
    "### ONly add columns needed for unique idnetification then I cna do a join to get the other tables. That will make the function cleaner.\n",
    "def addSpeciesData(combined_pdf, num_tables, my_dict):\n",
    "    for i in range(1,num_tables + 1):\n",
    "        dat_list = pdf_2001_combined.split(\"species # into shelter # adopted out # returned to owner # euthanizedtotal operating expenses\\ncost per animal handled\")[i].rstrip().lstrip().split('\\n')\n",
    "        species_num = 2\n",
    "        end_table = False\n",
    "        \n",
    "        try: \n",
    "            while end_table == False:\n",
    "                if \"Full\" in dat_list[species_num] or \"no report\" in dat_list[species_num]:\n",
    "                    end_table = True\n",
    "                else:\n",
    "                    species_and_counts = dat_list[species_num].split(\" \")\n",
    "                    my_dict[\"table_num\"].append(i)\n",
    "                    \n",
    "                    \n",
    "                    if len(species_and_counts[0].split(\" \")) > 1:\n",
    "                        \n",
    "                        \n",
    "                    my_dict[\"species\"].append(species_and_counts[0])\n",
    "                    \n",
    "                    \n",
    "                    my_dict[\"intake\"].append(species_and_counts[-4])\n",
    "                    my_dict[\"adopted\"].append(species_and_counts[-3])\n",
    "                    my_dict[\"returned\"].append(species_and_counts[-2])\n",
    "                    my_dict[\"euthanized\"].append(species_and_counts[-1])  \n",
    "                    species_num += 1\n",
    "                    \n",
    "            \n",
    "        except IndexError:\n",
    "            my_dict[\"table_num\"].append(i)\n",
    "            my_dict[\"species\"].append(\"Error\")\n",
    "            my_dict[\"intake\"].append(\"Error\")\n",
    "            my_dict[\"adopted\"].append(\"Error\")\n",
    "            my_dict[\"returned\"].append(\"Error\")\n",
    "            my_dict[\"euthanized\"].append(\"Error\")\n",
    "            species_num += 1\n",
    "    return my_dict"
   ]
  },
  {
   "cell_type": "code",
   "execution_count": 97,
   "id": "651ca055-8303-4a03-891c-18a8737d5783",
   "metadata": {},
   "outputs": [],
   "source": [
    "empty_info_2001_dict = {\"table_num\":[], \"lic_id\":[], \"year\":[], \"city/county\":[], \"state\":[], \"zip\":[], \"facility_name\":[]}  "
   ]
  },
  {
   "cell_type": "code",
   "execution_count": 87,
   "id": "2a272a8d-18dd-4504-8edf-264706514cc2",
   "metadata": {},
   "outputs": [],
   "source": [
    "empty_expenses_2001_dict = {\"operating_expense\":[], \"cost_per_animal\":[]}"
   ]
  },
  {
   "cell_type": "code",
   "execution_count": 111,
   "id": "a6ad3ace-8e78-4a5f-9beb-ea4f565b1e2f",
   "metadata": {},
   "outputs": [],
   "source": [
    "empty_species_2001_dict = {\"table_num\":[], \"species\":[], \"intake\":[], \"adopted\":[], \"returned\":[], \"euthanized\":[]}"
   ]
  },
  {
   "cell_type": "code",
   "execution_count": 98,
   "id": "685aea83-daa1-422c-85c4-efe59623938a",
   "metadata": {},
   "outputs": [],
   "source": [
    "nc_shelter_info_2001_df = addShelterInfoData(pdf_2001_combined, 93, empty_info_2001_dict)"
   ]
  },
  {
   "cell_type": "code",
   "execution_count": 89,
   "id": "46217ddc-069c-4acb-9a59-1ca95273f4f0",
   "metadata": {},
   "outputs": [],
   "source": [
    "nc_expenses_2001_df = addExpensesData(pdf_2001_combined, 93, empty_expenses_2001_dict)"
   ]
  },
  {
   "cell_type": "code",
   "execution_count": 112,
   "id": "c6c7ff60-cc08-401f-8648-a6f4c1629ed8",
   "metadata": {},
   "outputs": [],
   "source": [
    "nc_species_2001_df = addSpeciesData(pdf_2001_combined, 93, empty_species_2001_dict)"
   ]
  },
  {
   "cell_type": "code",
   "execution_count": 84,
   "id": "fd922349-a50d-4d33-829a-2deef13cc484",
   "metadata": {},
   "outputs": [
    {
     "name": "stdout",
     "output_type": "stream",
     "text": [
      "93\n",
      "93\n",
      "93\n",
      "93\n",
      "93\n",
      "93\n"
     ]
    }
   ],
   "source": [
    "print(len(nc_shelter_info_2001_df[\"lic_id\"]))\n",
    "print(len(nc_shelter_info_2001_df[\"year\"]))\n",
    "print(len(nc_shelter_info_2001_df[\"city/county\"]))\n",
    "print(len(nc_shelter_info_2001_df[\"state\"]))\n",
    "print(len(nc_shelter_info_2001_df[\"zip\"]))\n",
    "print(len(nc_shelter_info_2001_df[\"facility_name\"]))"
   ]
  },
  {
   "cell_type": "code",
   "execution_count": 91,
   "id": "b6541ee3-5d9e-448f-bd0c-d0da2d8783a8",
   "metadata": {},
   "outputs": [
    {
     "name": "stdout",
     "output_type": "stream",
     "text": [
      "93\n",
      "93\n"
     ]
    }
   ],
   "source": [
    "print(len(nc_expenses_2001_df[\"operating_expense\"]))\n",
    "print(len(nc_expenses_2001_df[\"cost_per_animal\"]))"
   ]
  },
  {
   "cell_type": "code",
   "execution_count": 121,
   "id": "5f11a127-c4f4-4092-9ba1-3ecc23c69f4c",
   "metadata": {},
   "outputs": [
    {
     "name": "stdout",
     "output_type": "stream",
     "text": [
      "[1, 1, 1, 2, 2, 3, 3, 4, 4, 4, 4, 4, 4, 4, 4, 4, 4, 4, 4, 4, 4, 4, 4, 4, 4, 4, 4, 4, 4, 5, 5, 6, 6, 7, 7, 7, 7, 7, 7, 7, 8, 8, 8, 8, 8, 8, 8, 8, 8, 8, 8, 9, 9, 10, 11, 11, 11, 11, 11, 11, 11, 11, 11, 12, 12, 12, 12, 12, 12, 13, 13, 13, 13, 13, 13, 13, 13, 13, 13, 13, 13, 13, 13, 13, 13, 13, 14, 14, 15, 15, 15, 15, 15, 15, 15, 16, 16, 16, 17, 17, 17, 17, 17, 17, 17, 17, 17, 17, 17, 17, 17, 17, 17, 17, 19, 19, 19, 19, 19, 19, 19, 19, 19, 19, 19, 19, 19, 19, 19, 20, 20, 21, 21, 21, 21, 21, 21, 21, 21, 23, 23, 24, 24, 24, 24, 24, 25, 25, 25, 25, 25, 25, 27, 27, 27, 27, 27, 27, 27, 27, 27, 27, 27, 27, 27, 27, 28, 28, 28, 28, 28, 28, 28, 28, 28, 28, 28, 28, 28, 28, 28, 28, 28, 28, 28, 28, 28, 29, 29, 29, 29, 30, 30, 30, 31, 31, 32, 32, 32, 32, 32, 32, 32, 34, 34, 34, 34, 34, 34, 34, 34, 34, 35, 35, 36, 36, 37, 37, 37, 38, 38, 38, 38, 38, 38, 38, 42, 42, 43, 44, 44, 45, 45, 45, 45, 45, 47, 47, 48, 48, 48, 48, 48, 48, 48, 48, 48, 48, 48, 48, 48, 48, 48, 49, 49, 49, 49, 49, 49, 49, 49, 50, 50, 51, 51, 51, 51, 53, 53, 54, 54, 55, 55, 56, 56, 56, 56, 56, 56, 57, 57, 57, 57, 57, 57, 58, 58, 59, 59, 59, 59, 60, 60, 62, 62, 62, 63, 63, 65, 65, 66, 66, 66, 67, 67, 68, 68, 68, 68, 68, 68, 68, 68, 68, 68, 68, 68, 68, 69, 69, 70, 70, 71, 71, 72, 72, 72, 72, 73, 73, 73, 73, 74, 74, 75, 75, 75, 75, 75, 75, 75, 76, 76, 77, 77, 77, 77, 77, 77, 77, 77, 77, 77, 77, 78, 78, 79, 79, 80, 80, 80, 80, 80, 80, 81, 81, 81, 81, 81, 81, 82, 82, 82, 82, 82, 82, 82, 83, 83, 83, 83, 83, 83, 83, 84, 84, 84, 84, 84, 85, 85, 86, 86, 86, 86, 87, 88, 89, 89, 90, 90, 90, 91, 91, 93, 93, 93, 93, 93, 93, 93, 93]\n",
      "['50', '460', '1', '450', '886', '560', '689', '60', '4155', '5080', '12', '29', '6', '23', '8', '1', 'pig', '22', '14', '24', '16', 'pig', '1', '39', '74', '0', '2', '7', '0', '1526', '1930', '603', '1181', '2', '2', '6', '1217', '3461', '46', '37', '7', '2329', '26', '2848', '23', '25', '1', '10', '7', '2', 'pig', '1985', '2910', '973', '10', '1', '2601', '3130', '3', '1', '39', '6', '3', '4', '2929', '3680', '2', '11', '4', '210', '491', '7962', '45', '10618', '2', '39', '48', '23', '1', '259', '32', '100', '878', '64', '101', '3', '1111', '1266', '7', '797', '725', '1', '34', '15', '11', '1955', '2289', '167', '1', '13', '1008', '1', '2', '1730', '1', '3', '45', '3', '3', '24', '1', '9', '42', '4', '16', '5', '3552', '1', '2', '3990', '1', '32', '10', '17', '44', '1', '107', '16', '2', '1537', '2977', '4', 'Goose', '3289', '2878', '5', 'duck', '34', '24', '4070', '4713', '4', '419', '1193', '35', '20', '738', '8', '1113', '2', '6', '1', '11', '2', '1', '1079', '679', '1990', '9', '5', '9', '2', '1', '7', '2', '4', '121', '5056', '1', '3', '4930', '1', '3', '45', '3', '3', '2', '1', '83', '1', 'dog', '6', '196', '4', '13', '5', '24', '1', '402', '467', '2', '1095', '2171', '83', '21', '85', '2', '3873', '6349', 'pig', '1', '5', '325', '5', '1603', '2282', 'chicken', '4', '4', '1', '7', '3', '1810', 'Error', '323', '526', '437', '1243', '2', '3474', '3664', '13', '81', '88', '17', '97', '352', '441', '441', '1395', '2219', '2', '559', '669', 'pig', '3', '1619', '1848', '3', '1', '1783', '1673', '1', '2', '3', '1', '1', '1', '38', '2', '1', '24', '1', '1', '1969', '2339', '2', '6', '4', '3', '9', '386', '583', '1764', '5289', '555', 'Error', '26', '92', '1025', '1479', '1725', '2338', '2856', '4', '3521', '7', '2', '2', '547', '2217', '6', '1', '14', '47', '738', '3725', '2817', '3250', '35', '225', '1618', '2739', '2189', '2465', '73', '1856', '1806', '2090', '3881', '467', '707', '9', '1433', '1979', '29', '1339', '9', '1', '7', '6', '73', '2', '5', '100', '15', '3', '2', '664', '1354', '2017', '1333', '145', '315', '3783', '4312', '230', '61', '128', '173', '1', '1', '384', '973', '4066', '3', '4483', '4', '5', 'pig', '12', '550', '1532', '2', '3249', '3854', '11', '1', '1', '1', '1', '8', '1', '1', '469', '1091', '328', '424', '496', '747', '5', '1', '4', '2', '3538', '3559', '15', '78', '3', '30', '2213', '7', '2963', '25', 'pig', '32', '9', '1', '1514', '1', '1928', 'pig', '2', '3', '650', '405', 'pig', '12', '3', '1276', '1790', '1384', '1863', '5', 'pig', '371', '9', '187', '184', '133', '383', '1', '111', '174', '558', '2', '393', '1', 'pig', '1', '6', 'Error']\n"
     ]
    }
   ],
   "source": [
    "last_two_elements = nc_species_2001_df['table_num'][:]\n",
    "print(last_two_elements)\n",
    "\n",
    "print(nc_species_2001_df['intake'][:])"
   ]
  },
  {
   "cell_type": "code",
   "execution_count": null,
   "id": "f9cb06ce-08e4-4693-a62d-1158a1541c8a",
   "metadata": {},
   "outputs": [],
   "source": [
    "nc_shelter_info_2001_df"
   ]
  },
  {
   "cell_type": "code",
   "execution_count": 142,
   "id": "41c26ae1-d273-4a0a-b9ab-200f720252ac",
   "metadata": {},
   "outputs": [],
   "source": [
    "nc_shelter_expenses_2001_dict = addExpensesData(93, empty_expenses_2001_dict)"
   ]
  },
  {
   "cell_type": "code",
   "execution_count": 143,
   "id": "b2f86d7f-c8c5-4367-ac15-6e6bba1240b6",
   "metadata": {
    "collapsed": true,
    "jupyter": {
     "outputs_hidden": true
    }
   },
   "outputs": [
    {
     "name": "stdout",
     "output_type": "stream",
     "text": [
      "['$9,826.85', '$19.23 ID # 4', 'cat 50 44 0 6', 'dog 460 187 33 240', 'equine 1 0 1 0', 'Full name Anson County Animal Control', 'Department Anson County Health Dept', 'PO Box 473', 'Wadesboro NC 28170']\n",
      "['$39,335.00', '$29.44 ID # 5', 'cat 450 0 1 449', 'dog 886 0 11 875', 'Full name Ashe County Animal Control', 'Department', 'PO Box 1797', 'West Jefferson NC 28694']\n",
      "['$82,883.52', '$66.36 ID # 6', 'cat 560 35 3 522', 'dog 689 78 40 571', 'Full name Asheville Humane Society', 'Department', '72 Lees Creek Rd', 'Asheville NC 28806']\n",
      "['$1,258,398.00', '$75.68 ID # 7', 'bird 60 15 0 13', 'cat 4155 660 74 3193', 'dog 5080 1259 615 3037', 'ferret 12 4 0 4', 'fish 29 1 20 0', 'fox 6 0 0 5', 'gerbil 23 6 0 22', 'goat 8 1 0 1', 'groundhog 1 0 0 1', 'guinea pig 28 10 0 15', 'hamster 22 2 0 15', 'livestock 14 0 10 0', 'mouse 24 10 0 16', 'opossum 16 0 0 14', 'potbelly pig 4 1 0 1', 'python 1 1 0 0', 'rabbit 39 8 0 35', 'raccoon 74 0 0 69', 'salamander 0 1 0 0', 'skunk 2 0 0 2', 'squirrel 7 0 0 5', 'tarantula 0 1 0 0', 'Full name Beaufort County Animal Control', 'Department', 'PO Box 1027', 'Washington NC 27889']\n",
      "['$117,529.00', '$21.46 ID # 9', 'cat 1526 39 7 1475', 'dog 1930 55 99 1685', 'Full name Bertie County Animal Control', 'Department Animal Control/Solid Waste', 'PO Box 530', 'Windsor NC 27983']\n",
      "['$37,665.00', '$3.00 ID # 10', 'cat 603 470 8 125', 'dog 1181 660 87 424', 'Full name Bladen County Animal Control', 'Department Bladen County Health Dept', 'PO Box 189', 'Elizabethtown NC 28337']\n",
      "['$81,341.00', '$16.46 ID # 11', 'bat 2 0 0 2', 'bear 2 0 0 0', 'bobcat 6 0 0 6', 'cat 1217 61 6 1150', 'dog 3461 699 59 2703', 'opossum 46 0 0 14', 'raccoon 37 0 0 37', 'Full name Brunswick County Animal Services', 'Department Brunswick County Health Dept', 'PO Box 92', 'Supply NC 28462']\n",
      "['$376,273.41', '$70.95 ID # 12', 'birds 7 0 0 0', 'cat 2329 225 15 1864', 'chickens 26 0 2 18', 'dog 2848 642 161 1887', 'duck 23 0 0 8', 'fowl 25 0 0 7', 'fox 1 0 0 1', 'hog 10 0 2 0', 'opossum 7 0 0 0', 'raccoon 2 0 0 2', 'vietnamese pig 25 0 2 1', 'Full name Burke County Animal Shelter', \"Department Burke County Sheriff's Dept\", '150 Government Dr', 'Morganton NC 28655']\n",
      "['$240,000.00', '$25.00 ID # 13', 'cat 1985 127 18 1832', 'dog 2910 589 108 1955', 'Full name Cabarrus County Animal Control', \"Department Cabarrus County Sheriff's Dept\", 'PO Box 525', 'Concord NC 28026-0525']\n",
      "['$124,367.00', '$91.85 ID # 14', 'dog 973 97 117 759', 'Full name Caldwell County Animal Control', 'Department', 'PO Box 2200', 'Lenoir NC 28645']\n",
      "['$276,094.67', '$47.65 ID # 15', 'bat 10 0 0 5', 'bobcat 1 0 0 0', 'cat 2601 47 15 2521', 'dog 3130 132 230 2725', 'fox 3 0 0 0', 'groundhog 1 0 0 0', 'raccoon 39 0 0 20', 'skunk 6 0 0 3', 'squirrel 3 0 0 1', 'Full name Catawba County Animal Control and Shelter', 'Department', 'PO Box 389', 'Newton NC 28658']\n",
      "['$326,315.00', '$49.00 ID # 19', 'bat 4 0 0 4', 'cat 2929 147 21 2825', 'dog 3680 597 306 2739', 'fox 2 0 0 2', 'raccoon 11 0 0 11', 'skunk 4 0 0 4', 'Full name Charlotte-Mecklenburg Animal Control', 'Department Charlotte-Mecklenburg Police Dept', '8315 Byrum Dr', 'Charlotte NC 28217']\n",
      "['$4,232,238.00', '$202.73 ID # 20', 'bat 210 0 0 168', 'bird 491 50 124 221', 'cat 7962 1027 209 6726', 'deer 45 0 0 29', 'dog 10618 1798 1882 6832', 'equine 2 0 1 0', 'ferret 39 13 20 3', 'fox 48 0 0 46', 'goat 23 19 1 3', 'livestock 1 0 1 0', 'opossum 259 0 0 81', 'pig 32 19 0 2', 'rabbit 100 42 1 42', 'raccoon 878 0 0 767', 'reptile 64 24 3 11', 'rodent 101 6 0 43', 'skunk 3 0 0 2', 'Full name Chatham County Animal Control', 'Department Chatham County Health Dept', '725 County Landfill Rd', 'Pittsboro NC 27312']\n",
      "['$234,280.00', '$98.56 ID # 21', 'cat 1111 89 5 1000', 'dog 1266 269 116 818', 'Full name Chowan County Animal Control', 'Department', '138 Icaria Rd', 'Tyner NC 27980']\n",
      "['$20,012,864.00', '$7,610.00 ID # 23', 'bat 7 0 0 2', 'cat 797 77 4 716', 'dog 725 136 55 510', 'fox 1 0 0 1', 'opossum 34 0 0 0', 'other 15 0 0 3', 'raccoon 11 0 0 9', 'Full name City of Burlington Animal Control', 'Department Burlington Police Department', '267 W Front St', 'Burlington NC 27215']\n",
      "['$324,893.23', '$55.83 ID # 25', 'cat 1955 108 89 1622', 'dog 2289 127 348 1687', 'other 167 34 16 101', 'Full name City of Rocky Mount Animal Control', 'Department Rocky Mount Police Dept', 'PO Box 1180', 'Rocky Mount NC 27801']\n",
      "['$162,000.00', '$76.71 ID # 42', 'bat 1 0 0 1', 'bird 13 0 7 6', 'cat 1008 153 13 824', 'chipmunk 1 0 1 0', 'deer 2 0 0 2', 'dog 1730 197 284 1288', 'ferret 1 0 1 0', 'groundhog 3 0 0 3', 'opossum 45 0 43 2', 'pig 3 3 0 0', 'rabbit 3 0 3 0', 'raccoon 24 0 0 24', 'ringtail 1 0 1 0', 'snake 9 0 6 3', 'squirrel 42 0 39 3', 'turtle 4 0 3 1', 'Full name City of Tarboro Animal Control', 'Department Dept. of Public Works', 'PO Box 220', 'Tarboro NC 27886']\n",
      "['$0.00', '$0.00 ID # 45', 'no report 0 0 0 0', 'Full name Cleveland County Animal Control', 'Department Cleveland County Animal Shelter', '315 E Grover St', 'Shelby NC 28150-3998']\n",
      "['$310,815.00', '$39.87 ID # 48', 'bat 16 0 0 16', 'bird 5 0 2 3', 'cat 3552 13 25 2634', 'chipmunks 1 0 0 1', 'deer 2 0 1 1', 'dog 3990 32 326 3448', 'ferret 1 0 0 1', 'Fox 32 0 0 32', 'groundhog 10 0 0 10', 'livestock 17 0 8 2', 'opossum 44 0 0 44', 'rabbit 1 0 1 0', 'raccoon 107 0 0 107', 'Skunk 16 0 0 16', 'squirrel 2 0 0 2', 'Full name Columbus County Animal Control', 'Department', '111 Washington Ave', 'Whiteville NC 28472']\n",
      "['$118,410.00', '$262.32 ID # 49', 'cat 1537 84 32 1421', 'dog 2977 350 93 2534', 'Full name Craven-Pamlico Animal Services Center', 'Department Craven County Health Dept', '1639 Old Airport Rd', 'New Bern NC 28562']\n",
      "['$242,464.00', '$38.88 ID # 51', 'bat 4 0 0 4', 'can. Goose 1 0 0 1', 'cat 3289 144 28 3071', 'dog 2878 334 259 2213', 'fox 5 0 0 5', 'mallard duck 1 0 0 1', 'opossum 34 0 33 1', 'raccoon 24 0 0 24', 'Full name Cumberland County Animal Control', 'Department', 'PO Drawer 1829', 'Fayetteville NC 28302']\n",
      "['$0.00', '$0.00 ID # 52', 'no report 0 0 0 0', 'Full name Davidson County Animal Control', 'Department', '490 Glendale Rd', 'Lexington NC 27292']\n",
      "['$95,661.00', '$10.89 ID # 54', 'cat 4070 137 22 3911', 'dog 4713 324 255 4134', 'Full name Davie County Animal Control', 'Department', '809 Salisbury St', 'Mocksville NC 27028']\n",
      "['$86,000.00', '$53.34 ID # 55', 'bats 4 0 0 4', 'cat 419 36 11 372', 'dog 1193 61 37 1095', 'raccoon 35 0 0 35', 'skunk 20 0 0 20', 'Full name Edgecombe County Animal Control', 'Department', '2909 N Main St', 'Tarboro NC 27886']\n",
      "['$130,704.00', '$69.97 ID # 58', 'cat 738 71 3 642', 'deer 8 0 0 8', 'dog 1113 310 42 702', 'goat 2 2 0 0', 'opossum 6 0 6 0', 'raccoon 1 0 0 1', 'Full name Forsyth County Animal Control', 'Department', '1200 Fairchild Dr', 'Winston Salem NC 27105']\n",
      "['$0.00', '$0.00 ID # 59', 'no report 0 0 0 0', 'Full name Franklin County Animal Control', 'Department Franklin County Health Dept', '107 Industrial Dr Ste C', 'Louisburg NC 27549']\n",
      "['$359,111.44', '$144.02 ID # 60', 'bat 11 0 0 11', 'bird 2 0 0 2', 'bobcat 1 0 0 1', 'cat 1079 18 0 1066', 'dog 679 170 236 242', 'dog 1990 155 127 1722', 'fox 9 0 0 9', 'groundhog 5 0 0 5', 'opossum 9 0 0 9', 'pig 2 0 0 2', 'rabbit 1 0 0 1', 'raccoon 7 0 0 7', 'rat 2 0 0 2', 'snake 4 0 0 4', 'Full name Gaston County Animal Control', 'Department Gaston County Police Dept', 'PO Box 479', 'Dallas NC 28034']\n",
      "['$821,156.00', '$78.19 ID # 61', 'birds 121 26 19 76', 'cat 5056 21 83 4644', 'coyote 1 0 0 1', 'deer 3 0 0 3', 'dog 4930 127 502 4196', 'ferrets 1 0 0 1', 'fish 3 0 3 0', 'fox 45 0 0 45', 'goats 3 2 1 0', 'groundhog 3 0 0 3', 'horses 2 0 2 0', 'iguana 1 1 0 0', 'oppossum 83 0 58 25', 'pig 1 1 0 0', 'prairie dog 1 0 0 1', 'rabbit 6 0 1 5', 'raccoon 196 0 1 195', 'rodents 4 0 1 3', 'skunk 13 0 0 13', 'snakes 5 0 4 1', 'squirrels 24 0 3 21', 'Full name Gates County Animal Control', \"Department Gates County Sheriff's Dept\", 'PO Box 148', 'Gatesville NC 27938']\n",
      "['$23,002.00', '$4,345.00 ID # 62', 'bird 1 0 0 0', 'cat 402 31 1 468', 'dog 467 99 19 324', 'raccoon 2 0 0 2', 'Full name Granville County Animal Control', 'Department Dept of Emergency Services', 'PO Box 1642', 'Oxford NC 27565']\n",
      "['$176,160.34', '$52.60 ID # 64', 'cat 1095 139 15 941', 'dog 2171 303 28 1735', 'other 83 36 2 45', 'Full name Greene County Animal Control', 'Department Greene County Health Dept', '227 Kingold Blvd - Ste B', 'Snow Hill NC 28580']\n",
      "['$23,444.54', '$221.17 ID # 65', 'cat 21 12 0 9', 'dog 85 51 5 20', 'Full name United Animal Coalition', 'Department Guilford County Animal Shelter', 'PO Box 8', 'Jamestown NC 27282-0008']\n",
      "['$1,333,060.00', '$113.00 ID # 66', 'birds 2 0 0 1', 'cat 3873 1475 36 2186', 'dog 6349 2734 798 2847', 'ferret,hamster,guinea pig 5 0 0 30', 'livestock 1 0 0 0', 'rabbit 5 1 0 2', 'wildlife 325 0 0 316', 'Full name Halifax County Animal Control', 'Department Halifax County Health Dept', 'PO Box 10', 'Halifax NC 27839']\n",
      "['$0.00', '$0.00 ID # 68', 'no report 0 0 0 0', 'Full name Haywood County Animal Control', 'Department', 'PO Box 3036', 'Waynesville NC 28738']\n",
      "['$230,000.00', '$36.00 ID # 71', 'bats 5 0 0 5', 'cat 1603 185 15 1350', 'dog 2282 496 257 1321', 'Fowl, chicken 163 0 140 0', 'fox 4 0 0 4', 'goats 4 2 2 0', 'iguana 1 0 1 0', 'opossum 7 0 0 7', 'rabbit 3 1 0 2', 'Full name Henderson County Animal Control', 'Department Henderson County Health Dept', '810 Stoney Mtn Rd', 'Hendersonville NC 28791']\n",
      "['$233,752.00', '$60.00 ID # 72', 'cat 1810 173 1609', 'dog 2023 577 0 1377', 'Full name Hertford County Animal Control', 'Department', 'PO Box 479', 'Winton NC 27986']\n",
      "['$43,160.00', '$50.84 ID # 73', 'cat 323 0 0 253', 'dog 526 26 3 329', 'Full name Hoke County Animal Control', 'Department', 'PO Box 210', 'Raeford NC 28376']\n",
      "['$32,500.00', '$19.33 ID # 74', 'cat 437 35 7 404', 'dog 1243 333 145 734', 'fox 2 0 0 2', 'Full name Iredell County Animal Control', 'Department', '243 Twin Oaks Rd', 'Statesville NC 28625']\n",
      "['$526,570.00', '$70.08 ID # 76', 'cat 3474 49 48 3370', 'dog 3664 122 370 3109', 'fox 13 0 0 13', 'opossum 81 0 0 81', 'raccoon 88 0 0 88', 'skunk 17 0 0 17', 'wildlife/livestock 97 0 0 0', 'Full name Jackson County Animal Control', 'Department Jackson County Health Dept', '538 Scotts Creek Rd', 'Sylva NC 28779']\n",
      "['$0.00', '$0.00 ID # 77', 'no report 0 0 0 0', 'Full name Johnston County Animal Control', 'Department', '1320 N Brightleaf Blvd', 'Smithfield NC 27577']\n",
      "['$0.00', '$0.00 ID # 78', 'no report 0 0 0 0', 'Full name Macon County Animal Control', \"Department Macon County Sheriff's Dept\", 'PO Box 81', 'Franklin NC 28744']\n",
      "['$0.00', '$0.00 ID # 84', 'no report 0 0 0 0', 'Full name Madison County Animal Control', 'Department Madison County Health Dept', '140 Health Care Ln', 'Marshall NC 28753']\n",
      "['$48,390.03', '$61.02 ID # 85', 'cat 352 223 1 87', 'dog 441 156 11 246', 'Full name Madison County Friends of Animals', 'Department Animal Shelter', '389 Long Branch Rd', 'Marshall NC 28753']\n",
      "['$0.00', '$0.00 ID # 86', 'dog 441 156 11 246', 'no report', 'Full name McDowell County Animal Control', 'Department McDowell County Animal Shelter', '60 E Court St', 'Marion NC 28752']\n",
      "['$73,599.78', '$20.37 ID # 88', 'cat 1395 69 63 1263', 'dog 2219 145 155 1919', 'Full name Mitchell County Animal Shelter', 'Department', 'PO Box 308', 'Spruce Pine NC 28777']\n",
      "['$67,551.00', '$54.74 ID # 89', 'birds 2 2 0 0', 'cat 559 264 0 290', 'dog 669 287 13 366', 'guinea pig 1 1 0 0', 'rabbit 3 3 0 0', 'Full name Montgomery County Animal Control', 'Department c/o Laura Morton', 'PO Box 425', 'Troy NC 27371']\n",
      "['$0.00', '$0.00 ID # 90', 'no report 0 0 0 0', 'Full name Animal Center of Moore County', 'Department c/o Moore County Health Dept', 'PO Box 279', 'Carthage NC 28327']\n",
      "['$295,988.28', '$85.37 ID # 91', 'cat 1619 491 58 860', 'dog 1848 753 145 713', 'Full name Nash County Animal Control', 'Department Nash County Health Dept', 'PO Box 849', 'Nashville NC 27856']\n",
      "['$168,945.26', '$47.79 ID # 93', 'beaver 3 0 0 3', 'bobcat 1 0 0 1', 'cat 1783 14 9 1732', 'dog 1673 72 68 1487', 'duck 1 0 0 1', 'ferret 2 1 0 1', 'fox 3 0 0 3', 'goat 1 0 1 0', 'groundhog 1 0 0 1', 'horse 1 1 0 0', 'opossum 38 0 19 19', 'pig 2 1 0 1', 'rabbit 1 0 0 1', 'raccoon 24 0 0 24', 'squirrel 1 0 0 1', 'Full name New Hanover County Animal Control Services', 'Department New Hanover County Health Dept', '180 Division Dr', 'Wilmington NC 28401']\n",
      "['$904,084.00', '$209.00 ID # 94', 'bat 1 0 0 1', 'cat 1969 230 80 1571', 'dog 2339 385 629 1229', 'fox 2 0 0 2', 'livestock 6 1 2 0', 'opossum 4 0 0 2', 'rabbit 3 2 0 1', 'raccoons 9 0 0 9', 'Full name Northampton County Animal Control', 'Department Northampton County Health Dept', 'PO Box 635', 'Jackson NC 27845']\n",
      "['$47,329.37', '$48.84 ID # 95', 'cat 386 0 1 385', 'dog 583 2 6 575', 'Full name Onslow County Animal Control', 'Department', '244 Georgetown Rd', 'Jacksonville NC 28540']\n",
      "['$379,880.00', '$3.74 ID # 97', 'cat 1764 488 78 1195', 'dog 5289 1562 391 3587', 'other 555', 'Full name Pender County Animal Control', 'Department Pender County Health Dept', 'PO Box 1209', 'Burgaw NC 28425']\n",
      "['$0.00', '$0.00 ID # 101', 'no report 0 0 0 0', 'Full name Perquimans County Animal Control', \"Department Perquimans County Sheriff's Dept\", 'PO Box 45', 'Hertford NC 27944']\n",
      "['$25,393.32', '$215.20 ID # 102', 'cat 26 2 0 24', 'dog 92 22 2 68', 'Full name Person County Animal Control', 'Department', '2103 Chub Lake Rd', 'Roxboro NC 27573']\n",
      "['$144,236.00', '$57.60 ID # 103', 'cat 1025 69 11 945', 'dog 1479 101 108 1270', 'Full name Pitt County Animal Control', 'Department Pitt County Animal Shelter', '1717 W 5th St', 'Greenville NC 27834']\n",
      "['$0.00', '$0.00 ID # 104', 'cat 1725 13 6 1541', 'dog 2338 101 136 1953', 'Full name Randolph County Animal Control', 'Department Randolph County Health Dept', '2222-B S Fayetteville St', 'Asheboro NC 27203']\n",
      "['$278,148.00', '$43.50 ID # 106', 'cat 2856 55 23 2773', 'chicken 4 0 0 4', 'dog 3521 118 268 3109', 'goat 7 0 7 0', 'pig 2 2 0 0', 'rabbit 2 0 2 0', 'Full name Richmond County Animal Control', 'Department Richmond County Health Dept', '127 Caroline St', 'Rockingham NC 28379']\n",
      "['$96,967.02', '$34.24 ID # 107', 'cat 547 0 1 546', 'dog 2217 49 50 2054', 'opossum 6 0 0 6', 'pig 1 0 1 0', 'raccoon 14 0 0 14', 'rooster 47 0 0 47', 'Full name Robeson County Animal Control', 'Department Robeson County Health Dept', '460 Country Club Blvd', 'Lumberton NC 28358']\n",
      "['$78,324.05', '$17.53 ID # 109', 'cat 738 94 11 659', 'dog 3725 403 69 3567', 'Full name Rowan County Animal Control', 'Department Rowan County Health Dept', '1811 E Innes St', 'Salisbury NC 28146-6030']\n",
      "['$351,645.00', '$56.00 ID # 111', 'cat 2817 127 11 2025', 'dog 3250 490 233 2225', 'livestock 35 9 25 1', 'wildlife 225 0 0 197', 'Full name Rutherford County Animal Control', \"Department Rutherford County Sheriff's Dept\", '289 N Main St', 'Rutherfordton NC 28139']\n",
      "['$176,487.00', '$40.51 ID # 112', 'cat 1618 60 40 1518', 'dog 2739 309 92 2338', 'Full name Sampson County Animal Control', \"Department Sampson County Manager's Office\", '435 Rowan Rd', 'Clinton NC 28328']\n",
      "['$0.00', '$0.00 ID # 113', 'no report 0 0 0 0', 'Full name Stanly County Animal Control', 'Department Stanly County Health Dept', '1000 N First St, Ste 3', 'Albemarle NC 28001']\n",
      "['$161,863.50', '$34.24 ID # 115', 'cat 2189 16 21 1930', 'dog 2465 122 189 1807', 'racoons,fox,skunk 73 0 0 73', 'Full name Stokes County Animal Control', 'Department Stokes County Animal Shelter', '1999 Sizemore Rd', 'Germanton NC 27019']\n",
      "['$132,933.00', '$36.30 ID # 116', 'cat 1856 59 6 1791', 'dog 1806 152 143 1511', 'Full name Surry County Animal Control', 'Department Surry County Health Dept', '118 Hamby Rd', 'Dobson NC 27017']\n",
      "['$0.00', '$0.00 ID # 118', 'no report 0 0 0 0', 'Full name The Animal Protection Soc. of Durham', 'Department', '2117 E Club Blvd', 'Durham NC 27704']\n",
      "['$408,468.00', '$68.42 ID # 121', 'cat 2090 371 205 1514', 'dog 3881 689 379 2812', 'Full name The Jackson County Humane Society', 'Department', 'PO Box 1966', 'Sylva NC 28779']\n",
      "['$118,355.54', '$100.81 ID # 127', 'cat 467 183 8 267', 'dog 707 103 58 410', 'other 9 0 0 5', 'Full name The Lenoir Co SPCA Animal Shelter', 'Department', 'PO Box 1481', 'Kinston NC 28503']\n",
      "['$140,000.00', '$70.00 ID # 128', 'cat 1433 187 18 1091', 'dog 1979 269 179 1369', 'Full name The Outer Banks SPCA Animal Shelter', 'Department', 'PO Box 1000', 'Manteo NC 27954']\n",
      "['$0.00', '$0.00 ID # 129', 'bird 29 12 2 15', 'cat 1339 120 20 1185', 'deer 9 0 0 9', 'ferret 1 1 0 0', 'fox 7 0 0 7', 'horse 6 6 0 0', 'opossum 73 0 60 13', 'otters 2 0 0 2', 'rabbit 5 3 0 2', 'raccoon 100 0 0 100', 'rodents 15 2 0 13', 'snakes 3 0 3 0', 'turtles 2 0 2 0', 'Full name The Scotland Co. Humane Society', 'Department', '1401 West Blvd', 'Laurinburg NC 28352']\n",
      "['$156,188.00', '$77.00 ID # 130', 'cat 664 198 21 435', 'dog 1354 344 99 928', 'Full name The SPCA of NE North Carolina', 'Department c/o Jo Ellen Smith', 'PO Box 1772', 'Elizabeth City NC 27906']\n",
      "['$103,773.81', '$30.98 ID # 131', 'cat 2017 558 27 1432', 'dog 1333 490 232 611', 'Full name Valley River Humane Society', 'Department (Cherokee Co)', '7450 US 19', 'Marble NC 28905']\n",
      "['$154,267.00', '$286.21 ID # 132', 'cat 145 109 0 71', 'dog 315 179 11 169', 'Full name The Wake Co SPCA Animal Shelter', 'Department', '200 Petfinder Ln', 'Raleigh NC 276036075']\n",
      "['$858,746.00', '$102.40 ID # 133', 'cat 3783 942 114 2618', 'dog 4312 1406 708 2114', 'other 230 37 4 140', 'rabbits 61 14 1 41', 'Full name Town of Kill Devil Hills Animal Control', 'Department Kill Devil Hills Police Dept', 'PO Box 1605', 'Kill Devil Hills NC 27959']\n",
      "['$104,897.00', '$346.19 ID # 138', 'cat 128 3 4 119', 'dog 173 23 108 38', 'ferret 1 0 1 0', 'raccoon 1 0 0 1', 'Full name Transylvania County Animal Control', 'Department Transylvania Co. Health Dept', '203 E Morgan St', 'Brevard NC 28712']\n",
      "['$124,367.00', '$91.85 ID # 143', 'cat 384 30 17 337', 'dog 973 97 117 759', 'Full name Union County Animal Shelter', \"Department Union County Sheriff's Office\", '3344 Presson Rd', 'Monroe NC 28112']\n",
      "['$423,490.00', '$49.35 ID # 146', 'cat 4066 980 19 3067', 'chicken 3 0 0 3', 'dog 4483 1335 249 2899', 'ferret 4 0 0 4', 'goat 5 5 0 0', 'potbelly pig 8 5 0 3', 'rabbit 12 9 0 3', 'Full name Vance County Animal Control', 'Department', '165 Vance Academy Rd', 'Henderson NC 27536']\n",
      "['$103,929.42', '$50.00 ID # 147', 'cat 550 125 3 468', 'dog 1532 478 60 948', 'Full name Wake County Animal Control & Shelter', 'Department', 'PO Box 550', 'Raleigh NC 27602']\n",
      "['$1,493,706.00', '$209.00 ID # 148', 'bird 2 1 1 0', 'cat 3249 589 52 2564', 'dog 3854 1274 391 2118', 'ferret 11 7 4 0', 'fowl 1 0 0 1', 'goat 1 0 1 0', 'hog 1 1 0 0', 'horse 1 0 0 0', 'rabbit 8 8 0 0', 'reptile 1 0 0 0', 'wolf 1 1 0 0', 'Full name Warren County Animal Control', \"Department Warren County Manager's Office\", 'PO Box 619', 'Warrenton NC 27589']\n",
      "['$41,136.60', '$26.37 ID # 149', 'cat 469 0 0 469', 'dog 1091 44 23 1024', 'Full name Washington County Animal Control', 'Department Washington County Manager', 'PO Box 1007', 'Plymouth NC 27962']\n",
      "['$32,778.91', '$43.59 ID # 150', 'cat 328 36 2 266', 'dog 424 119 19 330', 'Full name Watauga County Animal Control', 'Department', 'Courthouse Box 23', 'Boone NC 28607']\n",
      "['$127,085.00', '$101.26 ID # 151', 'cat 496 52 52 392', 'dog 747 177 133 343', 'raccoon 5 0 0 5', 'rodent 1 0 0 1', 'skunk 4 0 0 4', 'squirrel 2 0 0 2', 'Full name Wayne County Animal Control', 'Department', 'PO Box 227', 'Goldsboro NC 27533-0227']\n",
      "['$172,968.00', '$23.94 ID # 153', 'cat 3538 127 19 3392', 'dog 3559 255 247 3057', 'fox 15 0 0 15', 'opossum 78 0 78 0', 'pig 3 0 3 0', 'raccoon 30 0 0 30', 'Full name Wilkes County Animal Control', 'Department', '408 Call St', 'Wilkesboro NC 28697']\n",
      "['$231,368.00', '$44.07 ID # 154', 'cat 2213 191 24 2058', 'chicken 7 0 0 7', 'dog 2963 346 165 2560', 'opossum 25 0 0 25', 'potbelly pig 1 0 0 1', 'raccoon 32 0 0 32', 'skunks 9 0 0 9', 'Full name Wilson County Animal Control', 'Department Wilson County Health Dept.', '4001 Airport Dr', 'Wilson NC 27893']\n",
      "['$276,500.00', '$0.00 ID # 155', 'bird 1 0 1 0', 'cat 1514 86 17 1400', 'chicken 1 1 0 0', 'dog 1928 166 133 1640', 'guinea pig 1 0 1 0', 'pig 2 2 0 0', 'rabbit 3 3 0 0', 'Full name Yancey County Animal Shelter', 'Department Yancey County Humane Society', 'PO Box 1016', 'Burnsville NC 28714']\n",
      "['$107,759.21', '$100.42 ID # 157', 'cat 650 155 1 290', 'dog 405 270 21 202', 'guinea pig 3 3 0 0', 'hamster 12 12 0 0', 'rabbit 3 3 0 0', 'Full name Lincoln County Animal Control', 'Department', 'PO Box 506', 'Lincolnton NC 28903']\n",
      "['$223,899.11', '$0.00 ID # 159', 'cats 1276 84 8 1163', 'dog 1790 204 51 1452', 'Full name Reidsville Veterinary Hospital', 'Department attn: Dr Joe Kinnarney', '1401 W Harrison St', 'Reidsville NC 27320']\n",
      "['$81,300.00', '$25.00 ID # 161', 'cat 1384 27 14 1343', 'dog 1863 75 132 1656', 'goat 5 5 0 0', 'potbelly pig 1 1 0 0', 'Full name Eden Veterinary Hospital', 'Department attn: Dr Glasscock', 'PO Box 2161', 'Eden NC 27288']\n",
      "['$0.00', '$0.00 ID # 162', 'dog 371 0 0 556', 'Full name City of Stoneville Animal Control', 'Department attn: Bob Wyatt, City Mgr., Administrative Office', '151 Smith St', 'Stoneville NC 27048']\n",
      "['$242.75', '$26.97 ID # 164', 'dog 9 0 3 6', 'Full name Valley River Humane Society', 'Department (Graham Co)', '7450 US Hwy 19', 'Marble NC 28905']\n",
      "['$154,267.00', '$408.11 ID # 170', 'cat 187 79 0 109', 'dog 184 119 1 70', 'Full name Valley River Humane Society', 'Department (Clay Co)', '7450 US Hwy 19', 'Marble NC 28905']\n",
      "['$154,267.00', '$296.67 ID # 171', 'cat 133 70 0 62', 'dog 383 275 2 111', 'goat 1 0 0 1', 'Full name Valley River Humane Society', 'Department (Swain Co)', '7450 US Hwy 19', 'Marble NC 28905']\n",
      "['$8,947.49', '$31.39 ID # 172', 'cat 111 46 0 66', 'dog 174 96 2 81', 'Full name Currituck County Humane Society & Animal Shelter', 'Department', 'PO Box 365', 'Maple NC 27956']\n",
      "['$0.00', '$0.00 ID # 174', 'no report 0 0 0 0', 'Full name Melinda Barefoot', 'Department Johnston County SPCA', '720 Durham St', 'Clayton NC 27520']\n",
      "['$53,000.43', '$55.09 ID # 175', 'cat 558 18 3 467', 'chickens 2 2 0 0', 'dog 393 41 58 200', 'duck 1 1 0 0', 'guinea pig 1 1 0 0', 'pig 1 0 0 1', 'rabbit 6 6 0 0']\n"
     ]
    },
    {
     "ename": "IndexError",
     "evalue": "list index out of range",
     "output_type": "error",
     "traceback": [
      "\u001b[1;31m---------------------------------------------------------------------------\u001b[0m",
      "\u001b[1;31mIndexError\u001b[0m                                Traceback (most recent call last)",
      "\u001b[1;32m<ipython-input-143-4424bb8920cb>\u001b[0m in \u001b[0;36m<module>\u001b[1;34m\u001b[0m\n\u001b[1;32m----> 1\u001b[1;33m \u001b[0mnc_shelter_species_2001_dict\u001b[0m \u001b[1;33m=\u001b[0m \u001b[0maddSpeciesData\u001b[0m\u001b[1;33m(\u001b[0m\u001b[1;36m93\u001b[0m\u001b[1;33m,\u001b[0m \u001b[0mempty_species_2001_dict\u001b[0m\u001b[1;33m)\u001b[0m\u001b[1;33m\u001b[0m\u001b[1;33m\u001b[0m\u001b[0m\n\u001b[0m",
      "\u001b[1;32m<ipython-input-139-fcf2e8234fc4>\u001b[0m in \u001b[0;36maddSpeciesData\u001b[1;34m(num_tables, my_dict)\u001b[0m\n\u001b[0;32m      8\u001b[0m \u001b[1;33m\u001b[0m\u001b[0m\n\u001b[0;32m      9\u001b[0m         \u001b[1;32mwhile\u001b[0m \u001b[0mend_table\u001b[0m \u001b[1;33m==\u001b[0m \u001b[1;32mFalse\u001b[0m\u001b[1;33m:\u001b[0m\u001b[1;33m\u001b[0m\u001b[1;33m\u001b[0m\u001b[0m\n\u001b[1;32m---> 10\u001b[1;33m             \u001b[1;32mif\u001b[0m \u001b[1;34m\"Full\"\u001b[0m \u001b[1;32min\u001b[0m \u001b[0mdat_list\u001b[0m\u001b[1;33m[\u001b[0m\u001b[0mspecies_num\u001b[0m\u001b[1;33m]\u001b[0m \u001b[1;32mor\u001b[0m \u001b[1;34m\"no report\"\u001b[0m \u001b[1;32min\u001b[0m \u001b[0mdat_list\u001b[0m\u001b[1;33m[\u001b[0m\u001b[0mspecies_num\u001b[0m\u001b[1;33m]\u001b[0m\u001b[1;33m:\u001b[0m\u001b[1;33m\u001b[0m\u001b[1;33m\u001b[0m\u001b[0m\n\u001b[0m\u001b[0;32m     11\u001b[0m                 \u001b[0mend_table\u001b[0m \u001b[1;33m=\u001b[0m \u001b[1;32mTrue\u001b[0m\u001b[1;33m\u001b[0m\u001b[1;33m\u001b[0m\u001b[0m\n\u001b[0;32m     12\u001b[0m \u001b[1;33m\u001b[0m\u001b[0m\n",
      "\u001b[1;31mIndexError\u001b[0m: list index out of range"
     ]
    }
   ],
   "source": [
    "nc_shelter_species_2001_dict = addSpeciesData(93, empty_species_2001_dict)"
   ]
  },
  {
   "cell_type": "code",
   "execution_count": 121,
   "id": "20e20fce-fa8d-4c2a-bf9e-4f896541c20c",
   "metadata": {
    "tags": []
   },
   "outputs": [],
   "source": [
    "nc_shelter_expenses_2001_df = pd.DataFrame(nc_shelter_expenses_2001_dict)"
   ]
  },
  {
   "cell_type": "code",
   "execution_count": 122,
   "id": "e29da62e-8df4-47c9-b154-3601aeb4e42b",
   "metadata": {},
   "outputs": [
    {
     "data": {
      "text/html": [
       "<div>\n",
       "<style scoped>\n",
       "    .dataframe tbody tr th:only-of-type {\n",
       "        vertical-align: middle;\n",
       "    }\n",
       "\n",
       "    .dataframe tbody tr th {\n",
       "        vertical-align: top;\n",
       "    }\n",
       "\n",
       "    .dataframe thead th {\n",
       "        text-align: right;\n",
       "    }\n",
       "</style>\n",
       "<table border=\"1\" class=\"dataframe\">\n",
       "  <thead>\n",
       "    <tr style=\"text-align: right;\">\n",
       "      <th></th>\n",
       "      <th>lic_id</th>\n",
       "      <th>year</th>\n",
       "      <th>city/county</th>\n",
       "      <th>state</th>\n",
       "      <th>zip</th>\n",
       "      <th>facility_name</th>\n",
       "      <th>operating_expense</th>\n",
       "      <th>cost_per_animal</th>\n",
       "    </tr>\n",
       "  </thead>\n",
       "  <tbody>\n",
       "    <tr>\n",
       "      <th>0</th>\n",
       "      <td>4</td>\n",
       "      <td>2001</td>\n",
       "      <td>Sparta</td>\n",
       "      <td>NC</td>\n",
       "      <td>28675</td>\n",
       "      <td>Alleghany County Animal Control</td>\n",
       "      <td>$9,826.85</td>\n",
       "      <td>$19.23</td>\n",
       "    </tr>\n",
       "    <tr>\n",
       "      <th>1</th>\n",
       "      <td>5</td>\n",
       "      <td>2001</td>\n",
       "      <td>Wadesboro</td>\n",
       "      <td>NC</td>\n",
       "      <td>28170</td>\n",
       "      <td>Anson County Animal Control</td>\n",
       "      <td>$39,335.00</td>\n",
       "      <td>$29.44</td>\n",
       "    </tr>\n",
       "    <tr>\n",
       "      <th>2</th>\n",
       "      <td>6</td>\n",
       "      <td>2001</td>\n",
       "      <td>West Jefferson</td>\n",
       "      <td>NC</td>\n",
       "      <td>28694</td>\n",
       "      <td>Ashe County Animal Control</td>\n",
       "      <td>$82,883.52</td>\n",
       "      <td>$66.36</td>\n",
       "    </tr>\n",
       "    <tr>\n",
       "      <th>3</th>\n",
       "      <td>7</td>\n",
       "      <td>2001</td>\n",
       "      <td>Asheville</td>\n",
       "      <td>NC</td>\n",
       "      <td>28806</td>\n",
       "      <td>Asheville Humane Society</td>\n",
       "      <td>$1,258,398.00</td>\n",
       "      <td>$75.68</td>\n",
       "    </tr>\n",
       "    <tr>\n",
       "      <th>4</th>\n",
       "      <td>9</td>\n",
       "      <td>2001</td>\n",
       "      <td>Washington</td>\n",
       "      <td>NC</td>\n",
       "      <td>27889</td>\n",
       "      <td>Beaufort County Animal Control</td>\n",
       "      <td>$117,529.00</td>\n",
       "      <td>$21.46</td>\n",
       "    </tr>\n",
       "  </tbody>\n",
       "</table>\n",
       "</div>"
      ],
      "text/plain": [
       "  lic_id  year     city/county state    zip                    facility_name   \n",
       "0      4  2001          Sparta    NC  28675  Alleghany County Animal Control  \\\n",
       "1      5  2001       Wadesboro    NC  28170      Anson County Animal Control   \n",
       "2      6  2001  West Jefferson    NC  28694       Ashe County Animal Control   \n",
       "3      7  2001       Asheville    NC  28806         Asheville Humane Society   \n",
       "4      9  2001      Washington    NC  27889   Beaufort County Animal Control   \n",
       "\n",
       "  operating_expense cost_per_animal  \n",
       "0         $9,826.85          $19.23  \n",
       "1        $39,335.00          $29.44  \n",
       "2        $82,883.52          $66.36  \n",
       "3     $1,258,398.00          $75.68  \n",
       "4       $117,529.00          $21.46  "
      ]
     },
     "execution_count": 122,
     "metadata": {},
     "output_type": "execute_result"
    }
   ],
   "source": [
    "nc_shelter_expenses_2001_df.head()"
   ]
  },
  {
   "cell_type": "code",
   "execution_count": 130,
   "id": "924ad61d-1037-4047-83ab-a9ecfed67e82",
   "metadata": {},
   "outputs": [],
   "source": [
    "nc_shelter_species_2001_df = pd.DataFrame(nc_shelter_species_2001_dict)"
   ]
  },
  {
   "cell_type": "code",
   "execution_count": 131,
   "id": "df74b29d-7692-4983-b245-f23bbf3f139b",
   "metadata": {},
   "outputs": [
    {
     "data": {
      "text/html": [
       "<div>\n",
       "<style scoped>\n",
       "    .dataframe tbody tr th:only-of-type {\n",
       "        vertical-align: middle;\n",
       "    }\n",
       "\n",
       "    .dataframe tbody tr th {\n",
       "        vertical-align: top;\n",
       "    }\n",
       "\n",
       "    .dataframe thead th {\n",
       "        text-align: right;\n",
       "    }\n",
       "</style>\n",
       "<table border=\"1\" class=\"dataframe\">\n",
       "  <thead>\n",
       "    <tr style=\"text-align: right;\">\n",
       "      <th></th>\n",
       "      <th>lic_id</th>\n",
       "      <th>year</th>\n",
       "      <th>city/county</th>\n",
       "      <th>state</th>\n",
       "      <th>zip</th>\n",
       "      <th>facility_name</th>\n",
       "    </tr>\n",
       "  </thead>\n",
       "  <tbody>\n",
       "    <tr>\n",
       "      <th>0</th>\n",
       "      <td>4</td>\n",
       "      <td>2001</td>\n",
       "      <td>Sparta</td>\n",
       "      <td>NC</td>\n",
       "      <td>28675</td>\n",
       "      <td>Alleghany County Animal Control</td>\n",
       "    </tr>\n",
       "    <tr>\n",
       "      <th>1</th>\n",
       "      <td>5</td>\n",
       "      <td>2001</td>\n",
       "      <td>Wadesboro</td>\n",
       "      <td>NC</td>\n",
       "      <td>28170</td>\n",
       "      <td>Anson County Animal Control</td>\n",
       "    </tr>\n",
       "    <tr>\n",
       "      <th>2</th>\n",
       "      <td>6</td>\n",
       "      <td>2001</td>\n",
       "      <td>West Jefferson</td>\n",
       "      <td>NC</td>\n",
       "      <td>28694</td>\n",
       "      <td>Ashe County Animal Control</td>\n",
       "    </tr>\n",
       "    <tr>\n",
       "      <th>3</th>\n",
       "      <td>7</td>\n",
       "      <td>2001</td>\n",
       "      <td>Asheville</td>\n",
       "      <td>NC</td>\n",
       "      <td>28806</td>\n",
       "      <td>Asheville Humane Society</td>\n",
       "    </tr>\n",
       "    <tr>\n",
       "      <th>4</th>\n",
       "      <td>9</td>\n",
       "      <td>2001</td>\n",
       "      <td>Washington</td>\n",
       "      <td>NC</td>\n",
       "      <td>27889</td>\n",
       "      <td>Beaufort County Animal Control</td>\n",
       "    </tr>\n",
       "  </tbody>\n",
       "</table>\n",
       "</div>"
      ],
      "text/plain": [
       "  lic_id  year     city/county state    zip                    facility_name\n",
       "0      4  2001          Sparta    NC  28675  Alleghany County Animal Control\n",
       "1      5  2001       Wadesboro    NC  28170      Anson County Animal Control\n",
       "2      6  2001  West Jefferson    NC  28694       Ashe County Animal Control\n",
       "3      7  2001       Asheville    NC  28806         Asheville Humane Society\n",
       "4      9  2001      Washington    NC  27889   Beaufort County Animal Control"
      ]
     },
     "execution_count": 131,
     "metadata": {},
     "output_type": "execute_result"
    }
   ],
   "source": [
    "nc_shelter_species_2001_df.head()"
   ]
  },
  {
   "cell_type": "code",
   "execution_count": 70,
   "id": "3a7eb94b-5ac8-4c3a-bc9f-9242bc512e1d",
   "metadata": {},
   "outputs": [
    {
     "data": {
      "text/plain": [
       "'Alleghany County Animal Control'"
      ]
     },
     "execution_count": 70,
     "metadata": {},
     "output_type": "execute_result"
    }
   ],
   "source": [
    "### This parses out the name of the animal shelter\n",
    "combined_pdf.split(\"Full name\")[1].split(\"\\n\")[0].lstrip().rstrip()"
   ]
  },
  {
   "cell_type": "code",
   "execution_count": 49,
   "id": "43b869e9-de1e-411c-b932-82297baac07d",
   "metadata": {},
   "outputs": [
    {
     "data": {
      "text/plain": [
       "'Burlington'"
      ]
     },
     "execution_count": 49,
     "metadata": {},
     "output_type": "execute_result"
    }
   ],
   "source": [
    "combined_pdf.split(\"Department\")[17].split(\"\\n\")[2].split(\" \")[0]"
   ]
  },
  {
   "cell_type": "code",
   "execution_count": 97,
   "id": "230153d5-569a-4651-941f-a5d3471f405e",
   "metadata": {
    "tags": []
   },
   "outputs": [
    {
     "name": "stdout",
     "output_type": "stream",
     "text": [
      "West Jefferson\n"
     ]
    }
   ],
   "source": [
    "#This parses out the city, state, and zip\n",
    "if len(combined_pdf.split(\"Department\")[3].split(\"\\n\")[2].split(\" \")) > 3:\n",
    "    county_city = \" \".join(combined_pdf.split(\"Department\")[3].split(\"\\n\")[2].split(\" \")[0:len(combined_pdf.split(\"Department\")[3].split(\"\\n\")[2].split(\" \"))-2])\n",
    "    print(county_city)\n"
   ]
  },
  {
   "cell_type": "code",
   "execution_count": 12,
   "id": "c088ff96-b03b-4238-bb16-cea49611b929",
   "metadata": {},
   "outputs": [
    {
     "data": {
      "text/plain": [
       "'co/ Public Works'"
      ]
     },
     "execution_count": 12,
     "metadata": {},
     "output_type": "execute_result"
    }
   ],
   "source": [
    "###This parses out the department\n",
    "combined_pdf.split(\"Department\")[1].split(\"\\n\")[0].lstrip().rstrip()"
   ]
  },
  {
   "cell_type": "code",
   "execution_count": 13,
   "id": "e1219679-d286-4dcb-8a64-f2cffec6cdda",
   "metadata": {},
   "outputs": [
    {
     "data": {
      "text/plain": [
       "'$9,826.85'"
      ]
     },
     "execution_count": 13,
     "metadata": {},
     "output_type": "execute_result"
    }
   ],
   "source": [
    "#This parses out the total operating expense\n",
    "combined_pdf.split(\"total operating expenses\\ncost per animal handled\")[1].split(\"\\n\")[0].lstrip().rstrip()"
   ]
  },
  {
   "cell_type": "code",
   "execution_count": 14,
   "id": "799826a2-791e-48c0-be3d-e5c3e66e199a",
   "metadata": {},
   "outputs": [
    {
     "data": {
      "text/plain": [
       "'$19.23'"
      ]
     },
     "execution_count": 14,
     "metadata": {},
     "output_type": "execute_result"
    }
   ],
   "source": [
    "#This block parses out the cost per animal\n",
    "combined_pdf.split(\"total operating expenses\\ncost per animal handled\")[1].split(\"\\n\")[1].lstrip().rstrip().split(\" \")[0]"
   ]
  },
  {
   "cell_type": "code",
   "execution_count": 15,
   "id": "a806cb53-53d2-45e8-b915-58aef6c5ac3c",
   "metadata": {},
   "outputs": [
    {
     "data": {
      "text/plain": [
       "'4'"
      ]
     },
     "execution_count": 15,
     "metadata": {},
     "output_type": "execute_result"
    }
   ],
   "source": [
    "###This Parses out the ID number\n",
    "combined_pdf.split(\"total operating expenses\\ncost per animal handled\")[1].split(\"\\n\")[1].lstrip().rstrip().split(\" \")[-1]"
   ]
  },
  {
   "cell_type": "code",
   "execution_count": 95,
   "id": "88d7100e-2242-4598-a18f-b1b81788d4cb",
   "metadata": {
    "tags": []
   },
   "outputs": [
    {
     "name": "stdout",
     "output_type": "stream",
     "text": [
      "399277\n",
      "['$9,826.85', '$19.23 ID # 4', 'cat 50 44 0 6', 'dog 460 187 33 240', 'equine 1 0 1 0', 'Full name Anson County Animal Control', 'Department Anson County Health Dept', 'PO Box 473', 'Wadesboro NC 28170']\n",
      "cat 50 44 0 6\n",
      "dog 460 187 33 240\n",
      "equine 1 0 1 0\n",
      "399277\n",
      "['$39,335.00', '$29.44 ID # 5', 'cat 450 0 1 449', 'dog 886 0 11 875', 'Full name Ashe County Animal Control', 'Department', 'PO Box 1797', 'West Jefferson NC 28694']\n",
      "cat 450 0 1 449\n",
      "dog 886 0 11 875\n",
      "399277\n",
      "['$82,883.52', '$66.36 ID # 6', 'cat 560 35 3 522', 'dog 689 78 40 571', 'Full name Asheville Humane Society', 'Department', '72 Lees Creek Rd', 'Asheville NC 28806']\n",
      "cat 560 35 3 522\n",
      "dog 689 78 40 571\n",
      "399277\n",
      "['$1,258,398.00', '$75.68 ID # 7', 'bird 60 15 0 13', 'cat 4155 660 74 3193', 'dog 5080 1259 615 3037', 'ferret 12 4 0 4', 'fish 29 1 20 0', 'fox 6 0 0 5', 'gerbil 23 6 0 22', 'goat 8 1 0 1', 'groundhog 1 0 0 1', 'guinea pig 28 10 0 15', 'hamster 22 2 0 15', 'livestock 14 0 10 0', 'mouse 24 10 0 16', 'opossum 16 0 0 14', 'potbelly pig 4 1 0 1', 'python 1 1 0 0', 'rabbit 39 8 0 35', 'raccoon 74 0 0 69', 'salamander 0 1 0 0', 'skunk 2 0 0 2', 'squirrel 7 0 0 5', 'tarantula 0 1 0 0', 'Full name Beaufort County Animal Control', 'Department', 'PO Box 1027', 'Washington NC 27889']\n",
      "bird 60 15 0 13\n",
      "cat 4155 660 74 3193\n",
      "dog 5080 1259 615 3037\n",
      "ferret 12 4 0 4\n",
      "fish 29 1 20 0\n",
      "fox 6 0 0 5\n",
      "gerbil 23 6 0 22\n",
      "goat 8 1 0 1\n",
      "groundhog 1 0 0 1\n",
      "guinea pig 28 10 0\n",
      "hamster 22 2 0 15\n",
      "livestock 14 0 10 0\n",
      "mouse 24 10 0 16\n",
      "opossum 16 0 0 14\n",
      "potbelly pig 4 1 0\n",
      "python 1 1 0 0\n",
      "rabbit 39 8 0 35\n",
      "raccoon 74 0 0 69\n",
      "salamander 0 1 0 0\n",
      "skunk 2 0 0 2\n",
      "squirrel 7 0 0 5\n",
      "tarantula 0 1 0 0\n",
      "399277\n",
      "['$117,529.00', '$21.46 ID # 9', 'cat 1526 39 7 1475', 'dog 1930 55 99 1685', 'Full name Bertie County Animal Control', 'Department Animal Control/Solid Waste', 'PO Box 530', 'Windsor NC 27983']\n",
      "cat 1526 39 7 1475\n",
      "dog 1930 55 99 1685\n",
      "399277\n",
      "['$37,665.00', '$3.00 ID # 10', 'cat 603 470 8 125', 'dog 1181 660 87 424', 'Full name Bladen County Animal Control', 'Department Bladen County Health Dept', 'PO Box 189', 'Elizabethtown NC 28337']\n",
      "cat 603 470 8 125\n",
      "dog 1181 660 87 424\n",
      "399277\n",
      "['$81,341.00', '$16.46 ID # 11', 'bat 2 0 0 2', 'bear 2 0 0 0', 'bobcat 6 0 0 6', 'cat 1217 61 6 1150', 'dog 3461 699 59 2703', 'opossum 46 0 0 14', 'raccoon 37 0 0 37', 'Full name Brunswick County Animal Services', 'Department Brunswick County Health Dept', 'PO Box 92', 'Supply NC 28462']\n",
      "bat 2 0 0 2\n",
      "bear 2 0 0 0\n",
      "bobcat 6 0 0 6\n",
      "cat 1217 61 6 1150\n",
      "dog 3461 699 59 2703\n",
      "opossum 46 0 0 14\n",
      "raccoon 37 0 0 37\n",
      "399277\n",
      "['$376,273.41', '$70.95 ID # 12', 'birds 7 0 0 0', 'cat 2329 225 15 1864', 'chickens 26 0 2 18', 'dog 2848 642 161 1887', 'duck 23 0 0 8', 'fowl 25 0 0 7', 'fox 1 0 0 1', 'hog 10 0 2 0', 'opossum 7 0 0 0', 'raccoon 2 0 0 2', 'vietnamese pig 25 0 2 1', 'Full name Burke County Animal Shelter', \"Department Burke County Sheriff's Dept\", '150 Government Dr', 'Morganton NC 28655']\n",
      "birds 7 0 0 0\n",
      "cat 2329 225 15 1864\n",
      "chickens 26 0 2 18\n",
      "dog 2848 642 161 1887\n",
      "duck 23 0 0 8\n",
      "fowl 25 0 0 7\n",
      "fox 1 0 0 1\n",
      "hog 10 0 2 0\n",
      "opossum 7 0 0 0\n",
      "raccoon 2 0 0 2\n",
      "vietnamese pig 25 0 2\n",
      "399277\n",
      "['$240,000.00', '$25.00 ID # 13', 'cat 1985 127 18 1832', 'dog 2910 589 108 1955', 'Full name Cabarrus County Animal Control', \"Department Cabarrus County Sheriff's Dept\", 'PO Box 525', 'Concord NC 28026-0525']\n",
      "cat 1985 127 18 1832\n",
      "dog 2910 589 108 1955\n",
      "399277\n",
      "['$124,367.00', '$91.85 ID # 14', 'dog 973 97 117 759', 'Full name Caldwell County Animal Control', 'Department', 'PO Box 2200', 'Lenoir NC 28645']\n",
      "dog 973 97 117 759\n",
      "399277\n",
      "['$276,094.67', '$47.65 ID # 15', 'bat 10 0 0 5', 'bobcat 1 0 0 0', 'cat 2601 47 15 2521', 'dog 3130 132 230 2725', 'fox 3 0 0 0', 'groundhog 1 0 0 0', 'raccoon 39 0 0 20', 'skunk 6 0 0 3', 'squirrel 3 0 0 1', 'Full name Catawba County Animal Control and Shelter', 'Department', 'PO Box 389', 'Newton NC 28658']\n",
      "bat 10 0 0 5\n",
      "bobcat 1 0 0 0\n",
      "cat 2601 47 15 2521\n",
      "dog 3130 132 230 2725\n",
      "fox 3 0 0 0\n",
      "groundhog 1 0 0 0\n",
      "raccoon 39 0 0 20\n",
      "skunk 6 0 0 3\n",
      "squirrel 3 0 0 1\n",
      "399277\n",
      "['$326,315.00', '$49.00 ID # 19', 'bat 4 0 0 4', 'cat 2929 147 21 2825', 'dog 3680 597 306 2739', 'fox 2 0 0 2', 'raccoon 11 0 0 11', 'skunk 4 0 0 4', 'Full name Charlotte-Mecklenburg Animal Control', 'Department Charlotte-Mecklenburg Police Dept', '8315 Byrum Dr', 'Charlotte NC 28217']\n",
      "bat 4 0 0 4\n",
      "cat 2929 147 21 2825\n",
      "dog 3680 597 306 2739\n",
      "fox 2 0 0 2\n",
      "raccoon 11 0 0 11\n",
      "skunk 4 0 0 4\n",
      "399277\n",
      "['$4,232,238.00', '$202.73 ID # 20', 'bat 210 0 0 168', 'bird 491 50 124 221', 'cat 7962 1027 209 6726', 'deer 45 0 0 29', 'dog 10618 1798 1882 6832', 'equine 2 0 1 0', 'ferret 39 13 20 3', 'fox 48 0 0 46', 'goat 23 19 1 3', 'livestock 1 0 1 0', 'opossum 259 0 0 81', 'pig 32 19 0 2', 'rabbit 100 42 1 42', 'raccoon 878 0 0 767', 'reptile 64 24 3 11', 'rodent 101 6 0 43', 'skunk 3 0 0 2', 'Full name Chatham County Animal Control', 'Department Chatham County Health Dept', '725 County Landfill Rd', 'Pittsboro NC 27312']\n",
      "bat 210 0 0 168\n",
      "bird 491 50 124 221\n",
      "cat 7962 1027 209 6726\n",
      "deer 45 0 0 29\n",
      "dog 10618 1798 1882 6832\n",
      "equine 2 0 1 0\n",
      "ferret 39 13 20 3\n",
      "fox 48 0 0 46\n",
      "goat 23 19 1 3\n",
      "livestock 1 0 1 0\n",
      "opossum 259 0 0 81\n",
      "pig 32 19 0 2\n",
      "rabbit 100 42 1 42\n",
      "raccoon 878 0 0 767\n",
      "reptile 64 24 3 11\n",
      "rodent 101 6 0 43\n",
      "skunk 3 0 0 2\n",
      "399277\n",
      "['$234,280.00', '$98.56 ID # 21', 'cat 1111 89 5 1000', 'dog 1266 269 116 818', 'Full name Chowan County Animal Control', 'Department', '138 Icaria Rd', 'Tyner NC 27980']\n",
      "cat 1111 89 5 1000\n",
      "dog 1266 269 116 818\n",
      "399277\n",
      "['$20,012,864.00', '$7,610.00 ID # 23', 'bat 7 0 0 2', 'cat 797 77 4 716', 'dog 725 136 55 510', 'fox 1 0 0 1', 'opossum 34 0 0 0', 'other 15 0 0 3', 'raccoon 11 0 0 9', 'Full name City of Burlington Animal Control', 'Department Burlington Police Department', '267 W Front St', 'Burlington NC 27215']\n",
      "bat 7 0 0 2\n",
      "cat 797 77 4 716\n",
      "dog 725 136 55 510\n",
      "fox 1 0 0 1\n",
      "opossum 34 0 0 0\n",
      "other 15 0 0 3\n",
      "raccoon 11 0 0 9\n",
      "399277\n",
      "['$324,893.23', '$55.83 ID # 25', 'cat 1955 108 89 1622', 'dog 2289 127 348 1687', 'other 167 34 16 101', 'Full name City of Rocky Mount Animal Control', 'Department Rocky Mount Police Dept', 'PO Box 1180', 'Rocky Mount NC 27801']\n",
      "cat 1955 108 89 1622\n",
      "dog 2289 127 348 1687\n",
      "other 167 34 16 101\n",
      "399277\n",
      "['$162,000.00', '$76.71 ID # 42', 'bat 1 0 0 1', 'bird 13 0 7 6', 'cat 1008 153 13 824', 'chipmunk 1 0 1 0', 'deer 2 0 0 2', 'dog 1730 197 284 1288', 'ferret 1 0 1 0', 'groundhog 3 0 0 3', 'opossum 45 0 43 2', 'pig 3 3 0 0', 'rabbit 3 0 3 0', 'raccoon 24 0 0 24', 'ringtail 1 0 1 0', 'snake 9 0 6 3', 'squirrel 42 0 39 3', 'turtle 4 0 3 1', 'Full name City of Tarboro Animal Control', 'Department Dept. of Public Works', 'PO Box 220', 'Tarboro NC 27886']\n",
      "bat 1 0 0 1\n",
      "bird 13 0 7 6\n",
      "cat 1008 153 13 824\n",
      "chipmunk 1 0 1 0\n",
      "deer 2 0 0 2\n",
      "dog 1730 197 284 1288\n",
      "ferret 1 0 1 0\n",
      "groundhog 3 0 0 3\n",
      "opossum 45 0 43 2\n",
      "pig 3 3 0 0\n",
      "rabbit 3 0 3 0\n",
      "raccoon 24 0 0 24\n",
      "ringtail 1 0 1 0\n",
      "snake 9 0 6 3\n",
      "squirrel 42 0 39 3\n",
      "turtle 4 0 3 1\n",
      "399277\n",
      "['$0.00', '$0.00 ID # 45', 'no report 0 0 0 0', 'Full name Cleveland County Animal Control', 'Department Cleveland County Animal Shelter', '315 E Grover St', 'Shelby NC 28150-3998']\n",
      "399277\n",
      "['$310,815.00', '$39.87 ID # 48', 'bat 16 0 0 16', 'bird 5 0 2 3', 'cat 3552 13 25 2634', 'chipmunks 1 0 0 1', 'deer 2 0 1 1', 'dog 3990 32 326 3448', 'ferret 1 0 0 1', 'Fox 32 0 0 32', 'groundhog 10 0 0 10', 'livestock 17 0 8 2', 'opossum 44 0 0 44', 'rabbit 1 0 1 0', 'raccoon 107 0 0 107', 'Skunk 16 0 0 16', 'squirrel 2 0 0 2', 'Full name Columbus County Animal Control', 'Department', '111 Washington Ave', 'Whiteville NC 28472']\n",
      "bat 16 0 0 16\n",
      "bird 5 0 2 3\n",
      "cat 3552 13 25 2634\n",
      "chipmunks 1 0 0 1\n",
      "deer 2 0 1 1\n",
      "dog 3990 32 326 3448\n",
      "ferret 1 0 0 1\n",
      "Fox 32 0 0 32\n",
      "groundhog 10 0 0 10\n",
      "livestock 17 0 8 2\n",
      "opossum 44 0 0 44\n",
      "rabbit 1 0 1 0\n",
      "raccoon 107 0 0 107\n",
      "Skunk 16 0 0 16\n",
      "squirrel 2 0 0 2\n",
      "399277\n",
      "['$118,410.00', '$262.32 ID # 49', 'cat 1537 84 32 1421', 'dog 2977 350 93 2534', 'Full name Craven-Pamlico Animal Services Center', 'Department Craven County Health Dept', '1639 Old Airport Rd', 'New Bern NC 28562']\n",
      "cat 1537 84 32 1421\n",
      "dog 2977 350 93 2534\n",
      "399277\n",
      "['$242,464.00', '$38.88 ID # 51', 'bat 4 0 0 4', 'can. Goose 1 0 0 1', 'cat 3289 144 28 3071', 'dog 2878 334 259 2213', 'fox 5 0 0 5', 'mallard duck 1 0 0 1', 'opossum 34 0 33 1', 'raccoon 24 0 0 24', 'Full name Cumberland County Animal Control', 'Department', 'PO Drawer 1829', 'Fayetteville NC 28302']\n",
      "bat 4 0 0 4\n",
      "can. Goose 1 0 0\n",
      "cat 3289 144 28 3071\n",
      "dog 2878 334 259 2213\n",
      "fox 5 0 0 5\n",
      "mallard duck 1 0 0\n",
      "opossum 34 0 33 1\n",
      "raccoon 24 0 0 24\n",
      "399277\n",
      "['$0.00', '$0.00 ID # 52', 'no report 0 0 0 0', 'Full name Davidson County Animal Control', 'Department', '490 Glendale Rd', 'Lexington NC 27292']\n",
      "399277\n",
      "['$95,661.00', '$10.89 ID # 54', 'cat 4070 137 22 3911', 'dog 4713 324 255 4134', 'Full name Davie County Animal Control', 'Department', '809 Salisbury St', 'Mocksville NC 27028']\n",
      "cat 4070 137 22 3911\n",
      "dog 4713 324 255 4134\n",
      "399277\n",
      "['$86,000.00', '$53.34 ID # 55', 'bats 4 0 0 4', 'cat 419 36 11 372', 'dog 1193 61 37 1095', 'raccoon 35 0 0 35', 'skunk 20 0 0 20', 'Full name Edgecombe County Animal Control', 'Department', '2909 N Main St', 'Tarboro NC 27886']\n",
      "bats 4 0 0 4\n",
      "cat 419 36 11 372\n",
      "dog 1193 61 37 1095\n",
      "raccoon 35 0 0 35\n",
      "skunk 20 0 0 20\n",
      "399277\n",
      "['$130,704.00', '$69.97 ID # 58', 'cat 738 71 3 642', 'deer 8 0 0 8', 'dog 1113 310 42 702', 'goat 2 2 0 0', 'opossum 6 0 6 0', 'raccoon 1 0 0 1', 'Full name Forsyth County Animal Control', 'Department', '1200 Fairchild Dr', 'Winston Salem NC 27105']\n",
      "cat 738 71 3 642\n",
      "deer 8 0 0 8\n",
      "dog 1113 310 42 702\n",
      "goat 2 2 0 0\n",
      "opossum 6 0 6 0\n",
      "raccoon 1 0 0 1\n",
      "399277\n",
      "['$0.00', '$0.00 ID # 59', 'no report 0 0 0 0', 'Full name Franklin County Animal Control', 'Department Franklin County Health Dept', '107 Industrial Dr Ste C', 'Louisburg NC 27549']\n",
      "399277\n",
      "['$359,111.44', '$144.02 ID # 60', 'bat 11 0 0 11', 'bird 2 0 0 2', 'bobcat 1 0 0 1', 'cat 1079 18 0 1066', 'dog 679 170 236 242', 'dog 1990 155 127 1722', 'fox 9 0 0 9', 'groundhog 5 0 0 5', 'opossum 9 0 0 9', 'pig 2 0 0 2', 'rabbit 1 0 0 1', 'raccoon 7 0 0 7', 'rat 2 0 0 2', 'snake 4 0 0 4', 'Full name Gaston County Animal Control', 'Department Gaston County Police Dept', 'PO Box 479', 'Dallas NC 28034']\n",
      "bat 11 0 0 11\n",
      "bird 2 0 0 2\n",
      "bobcat 1 0 0 1\n",
      "cat 1079 18 0 1066\n",
      "dog 679 170 236 242\n",
      "dog 1990 155 127 1722\n",
      "fox 9 0 0 9\n",
      "groundhog 5 0 0 5\n",
      "opossum 9 0 0 9\n",
      "pig 2 0 0 2\n",
      "rabbit 1 0 0 1\n",
      "raccoon 7 0 0 7\n",
      "rat 2 0 0 2\n",
      "snake 4 0 0 4\n",
      "399277\n",
      "['$821,156.00', '$78.19 ID # 61', 'birds 121 26 19 76', 'cat 5056 21 83 4644', 'coyote 1 0 0 1', 'deer 3 0 0 3', 'dog 4930 127 502 4196', 'ferrets 1 0 0 1', 'fish 3 0 3 0', 'fox 45 0 0 45', 'goats 3 2 1 0', 'groundhog 3 0 0 3', 'horses 2 0 2 0', 'iguana 1 1 0 0', 'oppossum 83 0 58 25', 'pig 1 1 0 0', 'prairie dog 1 0 0 1', 'rabbit 6 0 1 5', 'raccoon 196 0 1 195', 'rodents 4 0 1 3', 'skunk 13 0 0 13', 'snakes 5 0 4 1', 'squirrels 24 0 3 21', 'Full name Gates County Animal Control', \"Department Gates County Sheriff's Dept\", 'PO Box 148', 'Gatesville NC 27938']\n",
      "birds 121 26 19 76\n",
      "cat 5056 21 83 4644\n",
      "coyote 1 0 0 1\n",
      "deer 3 0 0 3\n",
      "dog 4930 127 502 4196\n",
      "ferrets 1 0 0 1\n",
      "fish 3 0 3 0\n",
      "fox 45 0 0 45\n",
      "goats 3 2 1 0\n",
      "groundhog 3 0 0 3\n",
      "horses 2 0 2 0\n",
      "iguana 1 1 0 0\n",
      "oppossum 83 0 58 25\n",
      "pig 1 1 0 0\n",
      "prairie dog 1 0 0\n",
      "rabbit 6 0 1 5\n",
      "raccoon 196 0 1 195\n",
      "rodents 4 0 1 3\n",
      "skunk 13 0 0 13\n",
      "snakes 5 0 4 1\n",
      "squirrels 24 0 3 21\n",
      "399277\n",
      "['$23,002.00', '$4,345.00 ID # 62', 'bird 1 0 0 0', 'cat 402 31 1 468', 'dog 467 99 19 324', 'raccoon 2 0 0 2', 'Full name Granville County Animal Control', 'Department Dept of Emergency Services', 'PO Box 1642', 'Oxford NC 27565']\n",
      "bird 1 0 0 0\n",
      "cat 402 31 1 468\n",
      "dog 467 99 19 324\n",
      "raccoon 2 0 0 2\n",
      "399277\n",
      "['$176,160.34', '$52.60 ID # 64', 'cat 1095 139 15 941', 'dog 2171 303 28 1735', 'other 83 36 2 45', 'Full name Greene County Animal Control', 'Department Greene County Health Dept', '227 Kingold Blvd - Ste B', 'Snow Hill NC 28580']\n",
      "cat 1095 139 15 941\n",
      "dog 2171 303 28 1735\n",
      "other 83 36 2 45\n",
      "399277\n",
      "['$23,444.54', '$221.17 ID # 65', 'cat 21 12 0 9', 'dog 85 51 5 20', 'Full name United Animal Coalition', 'Department Guilford County Animal Shelter', 'PO Box 8', 'Jamestown NC 27282-0008']\n",
      "cat 21 12 0 9\n",
      "dog 85 51 5 20\n",
      "399277\n",
      "['$1,333,060.00', '$113.00 ID # 66', 'birds 2 0 0 1', 'cat 3873 1475 36 2186', 'dog 6349 2734 798 2847', 'ferret,hamster,guinea pig 5 0 0 30', 'livestock 1 0 0 0', 'rabbit 5 1 0 2', 'wildlife 325 0 0 316', 'Full name Halifax County Animal Control', 'Department Halifax County Health Dept', 'PO Box 10', 'Halifax NC 27839']\n",
      "birds 2 0 0 1\n",
      "cat 3873 1475 36 2186\n",
      "dog 6349 2734 798 2847\n",
      "ferret,hamster,guinea pig 5 0 0\n",
      "livestock 1 0 0 0\n",
      "rabbit 5 1 0 2\n",
      "wildlife 325 0 0 316\n",
      "399277\n",
      "['$0.00', '$0.00 ID # 68', 'no report 0 0 0 0', 'Full name Haywood County Animal Control', 'Department', 'PO Box 3036', 'Waynesville NC 28738']\n",
      "399277\n",
      "['$230,000.00', '$36.00 ID # 71', 'bats 5 0 0 5', 'cat 1603 185 15 1350', 'dog 2282 496 257 1321', 'Fowl, chicken 163 0 140 0', 'fox 4 0 0 4', 'goats 4 2 2 0', 'iguana 1 0 1 0', 'opossum 7 0 0 7', 'rabbit 3 1 0 2', 'Full name Henderson County Animal Control', 'Department Henderson County Health Dept', '810 Stoney Mtn Rd', 'Hendersonville NC 28791']\n",
      "bats 5 0 0 5\n",
      "cat 1603 185 15 1350\n",
      "dog 2282 496 257 1321\n",
      "Fowl, chicken 163 0 140\n",
      "fox 4 0 0 4\n",
      "goats 4 2 2 0\n",
      "iguana 1 0 1 0\n",
      "opossum 7 0 0 7\n",
      "rabbit 3 1 0 2\n",
      "399277\n",
      "['$233,752.00', '$60.00 ID # 72', 'cat 1810 173 1609', 'dog 2023 577 0 1377', 'Full name Hertford County Animal Control', 'Department', 'PO Box 479', 'Winton NC 27986']\n",
      "Error Error Error Error Error\n",
      "399277\n",
      "['$43,160.00', '$50.84 ID # 73', 'cat 323 0 0 253', 'dog 526 26 3 329', 'Full name Hoke County Animal Control', 'Department', 'PO Box 210', 'Raeford NC 28376']\n",
      "cat 323 0 0 253\n",
      "dog 526 26 3 329\n",
      "399277\n",
      "['$32,500.00', '$19.33 ID # 74', 'cat 437 35 7 404', 'dog 1243 333 145 734', 'fox 2 0 0 2', 'Full name Iredell County Animal Control', 'Department', '243 Twin Oaks Rd', 'Statesville NC 28625']\n",
      "cat 437 35 7 404\n",
      "dog 1243 333 145 734\n",
      "fox 2 0 0 2\n",
      "399277\n",
      "['$526,570.00', '$70.08 ID # 76', 'cat 3474 49 48 3370', 'dog 3664 122 370 3109', 'fox 13 0 0 13', 'opossum 81 0 0 81', 'raccoon 88 0 0 88', 'skunk 17 0 0 17', 'wildlife/livestock 97 0 0 0', 'Full name Jackson County Animal Control', 'Department Jackson County Health Dept', '538 Scotts Creek Rd', 'Sylva NC 28779']\n",
      "cat 3474 49 48 3370\n",
      "dog 3664 122 370 3109\n",
      "fox 13 0 0 13\n",
      "opossum 81 0 0 81\n",
      "raccoon 88 0 0 88\n",
      "skunk 17 0 0 17\n",
      "wildlife/livestock 97 0 0 0\n",
      "399277\n",
      "['$0.00', '$0.00 ID # 77', 'no report 0 0 0 0', 'Full name Johnston County Animal Control', 'Department', '1320 N Brightleaf Blvd', 'Smithfield NC 27577']\n",
      "399277\n",
      "['$0.00', '$0.00 ID # 78', 'no report 0 0 0 0', 'Full name Macon County Animal Control', \"Department Macon County Sheriff's Dept\", 'PO Box 81', 'Franklin NC 28744']\n",
      "399277\n",
      "['$0.00', '$0.00 ID # 84', 'no report 0 0 0 0', 'Full name Madison County Animal Control', 'Department Madison County Health Dept', '140 Health Care Ln', 'Marshall NC 28753']\n",
      "399277\n",
      "['$48,390.03', '$61.02 ID # 85', 'cat 352 223 1 87', 'dog 441 156 11 246', 'Full name Madison County Friends of Animals', 'Department Animal Shelter', '389 Long Branch Rd', 'Marshall NC 28753']\n",
      "cat 352 223 1 87\n",
      "dog 441 156 11 246\n",
      "399277\n",
      "['$0.00', '$0.00 ID # 86', 'dog 441 156 11 246', 'no report', 'Full name McDowell County Animal Control', 'Department McDowell County Animal Shelter', '60 E Court St', 'Marion NC 28752']\n",
      "dog 441 156 11 246\n",
      "399277\n",
      "['$73,599.78', '$20.37 ID # 88', 'cat 1395 69 63 1263', 'dog 2219 145 155 1919', 'Full name Mitchell County Animal Shelter', 'Department', 'PO Box 308', 'Spruce Pine NC 28777']\n",
      "cat 1395 69 63 1263\n",
      "dog 2219 145 155 1919\n",
      "399277\n",
      "['$67,551.00', '$54.74 ID # 89', 'birds 2 2 0 0', 'cat 559 264 0 290', 'dog 669 287 13 366', 'guinea pig 1 1 0 0', 'rabbit 3 3 0 0', 'Full name Montgomery County Animal Control', 'Department c/o Laura Morton', 'PO Box 425', 'Troy NC 27371']\n",
      "birds 2 2 0 0\n",
      "cat 559 264 0 290\n",
      "dog 669 287 13 366\n",
      "guinea pig 1 1 0\n",
      "rabbit 3 3 0 0\n",
      "399277\n",
      "['$0.00', '$0.00 ID # 90', 'no report 0 0 0 0', 'Full name Animal Center of Moore County', 'Department c/o Moore County Health Dept', 'PO Box 279', 'Carthage NC 28327']\n",
      "399277\n",
      "['$295,988.28', '$85.37 ID # 91', 'cat 1619 491 58 860', 'dog 1848 753 145 713', 'Full name Nash County Animal Control', 'Department Nash County Health Dept', 'PO Box 849', 'Nashville NC 27856']\n",
      "cat 1619 491 58 860\n",
      "dog 1848 753 145 713\n",
      "399277\n",
      "['$168,945.26', '$47.79 ID # 93', 'beaver 3 0 0 3', 'bobcat 1 0 0 1', 'cat 1783 14 9 1732', 'dog 1673 72 68 1487', 'duck 1 0 0 1', 'ferret 2 1 0 1', 'fox 3 0 0 3', 'goat 1 0 1 0', 'groundhog 1 0 0 1', 'horse 1 1 0 0', 'opossum 38 0 19 19', 'pig 2 1 0 1', 'rabbit 1 0 0 1', 'raccoon 24 0 0 24', 'squirrel 1 0 0 1', 'Full name New Hanover County Animal Control Services', 'Department New Hanover County Health Dept', '180 Division Dr', 'Wilmington NC 28401']\n",
      "beaver 3 0 0 3\n",
      "bobcat 1 0 0 1\n",
      "cat 1783 14 9 1732\n",
      "dog 1673 72 68 1487\n",
      "duck 1 0 0 1\n",
      "ferret 2 1 0 1\n",
      "fox 3 0 0 3\n",
      "goat 1 0 1 0\n",
      "groundhog 1 0 0 1\n",
      "horse 1 1 0 0\n",
      "opossum 38 0 19 19\n",
      "pig 2 1 0 1\n",
      "rabbit 1 0 0 1\n",
      "raccoon 24 0 0 24\n",
      "squirrel 1 0 0 1\n",
      "399277\n",
      "['$904,084.00', '$209.00 ID # 94', 'bat 1 0 0 1', 'cat 1969 230 80 1571', 'dog 2339 385 629 1229', 'fox 2 0 0 2', 'livestock 6 1 2 0', 'opossum 4 0 0 2', 'rabbit 3 2 0 1', 'raccoons 9 0 0 9', 'Full name Northampton County Animal Control', 'Department Northampton County Health Dept', 'PO Box 635', 'Jackson NC 27845']\n",
      "bat 1 0 0 1\n",
      "cat 1969 230 80 1571\n",
      "dog 2339 385 629 1229\n",
      "fox 2 0 0 2\n",
      "livestock 6 1 2 0\n",
      "opossum 4 0 0 2\n",
      "rabbit 3 2 0 1\n",
      "raccoons 9 0 0 9\n",
      "399277\n",
      "['$47,329.37', '$48.84 ID # 95', 'cat 386 0 1 385', 'dog 583 2 6 575', 'Full name Onslow County Animal Control', 'Department', '244 Georgetown Rd', 'Jacksonville NC 28540']\n",
      "cat 386 0 1 385\n",
      "dog 583 2 6 575\n",
      "399277\n",
      "['$379,880.00', '$3.74 ID # 97', 'cat 1764 488 78 1195', 'dog 5289 1562 391 3587', 'other 555', 'Full name Pender County Animal Control', 'Department Pender County Health Dept', 'PO Box 1209', 'Burgaw NC 28425']\n",
      "cat 1764 488 78 1195\n",
      "dog 5289 1562 391 3587\n",
      "Error Error Error Error Error\n",
      "399277\n",
      "['$0.00', '$0.00 ID # 101', 'no report 0 0 0 0', 'Full name Perquimans County Animal Control', \"Department Perquimans County Sheriff's Dept\", 'PO Box 45', 'Hertford NC 27944']\n",
      "399277\n",
      "['$25,393.32', '$215.20 ID # 102', 'cat 26 2 0 24', 'dog 92 22 2 68', 'Full name Person County Animal Control', 'Department', '2103 Chub Lake Rd', 'Roxboro NC 27573']\n",
      "cat 26 2 0 24\n",
      "dog 92 22 2 68\n",
      "399277\n",
      "['$144,236.00', '$57.60 ID # 103', 'cat 1025 69 11 945', 'dog 1479 101 108 1270', 'Full name Pitt County Animal Control', 'Department Pitt County Animal Shelter', '1717 W 5th St', 'Greenville NC 27834']\n",
      "cat 1025 69 11 945\n",
      "dog 1479 101 108 1270\n",
      "399277\n",
      "['$0.00', '$0.00 ID # 104', 'cat 1725 13 6 1541', 'dog 2338 101 136 1953', 'Full name Randolph County Animal Control', 'Department Randolph County Health Dept', '2222-B S Fayetteville St', 'Asheboro NC 27203']\n",
      "cat 1725 13 6 1541\n",
      "dog 2338 101 136 1953\n",
      "399277\n",
      "['$278,148.00', '$43.50 ID # 106', 'cat 2856 55 23 2773', 'chicken 4 0 0 4', 'dog 3521 118 268 3109', 'goat 7 0 7 0', 'pig 2 2 0 0', 'rabbit 2 0 2 0', 'Full name Richmond County Animal Control', 'Department Richmond County Health Dept', '127 Caroline St', 'Rockingham NC 28379']\n",
      "cat 2856 55 23 2773\n",
      "chicken 4 0 0 4\n",
      "dog 3521 118 268 3109\n",
      "goat 7 0 7 0\n",
      "pig 2 2 0 0\n",
      "rabbit 2 0 2 0\n",
      "399277\n",
      "['$96,967.02', '$34.24 ID # 107', 'cat 547 0 1 546', 'dog 2217 49 50 2054', 'opossum 6 0 0 6', 'pig 1 0 1 0', 'raccoon 14 0 0 14', 'rooster 47 0 0 47', 'Full name Robeson County Animal Control', 'Department Robeson County Health Dept', '460 Country Club Blvd', 'Lumberton NC 28358']\n",
      "cat 547 0 1 546\n",
      "dog 2217 49 50 2054\n",
      "opossum 6 0 0 6\n",
      "pig 1 0 1 0\n",
      "raccoon 14 0 0 14\n",
      "rooster 47 0 0 47\n",
      "399277\n",
      "['$78,324.05', '$17.53 ID # 109', 'cat 738 94 11 659', 'dog 3725 403 69 3567', 'Full name Rowan County Animal Control', 'Department Rowan County Health Dept', '1811 E Innes St', 'Salisbury NC 28146-6030']\n",
      "cat 738 94 11 659\n",
      "dog 3725 403 69 3567\n",
      "399277\n",
      "['$351,645.00', '$56.00 ID # 111', 'cat 2817 127 11 2025', 'dog 3250 490 233 2225', 'livestock 35 9 25 1', 'wildlife 225 0 0 197', 'Full name Rutherford County Animal Control', \"Department Rutherford County Sheriff's Dept\", '289 N Main St', 'Rutherfordton NC 28139']\n",
      "cat 2817 127 11 2025\n",
      "dog 3250 490 233 2225\n",
      "livestock 35 9 25 1\n",
      "wildlife 225 0 0 197\n",
      "399277\n",
      "['$176,487.00', '$40.51 ID # 112', 'cat 1618 60 40 1518', 'dog 2739 309 92 2338', 'Full name Sampson County Animal Control', \"Department Sampson County Manager's Office\", '435 Rowan Rd', 'Clinton NC 28328']\n",
      "cat 1618 60 40 1518\n",
      "dog 2739 309 92 2338\n",
      "399277\n",
      "['$0.00', '$0.00 ID # 113', 'no report 0 0 0 0', 'Full name Stanly County Animal Control', 'Department Stanly County Health Dept', '1000 N First St, Ste 3', 'Albemarle NC 28001']\n",
      "399277\n",
      "['$161,863.50', '$34.24 ID # 115', 'cat 2189 16 21 1930', 'dog 2465 122 189 1807', 'racoons,fox,skunk 73 0 0 73', 'Full name Stokes County Animal Control', 'Department Stokes County Animal Shelter', '1999 Sizemore Rd', 'Germanton NC 27019']\n",
      "cat 2189 16 21 1930\n",
      "dog 2465 122 189 1807\n",
      "racoons,fox,skunk 73 0 0 73\n",
      "399277\n",
      "['$132,933.00', '$36.30 ID # 116', 'cat 1856 59 6 1791', 'dog 1806 152 143 1511', 'Full name Surry County Animal Control', 'Department Surry County Health Dept', '118 Hamby Rd', 'Dobson NC 27017']\n",
      "cat 1856 59 6 1791\n",
      "dog 1806 152 143 1511\n",
      "399277\n",
      "['$0.00', '$0.00 ID # 118', 'no report 0 0 0 0', 'Full name The Animal Protection Soc. of Durham', 'Department', '2117 E Club Blvd', 'Durham NC 27704']\n",
      "399277\n",
      "['$408,468.00', '$68.42 ID # 121', 'cat 2090 371 205 1514', 'dog 3881 689 379 2812', 'Full name The Jackson County Humane Society', 'Department', 'PO Box 1966', 'Sylva NC 28779']\n",
      "cat 2090 371 205 1514\n",
      "dog 3881 689 379 2812\n",
      "399277\n",
      "['$118,355.54', '$100.81 ID # 127', 'cat 467 183 8 267', 'dog 707 103 58 410', 'other 9 0 0 5', 'Full name The Lenoir Co SPCA Animal Shelter', 'Department', 'PO Box 1481', 'Kinston NC 28503']\n",
      "cat 467 183 8 267\n",
      "dog 707 103 58 410\n",
      "other 9 0 0 5\n",
      "399277\n",
      "['$140,000.00', '$70.00 ID # 128', 'cat 1433 187 18 1091', 'dog 1979 269 179 1369', 'Full name The Outer Banks SPCA Animal Shelter', 'Department', 'PO Box 1000', 'Manteo NC 27954']\n",
      "cat 1433 187 18 1091\n",
      "dog 1979 269 179 1369\n",
      "399277\n",
      "['$0.00', '$0.00 ID # 129', 'bird 29 12 2 15', 'cat 1339 120 20 1185', 'deer 9 0 0 9', 'ferret 1 1 0 0', 'fox 7 0 0 7', 'horse 6 6 0 0', 'opossum 73 0 60 13', 'otters 2 0 0 2', 'rabbit 5 3 0 2', 'raccoon 100 0 0 100', 'rodents 15 2 0 13', 'snakes 3 0 3 0', 'turtles 2 0 2 0', 'Full name The Scotland Co. Humane Society', 'Department', '1401 West Blvd', 'Laurinburg NC 28352']\n",
      "bird 29 12 2 15\n",
      "cat 1339 120 20 1185\n",
      "deer 9 0 0 9\n",
      "ferret 1 1 0 0\n",
      "fox 7 0 0 7\n",
      "horse 6 6 0 0\n",
      "opossum 73 0 60 13\n",
      "otters 2 0 0 2\n",
      "rabbit 5 3 0 2\n",
      "raccoon 100 0 0 100\n",
      "rodents 15 2 0 13\n",
      "snakes 3 0 3 0\n",
      "turtles 2 0 2 0\n",
      "399277\n",
      "['$156,188.00', '$77.00 ID # 130', 'cat 664 198 21 435', 'dog 1354 344 99 928', 'Full name The SPCA of NE North Carolina', 'Department c/o Jo Ellen Smith', 'PO Box 1772', 'Elizabeth City NC 27906']\n",
      "cat 664 198 21 435\n",
      "dog 1354 344 99 928\n",
      "399277\n",
      "['$103,773.81', '$30.98 ID # 131', 'cat 2017 558 27 1432', 'dog 1333 490 232 611', 'Full name Valley River Humane Society', 'Department (Cherokee Co)', '7450 US 19', 'Marble NC 28905']\n",
      "cat 2017 558 27 1432\n",
      "dog 1333 490 232 611\n",
      "399277\n",
      "['$154,267.00', '$286.21 ID # 132', 'cat 145 109 0 71', 'dog 315 179 11 169', 'Full name The Wake Co SPCA Animal Shelter', 'Department', '200 Petfinder Ln', 'Raleigh NC 276036075']\n",
      "cat 145 109 0 71\n",
      "dog 315 179 11 169\n",
      "399277\n",
      "['$858,746.00', '$102.40 ID # 133', 'cat 3783 942 114 2618', 'dog 4312 1406 708 2114', 'other 230 37 4 140', 'rabbits 61 14 1 41', 'Full name Town of Kill Devil Hills Animal Control', 'Department Kill Devil Hills Police Dept', 'PO Box 1605', 'Kill Devil Hills NC 27959']\n",
      "cat 3783 942 114 2618\n",
      "dog 4312 1406 708 2114\n",
      "other 230 37 4 140\n",
      "rabbits 61 14 1 41\n",
      "399277\n",
      "['$104,897.00', '$346.19 ID # 138', 'cat 128 3 4 119', 'dog 173 23 108 38', 'ferret 1 0 1 0', 'raccoon 1 0 0 1', 'Full name Transylvania County Animal Control', 'Department Transylvania Co. Health Dept', '203 E Morgan St', 'Brevard NC 28712']\n",
      "cat 128 3 4 119\n",
      "dog 173 23 108 38\n",
      "ferret 1 0 1 0\n",
      "raccoon 1 0 0 1\n",
      "399277\n",
      "['$124,367.00', '$91.85 ID # 143', 'cat 384 30 17 337', 'dog 973 97 117 759', 'Full name Union County Animal Shelter', \"Department Union County Sheriff's Office\", '3344 Presson Rd', 'Monroe NC 28112']\n",
      "cat 384 30 17 337\n",
      "dog 973 97 117 759\n",
      "399277\n",
      "['$423,490.00', '$49.35 ID # 146', 'cat 4066 980 19 3067', 'chicken 3 0 0 3', 'dog 4483 1335 249 2899', 'ferret 4 0 0 4', 'goat 5 5 0 0', 'potbelly pig 8 5 0 3', 'rabbit 12 9 0 3', 'Full name Vance County Animal Control', 'Department', '165 Vance Academy Rd', 'Henderson NC 27536']\n",
      "cat 4066 980 19 3067\n",
      "chicken 3 0 0 3\n",
      "dog 4483 1335 249 2899\n",
      "ferret 4 0 0 4\n",
      "goat 5 5 0 0\n",
      "potbelly pig 8 5 0\n",
      "rabbit 12 9 0 3\n",
      "399277\n",
      "['$103,929.42', '$50.00 ID # 147', 'cat 550 125 3 468', 'dog 1532 478 60 948', 'Full name Wake County Animal Control & Shelter', 'Department', 'PO Box 550', 'Raleigh NC 27602']\n",
      "cat 550 125 3 468\n",
      "dog 1532 478 60 948\n",
      "399277\n",
      "['$1,493,706.00', '$209.00 ID # 148', 'bird 2 1 1 0', 'cat 3249 589 52 2564', 'dog 3854 1274 391 2118', 'ferret 11 7 4 0', 'fowl 1 0 0 1', 'goat 1 0 1 0', 'hog 1 1 0 0', 'horse 1 0 0 0', 'rabbit 8 8 0 0', 'reptile 1 0 0 0', 'wolf 1 1 0 0', 'Full name Warren County Animal Control', \"Department Warren County Manager's Office\", 'PO Box 619', 'Warrenton NC 27589']\n",
      "bird 2 1 1 0\n",
      "cat 3249 589 52 2564\n",
      "dog 3854 1274 391 2118\n",
      "ferret 11 7 4 0\n",
      "fowl 1 0 0 1\n",
      "goat 1 0 1 0\n",
      "hog 1 1 0 0\n",
      "horse 1 0 0 0\n",
      "rabbit 8 8 0 0\n",
      "reptile 1 0 0 0\n",
      "wolf 1 1 0 0\n",
      "399277\n",
      "['$41,136.60', '$26.37 ID # 149', 'cat 469 0 0 469', 'dog 1091 44 23 1024', 'Full name Washington County Animal Control', 'Department Washington County Manager', 'PO Box 1007', 'Plymouth NC 27962']\n",
      "cat 469 0 0 469\n",
      "dog 1091 44 23 1024\n",
      "399277\n",
      "['$32,778.91', '$43.59 ID # 150', 'cat 328 36 2 266', 'dog 424 119 19 330', 'Full name Watauga County Animal Control', 'Department', 'Courthouse Box 23', 'Boone NC 28607']\n",
      "cat 328 36 2 266\n",
      "dog 424 119 19 330\n",
      "399277\n",
      "['$127,085.00', '$101.26 ID # 151', 'cat 496 52 52 392', 'dog 747 177 133 343', 'raccoon 5 0 0 5', 'rodent 1 0 0 1', 'skunk 4 0 0 4', 'squirrel 2 0 0 2', 'Full name Wayne County Animal Control', 'Department', 'PO Box 227', 'Goldsboro NC 27533-0227']\n",
      "cat 496 52 52 392\n",
      "dog 747 177 133 343\n",
      "raccoon 5 0 0 5\n",
      "rodent 1 0 0 1\n",
      "skunk 4 0 0 4\n",
      "squirrel 2 0 0 2\n",
      "399277\n",
      "['$172,968.00', '$23.94 ID # 153', 'cat 3538 127 19 3392', 'dog 3559 255 247 3057', 'fox 15 0 0 15', 'opossum 78 0 78 0', 'pig 3 0 3 0', 'raccoon 30 0 0 30', 'Full name Wilkes County Animal Control', 'Department', '408 Call St', 'Wilkesboro NC 28697']\n",
      "cat 3538 127 19 3392\n",
      "dog 3559 255 247 3057\n",
      "fox 15 0 0 15\n",
      "opossum 78 0 78 0\n",
      "pig 3 0 3 0\n",
      "raccoon 30 0 0 30\n",
      "399277\n",
      "['$231,368.00', '$44.07 ID # 154', 'cat 2213 191 24 2058', 'chicken 7 0 0 7', 'dog 2963 346 165 2560', 'opossum 25 0 0 25', 'potbelly pig 1 0 0 1', 'raccoon 32 0 0 32', 'skunks 9 0 0 9', 'Full name Wilson County Animal Control', 'Department Wilson County Health Dept.', '4001 Airport Dr', 'Wilson NC 27893']\n",
      "cat 2213 191 24 2058\n",
      "chicken 7 0 0 7\n",
      "dog 2963 346 165 2560\n",
      "opossum 25 0 0 25\n",
      "potbelly pig 1 0 0\n",
      "raccoon 32 0 0 32\n",
      "skunks 9 0 0 9\n",
      "399277\n",
      "['$276,500.00', '$0.00 ID # 155', 'bird 1 0 1 0', 'cat 1514 86 17 1400', 'chicken 1 1 0 0', 'dog 1928 166 133 1640', 'guinea pig 1 0 1 0', 'pig 2 2 0 0', 'rabbit 3 3 0 0', 'Full name Yancey County Animal Shelter', 'Department Yancey County Humane Society', 'PO Box 1016', 'Burnsville NC 28714']\n",
      "bird 1 0 1 0\n",
      "cat 1514 86 17 1400\n",
      "chicken 1 1 0 0\n",
      "dog 1928 166 133 1640\n",
      "guinea pig 1 0 1\n",
      "pig 2 2 0 0\n",
      "rabbit 3 3 0 0\n",
      "399277\n",
      "['$107,759.21', '$100.42 ID # 157', 'cat 650 155 1 290', 'dog 405 270 21 202', 'guinea pig 3 3 0 0', 'hamster 12 12 0 0', 'rabbit 3 3 0 0', 'Full name Lincoln County Animal Control', 'Department', 'PO Box 506', 'Lincolnton NC 28903']\n",
      "cat 650 155 1 290\n",
      "dog 405 270 21 202\n",
      "guinea pig 3 3 0\n",
      "hamster 12 12 0 0\n",
      "rabbit 3 3 0 0\n",
      "399277\n",
      "['$223,899.11', '$0.00 ID # 159', 'cats 1276 84 8 1163', 'dog 1790 204 51 1452', 'Full name Reidsville Veterinary Hospital', 'Department attn: Dr Joe Kinnarney', '1401 W Harrison St', 'Reidsville NC 27320']\n",
      "cats 1276 84 8 1163\n",
      "dog 1790 204 51 1452\n",
      "399277\n",
      "['$81,300.00', '$25.00 ID # 161', 'cat 1384 27 14 1343', 'dog 1863 75 132 1656', 'goat 5 5 0 0', 'potbelly pig 1 1 0 0', 'Full name Eden Veterinary Hospital', 'Department attn: Dr Glasscock', 'PO Box 2161', 'Eden NC 27288']\n",
      "cat 1384 27 14 1343\n",
      "dog 1863 75 132 1656\n",
      "goat 5 5 0 0\n",
      "potbelly pig 1 1 0\n",
      "399277\n",
      "['$0.00', '$0.00 ID # 162', 'dog 371 0 0 556', 'Full name City of Stoneville Animal Control', 'Department attn: Bob Wyatt, City Mgr., Administrative Office', '151 Smith St', 'Stoneville NC 27048']\n",
      "dog 371 0 0 556\n",
      "399277\n",
      "['$242.75', '$26.97 ID # 164', 'dog 9 0 3 6', 'Full name Valley River Humane Society', 'Department (Graham Co)', '7450 US Hwy 19', 'Marble NC 28905']\n",
      "dog 9 0 3 6\n",
      "399277\n",
      "['$154,267.00', '$408.11 ID # 170', 'cat 187 79 0 109', 'dog 184 119 1 70', 'Full name Valley River Humane Society', 'Department (Clay Co)', '7450 US Hwy 19', 'Marble NC 28905']\n",
      "cat 187 79 0 109\n",
      "dog 184 119 1 70\n",
      "399277\n",
      "['$154,267.00', '$296.67 ID # 171', 'cat 133 70 0 62', 'dog 383 275 2 111', 'goat 1 0 0 1', 'Full name Valley River Humane Society', 'Department (Swain Co)', '7450 US Hwy 19', 'Marble NC 28905']\n",
      "cat 133 70 0 62\n",
      "dog 383 275 2 111\n",
      "goat 1 0 0 1\n",
      "399277\n",
      "['$8,947.49', '$31.39 ID # 172', 'cat 111 46 0 66', 'dog 174 96 2 81', 'Full name Currituck County Humane Society & Animal Shelter', 'Department', 'PO Box 365', 'Maple NC 27956']\n",
      "cat 111 46 0 66\n",
      "dog 174 96 2 81\n",
      "399277\n",
      "['$0.00', '$0.00 ID # 174', 'no report 0 0 0 0', 'Full name Melinda Barefoot', 'Department Johnston County SPCA', '720 Durham St', 'Clayton NC 27520']\n",
      "399277\n",
      "['$53,000.43', '$55.09 ID # 175', 'cat 558 18 3 467', 'chickens 2 2 0 0', 'dog 393 41 58 200', 'duck 1 1 0 0', 'guinea pig 1 1 0 0', 'pig 1 0 0 1', 'rabbit 6 6 0 0']\n",
      "cat 558 18 3 467\n",
      "chickens 2 2 0 0\n",
      "dog 393 41 58 200\n",
      "duck 1 1 0 0\n",
      "guinea pig 1 1 0\n",
      "pig 1 0 0 1\n",
      "rabbit 6 6 0 0\n",
      "Error Error Error Error Error\n"
     ]
    }
   ],
   "source": [
    "###This parses out species infromation\n",
    "for i in range(1,94):\n",
    "    dat_list = pdf_2001_combined.split(\"species # into shelter # adopted out # returned to owner # euthanizedtotal operating expenses\\ncost per animal handled\")[i].rstrip().lstrip().split('\\n')\n",
    "    species_num = 2\n",
    "    end_table = False\n",
    "    print(table_num)\n",
    "    print(dat_list)\n",
    "    try: \n",
    "        while end_table == False:\n",
    "            if \"Full\" in dat_list[species_num] or \"no report\" in dat_list[species_num]:\n",
    "                end_table = True\n",
    "            else:\n",
    "                species_and_counts = dat_list[species_num].split(\" \")\n",
    "                species = species_and_counts[0]\n",
    "                intake = species_and_counts[1]\n",
    "                adopted = species_and_counts[2]\n",
    "                returned = species_and_counts[3]\n",
    "                euthanized = species_and_counts[4]  \n",
    "                species_num += 1\n",
    "                print(species, intake, adopted,returned, euthanized)\n",
    "            \n",
    "    except IndexError:\n",
    "        species = \"Error\"\n",
    "        intake = \"Error\"\n",
    "        adopted = \"Error\"\n",
    "        returned = \"Error\"\n",
    "        euthanized = \"Error\"\n",
    "        print(species, intake, adopted,returned, euthanized)\n",
    "        \n",
    "        species_num += 1\n",
    "                        "
   ]
  },
  {
   "cell_type": "code",
   "execution_count": null,
   "id": "d8c6c15b-7bc6-49ff-a98d-045741bf2308",
   "metadata": {},
   "outputs": [],
   "source": []
  }
 ],
 "metadata": {
  "kernelspec": {
   "display_name": "Python 3 (ipykernel)",
   "language": "python",
   "name": "python3"
  },
  "language_info": {
   "codemirror_mode": {
    "name": "ipython",
    "version": 3
   },
   "file_extension": ".py",
   "mimetype": "text/x-python",
   "name": "python",
   "nbconvert_exporter": "python",
   "pygments_lexer": "ipython3",
   "version": "3.11.5"
  }
 },
 "nbformat": 4,
 "nbformat_minor": 5
}
