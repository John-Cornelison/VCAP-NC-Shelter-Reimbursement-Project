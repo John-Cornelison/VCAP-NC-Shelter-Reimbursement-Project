{
 "cells": [
  {
   "cell_type": "code",
   "execution_count": 1,
   "id": "c7c076a4-8d08-4075-826d-4f53b05d58c8",
   "metadata": {},
   "outputs": [],
   "source": [
    "## Libraries\n",
    "import pandas as pd\n",
    "import sqlite3\n",
    "import PyPDF2\n",
    "import os\n",
    "import numpy as np"
   ]
  },
  {
   "cell_type": "code",
   "execution_count": 2,
   "id": "81ede5c0-19fd-4bfb-bca6-9172edec6b04",
   "metadata": {},
   "outputs": [],
   "source": [
    "### Changing working director\n",
    "os.chdir(\"C:/Users/johnc/Documents/GitHub_Data/VCAP-NC-Shelter-Reimbursement-Project-Data\")"
   ]
  },
  {
   "cell_type": "code",
   "execution_count": 47,
   "id": "b5ed2dce-2d6d-4692-a2fe-d4678355d744",
   "metadata": {},
   "outputs": [
    {
     "data": {
      "text/plain": [
       "'Full name Asheville Humane Society\\nDepartment\\n72 Lees Creek Rd\\nAsheville NC 28806\\nspecies # into shelter # adopted out # returned to owner # euthanizedtotal operating expenses\\ncost per animal handled$1,258,398.00\\n$75.68 ID # 7\\nbird 60 15 0 13\\ncat 4155 660 74 3193\\ndog 5080 1259 615 3037\\nferret 12 4 0 4\\nfish 29 1 20 0\\nfox 6 0 0 5\\ngerbil 23 6 0 22\\ngoat 8 1 0 1\\ngroundhog 1 0 0 1\\nguinea pig 28 10 0 15\\nhamster 22 2 0 15\\nlivestock 14 0 10 0\\nmouse 24 10 0 16\\nopossum 16 0 0 14\\npotbelly pig 4 1 0 1\\npython 1 1 0 0\\nrabbit 39 8 0 35\\nraccoon 74 0 0 69\\nsalamander 0 1 0 0\\nskunk 2 0 0 2\\nsquirrel 7 0 0 5\\ntarantula 0 1 0 0\\nTuesday, January 03, 2012 Page 2 of 34'"
      ]
     },
     "execution_count": 47,
     "metadata": {},
     "output_type": "execute_result"
    }
   ],
   "source": [
    "### Reading in PDF Data\n",
    "from PyPDF2 import PdfReader\n",
    "\n",
    "reader = PdfReader(\"Summaryreport2001fromDHHS.pdf\")\n",
    "#page = reader.pages[0]\n",
    "#print(page.extract_text())\n",
    "\n",
    "reader.pages[1].extract_text()"
   ]
  },
  {
   "cell_type": "code",
   "execution_count": 122,
   "id": "e23d0afa-7401-4da5-8a2e-fa60a3585ab6",
   "metadata": {},
   "outputs": [
    {
     "data": {
      "text/plain": [
       "'Full name Beaufort County Animal Control\\nDepartment\\nPO Box 1027\\nWashington NC 27889\\nspecies # into shelter # adopted out # returned to owner # euthanizedtotal operating expenses\\ncost per animal handled$117,529.00\\n$21.46 ID # 9\\ncat 1526 39 7 1475\\ndog 1930 55 99 1685\\nFull name Bertie County Animal Control\\nDepartment Animal Control/Solid Waste\\nPO Box 530\\nWindsor NC 27983\\nspecies # into shelter # adopted out # returned to owner # euthanizedtotal operating expenses\\ncost per animal handled$37,665.00\\n$3.00 ID # 10\\ncat 603 470 8 125\\ndog 1181 660 87 424\\nFull name Bladen County Animal Control\\nDepartment Bladen County Health Dept\\nPO Box 189\\nElizabethtown NC 28337\\nspecies # into shelter # adopted out # returned to owner # euthanizedtotal operating expenses\\ncost per animal handled$81,341.00\\n$16.46 ID # 11\\nbat 2 0 0 2\\nbear 2 0 0 0\\nbobcat 6 0 0 6\\ncat 1217 61 6 1150\\ndog 3461 699 59 2703\\nopossum 46 0 0 14\\nraccoon 37 0 0 37\\n'"
      ]
     },
     "execution_count": 122,
     "metadata": {},
     "output_type": "execute_result"
    }
   ],
   "source": [
    "num = 3\n",
    "### The goal of this block of code is to remove the footer informaton\n",
    "pdf_text = reader.pages[2].extract_text()\n",
    "pdf_text = pdf_text.replace(\"Tuesday, January 03, 2012\", \"\")\n",
    "pdf_text = pdf_text.replace(\"of 34\", \"\")\n",
    "pdf_text = pdf_text.replace(\"Page\" + \" \" + str(num), \"\")\n",
    "pdf_text = pdf_text.replace(\"\\n  \", \"\\n\")\n",
    "pdf_text"
   ]
  },
  {
   "cell_type": "code",
   "execution_count": 146,
   "id": "13eb9dad-a5e7-4385-b36c-d3ddf404635e",
   "metadata": {
    "tags": []
   },
   "outputs": [],
   "source": [
    "final_page = False\n",
    "page_num = 0\n",
    "combined_pdf = \"\"\n",
    "try:\n",
    "    while final_page == False:\n",
    "        pdf_text = reader.pages[page_num].extract_text()\n",
    "        pdf_text = pdf_text.replace(\"Tuesday, January 03, 2012\", \"\")\n",
    "        pdf_text = pdf_text.replace(\"of 34\", \"\")\n",
    "        pdf_text = pdf_text.replace(\"Page\" + \" \" + str(page_num + 1), \"\")\n",
    "        pdf_text = pdf_text.replace(\"\\n  \", \"\\n\")\n",
    "        combined_pdf += pdf_text\n",
    "        page_num += 1\n",
    "        \n",
    "except IndexError:\n",
    "    final_page = True"
   ]
  },
  {
   "cell_type": "code",
   "execution_count": 125,
   "id": "e3df6542-0ec3-4552-b03f-2b3d29e089e6",
   "metadata": {
    "collapsed": true,
    "jupyter": {
     "outputs_hidden": true
    },
    "scrolled": true
   },
   "outputs": [
    {
     "data": {
      "text/plain": [
       "'Animal Shelter Reporting Data\\nfor calendar year 2001Data required to be reported by animal shelters meeting \\ncriteria set forth by the \"Spay/Neuter Law\"\\nFull name Alleghany County Animal Control\\nDepartment co/ Public Works\\nPO Box 366\\nSparta NC 28675\\nspecies # into shelter # adopted out # returned to owner # euthanizedtotal operating expenses\\ncost per animal handled$9,826.85\\n$19.23 ID # 4\\ncat 50 44 0 6\\ndog 460 187 33 240\\nequine 1 0 1 0\\nFull name Anson County Animal Control\\nDepartment Anson County Health Dept\\nPO Box 473\\nWadesboro NC 28170\\nspecies # into shelter # adopted out # returned to owner # euthanizedtotal operating expenses\\ncost per animal handled$39,335.00\\n$29.44 ID # 5\\ncat 450 0 1 449\\ndog 886 0 11 875\\nFull name Ashe County Animal Control\\nDepartment\\nPO Box 1797\\nWest Jefferson NC 28694\\nspecies # into shelter # adopted out # returned to owner # euthanizedtotal operating expenses\\ncost per animal handled$82,883.52\\n$66.36 ID # 6\\ncat 560 35 3 522\\ndog 689 78 40 571\\n  Full name Asheville Humane Society\\nDepartment\\n72 Lees Creek Rd\\nAsheville NC 28806\\nspecies # into shelter # adopted out # returned to owner # euthanizedtotal operating expenses\\ncost per animal handled$1,258,398.00\\n$75.68 ID # 7\\nbird 60 15 0 13\\ncat 4155 660 74 3193\\ndog 5080 1259 615 3037\\nferret 12 4 0 4\\nfish 29 1 20 0\\nfox 6 0 0 5\\ngerbil 23 6 0 22\\ngoat 8 1 0 1\\ngroundhog 1 0 0 1\\nguinea pig 28 10 0 15\\nhamster 22 2 0 15\\nlivestock 14 0 10 0\\nmouse 24 10 0 16\\nopossum 16 0 0 14\\npotbelly pig 4 1 0 1\\npython 1 1 0 0\\nrabbit 39 8 0 35\\nraccoon 74 0 0 69\\nsalamander 0 1 0 0\\nskunk 2 0 0 2\\nsquirrel 7 0 0 5\\ntarantula 0 1 0 0\\n  Full name Beaufort County Animal Control\\nDepartment\\nPO Box 1027\\nWashington NC 27889\\nspecies # into shelter # adopted out # returned to owner # euthanizedtotal operating expenses\\ncost per animal handled$117,529.00\\n$21.46 ID # 9\\ncat 1526 39 7 1475\\ndog 1930 55 99 1685\\nFull name Bertie County Animal Control\\nDepartment Animal Control/Solid Waste\\nPO Box 530\\nWindsor NC 27983\\nspecies # into shelter # adopted out # returned to owner # euthanizedtotal operating expenses\\ncost per animal handled$37,665.00\\n$3.00 ID # 10\\ncat 603 470 8 125\\ndog 1181 660 87 424\\nFull name Bladen County Animal Control\\nDepartment Bladen County Health Dept\\nPO Box 189\\nElizabethtown NC 28337\\nspecies # into shelter # adopted out # returned to owner # euthanizedtotal operating expenses\\ncost per animal handled$81,341.00\\n$16.46 ID # 11\\nbat 2 0 0 2\\nbear 2 0 0 0\\nbobcat 6 0 0 6\\ncat 1217 61 6 1150\\ndog 3461 699 59 2703\\nopossum 46 0 0 14\\nraccoon 37 0 0 37\\n  Full name Brunswick County Animal Services\\nDepartment Brunswick County Health Dept\\nPO Box 92\\nSupply NC 28462\\nspecies # into shelter # adopted out # returned to owner # euthanizedtotal operating expenses\\ncost per animal handled$376,273.41\\n$70.95 ID # 12\\nbirds 7 0 0 0\\ncat 2329 225 15 1864\\nchickens 26 0 2 18\\ndog 2848 642 161 1887\\nduck 23 0 0 8\\nfowl 25 0 0 7\\nfox 1 0 0 1\\nhog 10 0 2 0\\nopossum 7 0 0 0\\nraccoon 2 0 0 2\\nvietnamese pig 25 0 2 1\\nFull name Burke County Animal Shelter\\nDepartment Burke County Sheriff\\'s Dept\\n150 Government Dr\\nMorganton NC 28655\\nspecies # into shelter # adopted out # returned to owner # euthanizedtotal operating expenses\\ncost per animal handled$240,000.00\\n$25.00 ID # 13\\ncat 1985 127 18 1832\\ndog 2910 589 108 1955\\n  Full name Cabarrus County Animal Control\\nDepartment Cabarrus County Sheriff\\'s Dept\\nPO Box 525\\nConcord NC 28026-0525\\nspecies # into shelter # adopted out # returned to owner # euthanizedtotal operating expenses\\ncost per animal handled$124,367.00\\n$91.85 ID # 14\\ndog 973 97 117 759\\nFull name Caldwell County Animal Control\\nDepartment\\nPO Box 2200\\nLenoir NC 28645\\nspecies # into shelter # adopted out # returned to owner # euthanizedtotal operating expenses\\ncost per animal handled$276,094.67\\n$47.65 ID # 15\\nbat 10 0 0 5\\nbobcat 1 0 0 0\\ncat 2601 47 15 2521\\ndog 3130 132 230 2725\\nfox 3 0 0 0\\ngroundhog 1 0 0 0\\nraccoon 39 0 0 20\\nskunk 6 0 0 3\\nsquirrel 3 0 0 1\\nFull name Catawba County Animal Control and Shelter\\nDepartment\\nPO Box 389\\nNewton NC 28658\\nspecies # into shelter # adopted out # returned to owner # euthanizedtotal operating expenses\\ncost per animal handled$326,315.00\\n$49.00 ID # 19\\nbat 4 0 0 4\\ncat 2929 147 21 2825\\n  dog 3680 597 306 2739\\nfox 2 0 0 2\\nraccoon 11 0 0 11\\nskunk 4 0 0 4\\nFull name Charlotte-Mecklenburg Animal Control\\nDepartment Charlotte-Mecklenburg Police Dept\\n8315 Byrum Dr\\nCharlotte NC 28217\\nspecies # into shelter # adopted out # returned to owner # euthanizedtotal operating expenses\\ncost per animal handled$4,232,238.00\\n$202.73 ID # 20\\nbat 210 0 0 168\\nbird 491 50 124 221\\ncat 7962 1027 209 6726\\ndeer 45 0 0 29\\ndog 10618 1798 1882 6832\\nequine 2 0 1 0\\nferret 39 13 20 3\\nfox 48 0 0 46\\ngoat 23 19 1 3\\nlivestock 1 0 1 0\\nopossum 259 0 0 81\\npig 32 19 0 2\\nrabbit 100 42 1 42\\nraccoon 878 0 0 767\\nreptile 64 24 3 11\\nrodent 101 6 0 43\\nskunk 3 0 0 2\\n  Full name Chatham County Animal Control\\nDepartment Chatham County Health Dept\\n725 County Landfill Rd\\nPittsboro NC 27312\\nspecies # into shelter # adopted out # returned to owner # euthanizedtotal operating expenses\\ncost per animal handled$234,280.00\\n$98.56 ID # 21\\ncat 1111 89 5 1000\\ndog 1266 269 116 818\\nFull name Chowan County Animal Control\\nDepartment\\n138 Icaria Rd\\nTyner NC 27980\\nspecies # into shelter # adopted out # returned to owner # euthanizedtotal operating expenses\\ncost per animal handled$20,012,864.00\\n$7,610.00 ID # 23\\nbat 7 0 0 2\\ncat 797 77 4 716\\ndog 725 136 55 510\\nfox 1 0 0 1\\nopossum 34 0 0 0\\nother 15 0 0 3\\nraccoon 11 0 0 9\\nFull name City of Burlington Animal Control\\nDepartment Burlington Police Department\\n267 W Front St\\nBurlington NC 27215\\nspecies # into shelter # adopted out # returned to owner # euthanizedtotal operating expenses\\ncost per animal handled$324,893.23\\n$55.83 ID # 25\\ncat 1955 108 89 1622\\ndog 2289 127 348 1687\\nother 167 34 16 101\\n  Full name City of Rocky Mount Animal Control\\nDepartment Rocky Mount Police Dept\\nPO Box 1180\\nRocky Mount NC 27801\\nspecies # into shelter # adopted out # returned to owner # euthanizedtotal operating expenses\\ncost per animal handled$162,000.00\\n$76.71 ID # 42\\nbat 1 0 0 1\\nbird 13 0 7 6\\ncat 1008 153 13 824\\nchipmunk 1 0 1 0\\ndeer 2 0 0 2\\ndog 1730 197 284 1288\\nferret 1 0 1 0\\ngroundhog 3 0 0 3\\nopossum 45 0 43 2\\npig 3 3 0 0\\nrabbit 3 0 3 0\\nraccoon 24 0 0 24\\nringtail 1 0 1 0\\nsnake 9 0 6 3\\nsquirrel 42 0 39 3\\nturtle 4 0 3 1\\nFull name City of Tarboro Animal Control\\nDepartment Dept. of Public Works\\nPO Box 220\\nTarboro NC 27886\\nspecies # into shelter # adopted out # returned to owner # euthanizedtotal operating expenses\\ncost per animal handled$0.00\\n$0.00 ID # 45\\nno report 0 0 0 0\\n  Full name Cleveland County Animal Control\\nDepartment Cleveland County Animal Shelter\\n315 E Grover St\\nShelby NC 28150-3998\\nspecies # into shelter # adopted out # returned to owner # euthanizedtotal operating expenses\\ncost per animal handled$310,815.00\\n$39.87 ID # 48\\nbat 16 0 0 16\\nbird 5 0 2 3\\ncat 3552 13 25 2634\\nchipmunks 1 0 0 1\\ndeer 2 0 1 1\\ndog 3990 32 326 3448\\nferret 1 0 0 1\\nFox 32 0 0 32\\ngroundhog 10 0 0 10\\nlivestock 17 0 8 2\\nopossum 44 0 0 44\\nrabbit 1 0 1 0\\nraccoon 107 0 0 107\\nSkunk 16 0 0 16\\nsquirrel 2 0 0 2\\nFull name Columbus County Animal Control\\nDepartment\\n111 Washington Ave\\nWhiteville NC 28472\\nspecies # into shelter # adopted out # returned to owner # euthanizedtotal operating expenses\\ncost per animal handled$118,410.00\\n$262.32 ID # 49\\ncat 1537 84 32 1421\\ndog 2977 350 93 2534\\n  Full name Craven-Pamlico Animal Services Center\\nDepartment Craven County Health Dept\\n1639 Old Airport Rd\\nNew Bern NC 28562\\nspecies # into shelter # adopted out # returned to owner # euthanizedtotal operating expenses\\ncost per animal handled$242,464.00\\n$38.88 ID # 51\\nbat 4 0 0 4\\ncan. Goose 1 0 0 1\\ncat 3289 144 28 3071\\ndog 2878 334 259 2213\\nfox 5 0 0 5\\nmallard duck 1 0 0 1\\nopossum 34 0 33 1\\nraccoon 24 0 0 24\\nFull name Cumberland County Animal Control\\nDepartment\\nPO Drawer 1829\\nFayetteville NC 28302\\nspecies # into shelter # adopted out # returned to owner # euthanizedtotal operating expenses\\ncost per animal handled$0.00\\n$0.00 ID # 52\\nno report 0 0 0 0\\nFull name Davidson County Animal Control\\nDepartment\\n490 Glendale Rd\\nLexington NC 27292\\nspecies # into shelter # adopted out # returned to owner # euthanizedtotal operating expenses\\ncost per animal handled$95,661.00\\n$10.89 ID # 54\\ncat 4070 137 22 3911\\ndog 4713 324 255 4134\\n  Full name Davie County Animal Control\\nDepartment\\n809 Salisbury St\\nMocksville NC 27028\\nspecies # into shelter # adopted out # returned to owner # euthanizedtotal operating expenses\\ncost per animal handled$86,000.00\\n$53.34 ID # 55\\nbats 4 0 0 4\\ncat 419 36 11 372\\ndog 1193 61 37 1095\\nraccoon 35 0 0 35\\nskunk 20 0 0 20\\nFull name Edgecombe County Animal Control\\nDepartment\\n2909 N Main St\\nTarboro NC 27886\\nspecies # into shelter # adopted out # returned to owner # euthanizedtotal operating expenses\\ncost per animal handled$130,704.00\\n$69.97 ID # 58\\ncat 738 71 3 642\\ndeer 8 0 0 8\\ndog 1113 310 42 702\\ngoat 2 2 0 0\\nopossum 6 0 6 0\\nraccoon 1 0 0 1\\nFull name Forsyth County Animal Control\\nDepartment\\n1200 Fairchild Dr\\nWinston Salem NC 27105\\nspecies # into shelter # adopted out # returned to owner # euthanizedtotal operating expenses\\ncost per animal handled$0.00\\n$0.00 ID # 59\\nno report 0 0 0 0\\n  Full name Franklin County Animal Control\\nDepartment Franklin County Health Dept\\n107 Industrial Dr Ste C\\nLouisburg NC 27549\\nspecies # into shelter # adopted out # returned to owner # euthanizedtotal operating expenses\\ncost per animal handled$359,111.44\\n$144.02 ID # 60\\nbat 11 0 0 11\\nbird 2 0 0 2\\nbobcat 1 0 0 1\\ncat 1079 18 0 1066\\ndog 679 170 236 242\\ndog 1990 155 127 1722\\nfox 9 0 0 9\\ngroundhog 5 0 0 5\\nopossum 9 0 0 9\\npig 2 0 0 2\\nrabbit 1 0 0 1\\nraccoon 7 0 0 7\\nrat 2 0 0 2\\nsnake 4 0 0 4\\nFull name Gaston County Animal Control\\nDepartment Gaston County Police Dept\\nPO Box 479\\nDallas NC 28034\\nspecies # into shelter # adopted out # returned to owner # euthanizedtotal operating expenses\\ncost per animal handled$821,156.00\\n$78.19 ID # 61\\nbirds 121 26 19 76\\ncat 5056 21 83 4644\\ncoyote 1 0 0 1\\n  deer 3 0 0 3\\ndog 4930 127 502 4196\\nferrets 1 0 0 1\\nfish 3 0 3 0\\nfox 45 0 0 45\\ngoats 3 2 1 0\\ngroundhog 3 0 0 3\\nhorses 2 0 2 0\\niguana 1 1 0 0\\noppossum 83 0 58 25\\npig 1 1 0 0\\nprairie dog 1 0 0 1\\nrabbit 6 0 1 5\\nraccoon 196 0 1 195\\nrodents 4 0 1 3\\nskunk 13 0 0 13\\nsnakes 5 0 4 1\\nsquirrels 24 0 3 21\\nFull name Gates County Animal Control\\nDepartment Gates County Sheriff\\'s Dept\\nPO Box 148\\nGatesville NC 27938\\nspecies # into shelter # adopted out # returned to owner # euthanizedtotal operating expenses\\ncost per animal handled$23,002.00\\n$4,345.00 ID # 62\\nbird 1 0 0 0\\ncat 402 31 1 468\\ndog 467 99 19 324\\nraccoon 2 0 0 2\\n  Full name Granville County Animal Control\\nDepartment Dept of Emergency Services\\nPO Box 1642\\nOxford NC 27565\\nspecies # into shelter # adopted out # returned to owner # euthanizedtotal operating expenses\\ncost per animal handled$176,160.34\\n$52.60 ID # 64\\ncat 1095 139 15 941\\ndog 2171 303 28 1735\\nother 83 36 2 45\\nFull name Greene County Animal Control\\nDepartment Greene County Health Dept\\n227 Kingold Blvd - Ste B\\nSnow Hill NC 28580\\nspecies # into shelter # adopted out # returned to owner # euthanizedtotal operating expenses\\ncost per animal handled$23,444.54\\n$221.17 ID # 65\\ncat 21 12 0 9\\ndog 85 51 5 20\\nFull name United Animal Coalition\\nDepartment Guilford County Animal Shelter\\nPO Box 8\\nJamestown NC 27282-0008\\nspecies # into shelter # adopted out # returned to owner # euthanizedtotal operating expenses\\ncost per animal handled$1,333,060.00\\n$113.00 ID # 66\\nbirds 2 0 0 1\\ncat 3873 1475 36 2186\\ndog 6349 2734 798 2847\\nferret,hamster,guinea pig 5 0 0 30\\nlivestock 1 0 0 0\\nrabbit 5 1 0 2\\nwildlife 325 0 0 316\\n  Full name Halifax County Animal Control\\nDepartment Halifax County Health Dept\\nPO Box 10\\nHalifax NC 27839\\nspecies # into shelter # adopted out # returned to owner # euthanizedtotal operating expenses\\ncost per animal handled$0.00\\n$0.00 ID # 68\\nno report 0 0 0 0\\nFull name Haywood County Animal Control\\nDepartment\\nPO Box 3036\\nWaynesville NC 28738\\nspecies # into shelter # adopted out # returned to owner # euthanizedtotal operating expenses\\ncost per animal handled$230,000.00\\n$36.00 ID # 71\\nbats 5 0 0 5\\ncat 1603 185 15 1350\\ndog 2282 496 257 1321\\nFowl, chicken 163 0 140 0\\nfox 4 0 0 4\\ngoats 4 2 2 0\\niguana 1 0 1 0\\nopossum 7 0 0 7\\nrabbit 3 1 0 2\\nFull name Henderson County Animal Control\\nDepartment Henderson County Health Dept\\n810 Stoney Mtn Rd\\nHendersonville NC 28791\\nspecies # into shelter # adopted out # returned to owner # euthanizedtotal operating expenses\\ncost per animal handled$233,752.00\\n$60.00 ID # 72\\ncat 1810 173 1609\\ndog 2023 577 0 1377\\n  Full name Hertford County Animal Control\\nDepartment\\nPO Box 479\\nWinton NC 27986\\nspecies # into shelter # adopted out # returned to owner # euthanizedtotal operating expenses\\ncost per animal handled$43,160.00\\n$50.84 ID # 73\\ncat 323 0 0 253\\ndog 526 26 3 329\\nFull name Hoke County Animal Control\\nDepartment\\nPO Box 210\\nRaeford NC 28376\\nspecies # into shelter # adopted out # returned to owner # euthanizedtotal operating expenses\\ncost per animal handled$32,500.00\\n$19.33 ID # 74\\ncat 437 35 7 404\\ndog 1243 333 145 734\\nfox 2 0 0 2\\nFull name Iredell County Animal Control\\nDepartment\\n243 Twin Oaks Rd\\nStatesville NC 28625\\nspecies # into shelter # adopted out # returned to owner # euthanizedtotal operating expenses\\ncost per animal handled$526,570.00\\n$70.08 ID # 76\\ncat 3474 49 48 3370\\ndog 3664 122 370 3109\\nfox 13 0 0 13\\nopossum 81 0 0 81\\nraccoon 88 0 0 88\\nskunk 17 0 0 17\\nwildlife/livestock 97 0 0 0\\n  Full name Jackson County Animal Control\\nDepartment Jackson County Health Dept\\n538 Scotts Creek Rd\\nSylva NC 28779\\nspecies # into shelter # adopted out # returned to owner # euthanizedtotal operating expenses\\ncost per animal handled$0.00\\n$0.00 ID # 77\\nno report 0 0 0 0\\nFull name Johnston County Animal Control\\nDepartment\\n1320 N Brightleaf Blvd\\nSmithfield NC 27577\\nspecies # into shelter # adopted out # returned to owner # euthanizedtotal operating expenses\\ncost per animal handled$0.00\\n$0.00 ID # 78\\nno report 0 0 0 0\\nFull name Macon County Animal Control\\nDepartment Macon County Sheriff\\'s Dept\\nPO Box 81\\nFranklin NC 28744\\nspecies # into shelter # adopted out # returned to owner # euthanizedtotal operating expenses\\ncost per animal handled$0.00\\n$0.00 ID # 84\\nno report 0 0 0 0\\nFull name Madison County Animal Control\\nDepartment Madison County Health Dept\\n140 Health Care Ln\\nMarshall NC 28753\\nspecies # into shelter # adopted out # returned to owner # euthanizedtotal operating expenses\\ncost per animal handled$48,390.03\\n$61.02 ID # 85\\ncat 352 223 1 87\\ndog 441 156 11 246\\n  Full name Madison County Friends of Animals\\nDepartment Animal Shelter\\n389 Long Branch Rd\\nMarshall NC 28753\\nspecies # into shelter # adopted out # returned to owner # euthanizedtotal operating expenses\\ncost per animal handled$0.00\\n$0.00 ID # 86\\ndog 441 156 11 246\\nno report\\nFull name McDowell County Animal Control\\nDepartment McDowell County Animal Shelter\\n60 E Court St\\nMarion NC 28752\\nspecies # into shelter # adopted out # returned to owner # euthanizedtotal operating expenses\\ncost per animal handled$73,599.78\\n$20.37 ID # 88\\ncat 1395 69 63 1263\\ndog 2219 145 155 1919\\nFull name Mitchell County Animal Shelter\\nDepartment\\nPO Box 308\\nSpruce Pine NC 28777\\nspecies # into shelter # adopted out # returned to owner # euthanizedtotal operating expenses\\ncost per animal handled$67,551.00\\n$54.74 ID # 89\\nbirds 2 2 0 0\\ncat 559 264 0 290\\ndog 669 287 13 366\\nguinea pig 1 1 0 0\\nrabbit 3 3 0 0\\n  Full name Montgomery County Animal Control\\nDepartment c/o Laura Morton\\nPO Box 425\\nTroy NC 27371\\nspecies # into shelter # adopted out # returned to owner # euthanizedtotal operating expenses\\ncost per animal handled$0.00\\n$0.00 ID # 90\\nno report 0 0 0 0\\nFull name Animal Center of Moore County\\nDepartment c/o Moore County Health Dept\\nPO Box 279\\nCarthage NC 28327\\nspecies # into shelter # adopted out # returned to owner # euthanizedtotal operating expenses\\ncost per animal handled$295,988.28\\n$85.37 ID # 91\\ncat 1619 491 58 860\\ndog 1848 753 145 713\\nFull name Nash County Animal Control\\nDepartment Nash County Health Dept\\nPO Box 849\\nNashville NC 27856\\nspecies # into shelter # adopted out # returned to owner # euthanizedtotal operating expenses\\ncost per animal handled$168,945.26\\n$47.79 ID # 93\\nbeaver 3 0 0 3\\nbobcat 1 0 0 1\\ncat 1783 14 9 1732\\ndog 1673 72 68 1487\\nduck 1 0 0 1\\nferret 2 1 0 1\\nfox 3 0 0 3\\ngoat 1 0 1 0\\ngroundhog 1 0 0 1\\n  horse 1 1 0 0\\nopossum 38 0 19 19\\npig 2 1 0 1\\nrabbit 1 0 0 1\\nraccoon 24 0 0 24\\nsquirrel 1 0 0 1\\nFull name New Hanover County Animal Control Services\\nDepartment New Hanover County Health Dept\\n180 Division Dr\\nWilmington NC 28401\\nspecies # into shelter # adopted out # returned to owner # euthanizedtotal operating expenses\\ncost per animal handled$904,084.00\\n$209.00 ID # 94\\nbat 1 0 0 1\\ncat 1969 230 80 1571\\ndog 2339 385 629 1229\\nfox 2 0 0 2\\nlivestock 6 1 2 0\\nopossum 4 0 0 2\\nrabbit 3 2 0 1\\nraccoons 9 0 0 9\\nFull name Northampton County Animal Control\\nDepartment Northampton County Health Dept\\nPO Box 635\\nJackson NC 27845\\nspecies # into shelter # adopted out # returned to owner # euthanizedtotal operating expenses\\ncost per animal handled$47,329.37\\n$48.84 ID # 95\\ncat 386 0 1 385\\ndog 583 2 6 575\\n  Full name Onslow County Animal Control\\nDepartment\\n244 Georgetown Rd\\nJacksonville NC 28540\\nspecies # into shelter # adopted out # returned to owner # euthanizedtotal operating expenses\\ncost per animal handled$379,880.00\\n$3.74 ID # 97\\ncat 1764 488 78 1195\\ndog 5289 1562 391 3587\\nother 555\\nFull name Pender County Animal Control\\nDepartment Pender County Health Dept\\nPO Box 1209\\nBurgaw NC 28425\\nspecies # into shelter # adopted out # returned to owner # euthanizedtotal operating expenses\\ncost per animal handled$0.00\\n$0.00 ID # 101\\nno report 0 0 0 0\\nFull name Perquimans County Animal Control\\nDepartment Perquimans County Sheriff\\'s Dept\\nPO Box 45\\nHertford NC 27944\\nspecies # into shelter # adopted out # returned to owner # euthanizedtotal operating expenses\\ncost per animal handled$25,393.32\\n$215.20 ID # 102\\ncat 26 2 0 24\\ndog 92 22 2 68\\nFull name Person County Animal Control\\nDepartment\\n2103 Chub Lake Rd\\nRoxboro NC 27573\\nspecies # into shelter # adopted out # returned to owner # euthanizedtotal operating expenses\\ncost per animal handled$144,236.00\\n$57.60 ID # 103\\ncat 1025 69 11 945\\n  dog 1479 101 108 1270\\nFull name Pitt County Animal Control\\nDepartment Pitt County Animal Shelter\\n1717 W 5th St\\nGreenville NC 27834\\nspecies # into shelter # adopted out # returned to owner # euthanizedtotal operating expenses\\ncost per animal handled$0.00\\n$0.00 ID # 104\\ncat 1725 13 6 1541\\ndog 2338 101 136 1953\\nFull name Randolph County Animal Control\\nDepartment Randolph County Health Dept\\n2222-B S Fayetteville St\\nAsheboro NC 27203\\nspecies # into shelter # adopted out # returned to owner # euthanizedtotal operating expenses\\ncost per animal handled$278,148.00\\n$43.50 ID # 106\\ncat 2856 55 23 2773\\nchicken 4 0 0 4\\ndog 3521 118 268 3109\\ngoat 7 0 7 0\\npig 2 2 0 0\\nrabbit 2 0 2 0\\nFull name Richmond County Animal Control\\nDepartment Richmond County Health Dept\\n127 Caroline St\\nRockingham NC 28379\\nspecies # into shelter # adopted out # returned to owner # euthanizedtotal operating expenses\\ncost per animal handled$96,967.02\\n$34.24 ID # 107\\ncat 547 0 1 546\\ndog 2217 49 50 2054\\nopossum 6 0 0 6\\n  pig 1 0 1 0\\nraccoon 14 0 0 14\\nrooster 47 0 0 47\\nFull name Robeson County Animal Control\\nDepartment Robeson County Health Dept\\n460 Country Club Blvd\\nLumberton NC 28358\\nspecies # into shelter # adopted out # returned to owner # euthanizedtotal operating expenses\\ncost per animal handled$78,324.05\\n$17.53 ID # 109\\ncat 738 94 11 659\\ndog 3725 403 69 3567\\nFull name Rowan County Animal Control\\nDepartment Rowan County Health Dept\\n1811 E Innes St\\nSalisbury NC 28146-6030\\nspecies # into shelter # adopted out # returned to owner # euthanizedtotal operating expenses\\ncost per animal handled$351,645.00\\n$56.00 ID # 111\\ncat 2817 127 11 2025\\ndog 3250 490 233 2225\\nlivestock 35 9 25 1\\nwildlife 225 0 0 197\\nFull name Rutherford County Animal Control\\nDepartment Rutherford County Sheriff\\'s Dept\\n289 N Main St\\nRutherfordton NC 28139\\nspecies # into shelter # adopted out # returned to owner # euthanizedtotal operating expenses\\ncost per animal handled$176,487.00\\n$40.51 ID # 112\\ncat 1618 60 40 1518\\ndog 2739 309 92 2338\\n  Full name Sampson County Animal Control\\nDepartment Sampson County Manager\\'s Office\\n435 Rowan Rd\\nClinton NC 28328\\nspecies # into shelter # adopted out # returned to owner # euthanizedtotal operating expenses\\ncost per animal handled$0.00\\n$0.00 ID # 113\\nno report 0 0 0 0\\nFull name Stanly County Animal Control\\nDepartment Stanly County Health Dept\\n1000 N First St, Ste 3\\nAlbemarle NC 28001\\nspecies # into shelter # adopted out # returned to owner # euthanizedtotal operating expenses\\ncost per animal handled$161,863.50\\n$34.24 ID # 115\\ncat 2189 16 21 1930\\ndog 2465 122 189 1807\\nracoons,fox,skunk 73 0 0 73\\nFull name Stokes County Animal Control\\nDepartment Stokes County Animal Shelter\\n1999 Sizemore Rd\\nGermanton NC 27019\\nspecies # into shelter # adopted out # returned to owner # euthanizedtotal operating expenses\\ncost per animal handled$132,933.00\\n$36.30 ID # 116\\ncat 1856 59 6 1791\\ndog 1806 152 143 1511\\nFull name Surry County Animal Control\\nDepartment Surry County Health Dept\\n118 Hamby Rd\\nDobson NC 27017\\nspecies # into shelter # adopted out # returned to owner # euthanizedtotal operating expenses\\ncost per animal handled$0.00\\n$0.00 ID # 118\\nno report 0 0 0 0\\n  Full name The Animal Protection Soc. of Durham\\nDepartment\\n2117 E Club Blvd\\nDurham NC 27704\\nspecies # into shelter # adopted out # returned to owner # euthanizedtotal operating expenses\\ncost per animal handled$408,468.00\\n$68.42 ID # 121\\ncat 2090 371 205 1514\\ndog 3881 689 379 2812\\nFull name The Jackson County Humane Society\\nDepartment\\nPO Box 1966\\nSylva NC 28779\\nspecies # into shelter # adopted out # returned to owner # euthanizedtotal operating expenses\\ncost per animal handled$118,355.54\\n$100.81 ID # 127\\ncat 467 183 8 267\\ndog 707 103 58 410\\nother 9 0 0 5\\nFull name The Lenoir Co SPCA Animal Shelter\\nDepartment\\nPO Box 1481\\nKinston NC 28503\\nspecies # into shelter # adopted out # returned to owner # euthanizedtotal operating expenses\\ncost per animal handled$140,000.00\\n$70.00 ID # 128\\ncat 1433 187 18 1091\\ndog 1979 269 179 1369\\nFull name The Outer Banks SPCA Animal Shelter\\nDepartment\\nPO Box 1000\\nManteo NC 27954\\nspecies # into shelter # adopted out # returned to owner # euthanizedtotal operating expenses\\ncost per animal handled$0.00\\n$0.00 ID # 129\\n  bird 29 12 2 15\\ncat 1339 120 20 1185\\ndeer 9 0 0 9\\nferret 1 1 0 0\\nfox 7 0 0 7\\nhorse 6 6 0 0\\nopossum 73 0 60 13\\notters 2 0 0 2\\nrabbit 5 3 0 2\\nraccoon 100 0 0 100\\nrodents 15 2 0 13\\nsnakes 3 0 3 0\\nturtles 2 0 2 0\\nFull name The Scotland Co. Humane Society\\nDepartment\\n1401 West Blvd\\nLaurinburg NC 28352\\nspecies # into shelter # adopted out # returned to owner # euthanizedtotal operating expenses\\ncost per animal handled$156,188.00\\n$77.00 ID # 130\\ncat 664 198 21 435\\ndog 1354 344 99 928\\nFull name The SPCA of NE North Carolina\\nDepartment c/o Jo Ellen Smith\\nPO Box 1772\\nElizabeth City NC 27906\\nspecies # into shelter # adopted out # returned to owner # euthanizedtotal operating expenses\\ncost per animal handled$103,773.81\\n$30.98 ID # 131\\ncat 2017 558 27 1432\\ndog 1333 490 232 611\\n  Full name Valley River Humane Society\\nDepartment (Cherokee Co)\\n7450 US 19\\nMarble NC 28905\\nspecies # into shelter # adopted out # returned to owner # euthanizedtotal operating expenses\\ncost per animal handled$154,267.00\\n$286.21 ID # 132\\ncat 145 109 0 71\\ndog 315 179 11 169\\nFull name The Wake Co SPCA Animal Shelter\\nDepartment\\n200 Petfinder Ln\\nRaleigh NC 276036075\\nspecies # into shelter # adopted out # returned to owner # euthanizedtotal operating expenses\\ncost per animal handled$858,746.00\\n$102.40 ID # 133\\ncat 3783 942 114 2618\\ndog 4312 1406 708 2114\\nother 230 37 4 140\\nrabbits 61 14 1 41\\nFull name Town of Kill Devil Hills Animal Control\\nDepartment Kill Devil Hills Police Dept\\nPO Box 1605\\nKill Devil Hills NC 27959\\nspecies # into shelter # adopted out # returned to owner # euthanizedtotal operating expenses\\ncost per animal handled$104,897.00\\n$346.19 ID # 138\\ncat 128 3 4 119\\ndog 173 23 108 38\\nferret 1 0 1 0\\nraccoon 1 0 0 1\\n  Full name Transylvania County Animal Control\\nDepartment Transylvania Co. Health Dept\\n203 E Morgan St\\nBrevard NC 28712\\nspecies # into shelter # adopted out # returned to owner # euthanizedtotal operating expenses\\ncost per animal handled$124,367.00\\n$91.85 ID # 143\\ncat 384 30 17 337\\ndog 973 97 117 759\\nFull name Union County Animal Shelter\\nDepartment Union County Sheriff\\'s Office\\n3344 Presson Rd\\nMonroe NC 28112\\nspecies # into shelter # adopted out # returned to owner # euthanizedtotal operating expenses\\ncost per animal handled$423,490.00\\n$49.35 ID # 146\\ncat 4066 980 19 3067\\nchicken 3 0 0 3\\ndog 4483 1335 249 2899\\nferret 4 0 0 4\\ngoat 5 5 0 0\\npotbelly pig 8 5 0 3\\nrabbit 12 9 0 3\\nFull name Vance County Animal Control\\nDepartment\\n165 Vance Academy Rd\\nHenderson NC 27536\\nspecies # into shelter # adopted out # returned to owner # euthanizedtotal operating expenses\\ncost per animal handled$103,929.42\\n$50.00 ID # 147\\ncat 550 125 3 468\\ndog 1532 478 60 948\\n  Full name Wake County Animal Control & Shelter\\nDepartment\\nPO Box 550\\nRaleigh NC 27602\\nspecies # into shelter # adopted out # returned to owner # euthanizedtotal operating expenses\\ncost per animal handled$1,493,706.00\\n$209.00 ID # 148\\nbird 2 1 1 0\\ncat 3249 589 52 2564\\ndog 3854 1274 391 2118\\nferret 11 7 4 0\\nfowl 1 0 0 1\\ngoat 1 0 1 0\\nhog 1 1 0 0\\nhorse 1 0 0 0\\nrabbit 8 8 0 0\\nreptile 1 0 0 0\\nwolf 1 1 0 0\\nFull name Warren County Animal Control\\nDepartment Warren County Manager\\'s Office\\nPO Box 619\\nWarrenton NC 27589\\nspecies # into shelter # adopted out # returned to owner # euthanizedtotal operating expenses\\ncost per animal handled$41,136.60\\n$26.37 ID # 149\\ncat 469 0 0 469\\ndog 1091 44 23 1024\\n  Full name Washington County Animal Control\\nDepartment Washington County Manager\\nPO Box 1007\\nPlymouth NC 27962\\nspecies # into shelter # adopted out # returned to owner # euthanizedtotal operating expenses\\ncost per animal handled$32,778.91\\n$43.59 ID # 150\\ncat 328 36 2 266\\ndog 424 119 19 330\\nFull name Watauga County Animal Control\\nDepartment\\nCourthouse Box 23\\nBoone NC 28607\\nspecies # into shelter # adopted out # returned to owner # euthanizedtotal operating expenses\\ncost per animal handled$127,085.00\\n$101.26 ID # 151\\ncat 496 52 52 392\\ndog 747 177 133 343\\nraccoon 5 0 0 5\\nrodent 1 0 0 1\\nskunk 4 0 0 4\\nsquirrel 2 0 0 2\\nFull name Wayne County Animal Control\\nDepartment\\nPO Box 227\\nGoldsboro NC 27533-0227\\nspecies # into shelter # adopted out # returned to owner # euthanizedtotal operating expenses\\ncost per animal handled$172,968.00\\n$23.94 ID # 153\\ncat 3538 127 19 3392\\ndog 3559 255 247 3057\\nfox 15 0 0 15\\nopossum 78 0 78 0\\n  pig 3 0 3 0\\nraccoon 30 0 0 30\\nFull name Wilkes County Animal Control\\nDepartment\\n408 Call St\\nWilkesboro NC 28697\\nspecies # into shelter # adopted out # returned to owner # euthanizedtotal operating expenses\\ncost per animal handled$231,368.00\\n$44.07 ID # 154\\ncat 2213 191 24 2058\\nchicken 7 0 0 7\\ndog 2963 346 165 2560\\nopossum 25 0 0 25\\npotbelly pig 1 0 0 1\\nraccoon 32 0 0 32\\nskunks 9 0 0 9\\nFull name Wilson County Animal Control\\nDepartment Wilson County Health Dept.\\n4001 Airport Dr\\nWilson NC 27893\\nspecies # into shelter # adopted out # returned to owner # euthanizedtotal operating expenses\\ncost per animal handled$276,500.00\\n$0.00 ID # 155\\nbird 1 0 1 0\\ncat 1514 86 17 1400\\nchicken 1 1 0 0\\ndog 1928 166 133 1640\\nguinea pig 1 0 1 0\\npig 2 2 0 0\\nrabbit 3 3 0 0\\n  Full name Yancey County Animal Shelter\\nDepartment Yancey County Humane Society\\nPO Box 1016\\nBurnsville NC 28714\\nspecies # into shelter # adopted out # returned to owner # euthanizedtotal operating expenses\\ncost per animal handled$107,759.21\\n$100.42 ID # 157\\ncat 650 155 1 290\\ndog 405 270 21 202\\nguinea pig 3 3 0 0\\nhamster 12 12 0 0\\nrabbit 3 3 0 0\\nFull name Lincoln County Animal Control\\nDepartment\\nPO Box 506\\nLincolnton NC 28903\\nspecies # into shelter # adopted out # returned to owner # euthanizedtotal operating expenses\\ncost per animal handled$223,899.11\\n$0.00 ID # 159\\ncats 1276 84 8 1163\\ndog 1790 204 51 1452\\nFull name Reidsville Veterinary Hospital\\nDepartment attn: Dr Joe Kinnarney\\n1401 W Harrison St\\nReidsville NC 27320\\nspecies # into shelter # adopted out # returned to owner # euthanizedtotal operating expenses\\ncost per animal handled$81,300.00\\n$25.00 ID # 161\\ncat 1384 27 14 1343\\ndog 1863 75 132 1656\\ngoat 5 5 0 0\\npotbelly pig 1 1 0 0\\n  Full name Eden Veterinary Hospital\\nDepartment attn: Dr Glasscock\\nPO Box 2161\\nEden NC 27288\\nspecies # into shelter # adopted out # returned to owner # euthanizedtotal operating expenses\\ncost per animal handled$0.00\\n$0.00 ID # 162\\ndog 371 0 0 556\\nFull name City of Stoneville Animal Control\\nDepartment attn: Bob Wyatt, City Mgr., Administrative Office\\n151 Smith St\\nStoneville NC 27048\\nspecies # into shelter # adopted out # returned to owner # euthanizedtotal operating expenses\\ncost per animal handled$242.75\\n$26.97 ID # 164\\ndog 9 0 3 6\\nFull name Valley River Humane Society\\nDepartment (Graham Co)\\n7450 US Hwy 19\\nMarble NC 28905\\nspecies # into shelter # adopted out # returned to owner # euthanizedtotal operating expenses\\ncost per animal handled$154,267.00\\n$408.11 ID # 170\\ncat 187 79 0 109\\ndog 184 119 1 70\\nFull name Valley River Humane Society\\nDepartment (Clay Co)\\n7450 US Hwy 19\\nMarble NC 28905\\nspecies # into shelter # adopted out # returned to owner # euthanizedtotal operating expenses\\ncost per animal handled$154,267.00\\n$296.67 ID # 171\\ncat 133 70 0 62\\ndog 383 275 2 111\\ngoat 1 0 0 1\\n  Full name Valley River Humane Society\\nDepartment (Swain Co)\\n7450 US Hwy 19\\nMarble NC 28905\\nspecies # into shelter # adopted out # returned to owner # euthanizedtotal operating expenses\\ncost per animal handled$8,947.49\\n$31.39 ID # 172\\ncat 111 46 0 66\\ndog 174 96 2 81\\nFull name Currituck County Humane Society & Animal Shelter\\nDepartment\\nPO Box 365\\nMaple NC 27956\\nspecies # into shelter # adopted out # returned to owner # euthanizedtotal operating expenses\\ncost per animal handled$0.00\\n$0.00 ID # 174\\nno report 0 0 0 0\\nFull name Melinda Barefoot\\nDepartment Johnston County SPCA\\n720 Durham St\\nClayton NC 27520\\nspecies # into shelter # adopted out # returned to owner # euthanizedtotal operating expenses\\ncost per animal handled$53,000.43\\n$55.09 ID # 175\\ncat 558 18 3 467\\nchickens 2 2 0 0\\ndog 393 41 58 200\\nduck 1 1 0 0\\nguinea pig 1 1 0 0\\npig 1 0 0 1\\nrabbit 6 6 0 0\\n  '"
      ]
     },
     "execution_count": 125,
     "metadata": {},
     "output_type": "execute_result"
    }
   ],
   "source": [
    "combined_pdf"
   ]
  },
  {
   "cell_type": "code",
   "execution_count": 126,
   "id": "3a7eb94b-5ac8-4c3a-bc9f-9242bc512e1d",
   "metadata": {},
   "outputs": [
    {
     "data": {
      "text/plain": [
       "'Alleghany County Animal Control'"
      ]
     },
     "execution_count": 126,
     "metadata": {},
     "output_type": "execute_result"
    }
   ],
   "source": [
    "### This parses out the name of the animal shelter\n",
    "combined_pdf.split(\"Full name\")[1].split(\"\\n\")[0].lstrip().rstrip()"
   ]
  },
  {
   "cell_type": "code",
   "execution_count": 127,
   "id": "230153d5-569a-4651-941f-a5d3471f405e",
   "metadata": {},
   "outputs": [
    {
     "data": {
      "text/plain": [
       "'Sylva NC 28779'"
      ]
     },
     "execution_count": 127,
     "metadata": {},
     "output_type": "execute_result"
    }
   ],
   "source": [
    "#This parses out the city, state, and zip\n",
    "combined_pdf.split(\"Department\")[40].split(\"\\n\")[2]"
   ]
  },
  {
   "cell_type": "code",
   "execution_count": 128,
   "id": "c088ff96-b03b-4238-bb16-cea49611b929",
   "metadata": {},
   "outputs": [
    {
     "data": {
      "text/plain": [
       "'co/ Public Works'"
      ]
     },
     "execution_count": 128,
     "metadata": {},
     "output_type": "execute_result"
    }
   ],
   "source": [
    "###This parses out the department\n",
    "combined_pdf.split(\"Department\")[1].split(\"\\n\")[0].lstrip().rstrip()"
   ]
  },
  {
   "cell_type": "code",
   "execution_count": 129,
   "id": "e1219679-d286-4dcb-8a64-f2cffec6cdda",
   "metadata": {},
   "outputs": [
    {
     "data": {
      "text/plain": [
       "'$9,826.85'"
      ]
     },
     "execution_count": 129,
     "metadata": {},
     "output_type": "execute_result"
    }
   ],
   "source": [
    "#This parses out the total operating expense\n",
    "combined_pdf.split(\"total operating expenses\\ncost per animal handled\")[1].split(\"\\n\")[0].lstrip().rstrip()"
   ]
  },
  {
   "cell_type": "code",
   "execution_count": 130,
   "id": "799826a2-791e-48c0-be3d-e5c3e66e199a",
   "metadata": {},
   "outputs": [
    {
     "data": {
      "text/plain": [
       "'$19.23'"
      ]
     },
     "execution_count": 130,
     "metadata": {},
     "output_type": "execute_result"
    }
   ],
   "source": [
    "#This block parses out the cost per animal\n",
    "combined_pdf.split(\"total operating expenses\\ncost per animal handled\")[1].split(\"\\n\")[1].lstrip().rstrip().split(\" \")[0]"
   ]
  },
  {
   "cell_type": "code",
   "execution_count": 131,
   "id": "a806cb53-53d2-45e8-b915-58aef6c5ac3c",
   "metadata": {},
   "outputs": [
    {
     "data": {
      "text/plain": [
       "'4'"
      ]
     },
     "execution_count": 131,
     "metadata": {},
     "output_type": "execute_result"
    }
   ],
   "source": [
    "###This Parses out the ID number\n",
    "combined_pdf.split(\"total operating expenses\\ncost per animal handled\")[1].split(\"\\n\")[1].lstrip().rstrip().split(\" \")[-1]"
   ]
  },
  {
   "cell_type": "code",
   "execution_count": 132,
   "id": "35d32393-44e0-4277-a5a3-6c1bbb05de1c",
   "metadata": {},
   "outputs": [
    {
     "data": {
      "text/plain": [
       "'cat'"
      ]
     },
     "execution_count": 132,
     "metadata": {},
     "output_type": "execute_result"
    }
   ],
   "source": [
    "species_and_counts = combined_pdf.split(\"species # into shelter # adopted out # returned to owner # euthanizedtotal operating expenses\\ncost per animal handled\")[1].rstrip().lstrip().split('\\n')[2]\n",
    "species = species_and_counts.split(\" \")[0]\n",
    "species\n"
   ]
  },
  {
   "cell_type": "code",
   "execution_count": 137,
   "id": "50710aab-126b-48f1-8a39-b2333477e9a2",
   "metadata": {},
   "outputs": [
    {
     "name": "stdout",
     "output_type": "stream",
     "text": [
      "$39,335.00\n",
      "$29.44 ID # 5\n",
      "cat 450 0 1 449\n",
      "dog 886 0 11 875\n",
      "Full name Ashe County Animal Control\n",
      "Department\n",
      "PO Box 1797\n",
      "West Jefferson NC 28694\n",
      "\n"
     ]
    }
   ],
   "source": [
    "table_num = 1\n",
    "species_num = 2\n",
    "species_and_counts = combined_pdf.split(\"species # into shelter # adopted out # returned to owner # euthanizedtotal operating expenses\\ncost per animal handled\")[2]#.rstrip().lstrip().split('\\n')[i].split(\" \")\n",
    "print(species_and_counts)"
   ]
  },
  {
   "cell_type": "code",
   "execution_count": null,
   "id": "0a75c18d-68b4-49cd-adaa-1b8110c8d410",
   "metadata": {},
   "outputs": [],
   "source": [
    "###Parsing out species infromation"
   ]
  },
  {
   "cell_type": "code",
   "execution_count": 153,
   "id": "9abbb92e-6a5f-41ee-8cf4-041ea014fe20",
   "metadata": {},
   "outputs": [
    {
     "name": "stdout",
     "output_type": "stream",
     "text": [
      "bird 60 15 0 13\n",
      "cat 4155 660 74 3193\n",
      "dog 5080 1259 615 3037\n",
      "ferret 12 4 0 4\n",
      "fish 29 1 20 0\n",
      "fox 6 0 0 5\n",
      "gerbil 23 6 0 22\n",
      "goat 8 1 0 1\n",
      "groundhog 1 0 0 1\n",
      "guinea pig 28 10 0\n",
      "hamster 22 2 0 15\n",
      "livestock 14 0 10 0\n",
      "mouse 24 10 0 16\n",
      "opossum 16 0 0 14\n",
      "potbelly pig 4 1 0\n",
      "python 1 1 0 0\n",
      "rabbit 39 8 0 35\n",
      "raccoon 74 0 0 69\n",
      "salamander 0 1 0 0\n",
      "skunk 2 0 0 2\n",
      "squirrel 7 0 0 5\n",
      "tarantula 0 1 0 0\n"
     ]
    }
   ],
   "source": [
    "species_num = 2\n",
    "end_table = False\n",
    "while end_table == False:\n",
    "    species_and_counts = combined_pdf.split(\"species # into shelter # adopted out # returned to owner # euthanizedtotal operating expenses\\ncost per animal handled\")[4].rstrip().lstrip().split('\\n')[species_num].split(\" \")\n",
    "\n",
    "    if \"Full\" in species_and_counts[0]:\n",
    "        end_table = True\n",
    "\n",
    "    else:\n",
    "        species = species_and_counts[0]\n",
    "        intake = species_and_counts[1]\n",
    "        adopted = species_and_counts[2]\n",
    "        returned = species_and_counts[3]\n",
    "        euthanized = species_and_counts[4]  \n",
    "        species_num += 1\n",
    "        print(species, intake, adopted,returned, euthanized)"
   ]
  },
  {
   "cell_type": "code",
   "execution_count": null,
   "id": "227c33a3-5ff2-4e33-96e8-1f568fadc093",
   "metadata": {},
   "outputs": [],
   "source": []
  },
  {
   "cell_type": "code",
   "execution_count": 155,
   "id": "32df4940-41eb-46e9-95fa-cd2ebc84b9c9",
   "metadata": {},
   "outputs": [
    {
     "ename": "IndexError",
     "evalue": "list index out of range",
     "output_type": "error",
     "traceback": [
      "\u001b[1;31m---------------------------------------------------------------------------\u001b[0m",
      "\u001b[1;31mIndexError\u001b[0m                                Traceback (most recent call last)",
      "Cell \u001b[1;32mIn[155], line 1\u001b[0m\n\u001b[1;32m----> 1\u001b[0m species_and_counts \u001b[38;5;241m=\u001b[39m \u001b[43mcombined_pdf\u001b[49m\u001b[38;5;241;43m.\u001b[39;49m\u001b[43msplit\u001b[49m\u001b[43m(\u001b[49m\u001b[38;5;124;43m\"\u001b[39;49m\u001b[38;5;124;43mspecies # into shelter # adopted out # returned to owner # euthanizedtotal operating expenses\u001b[39;49m\u001b[38;5;130;43;01m\\n\u001b[39;49;00m\u001b[38;5;124;43mcost per animal handled\u001b[39;49m\u001b[38;5;124;43m\"\u001b[39;49m\u001b[43m)\u001b[49m\u001b[43m[\u001b[49m\u001b[38;5;241;43m2\u001b[39;49m\u001b[43m]\u001b[49m\u001b[38;5;241;43m.\u001b[39;49m\u001b[43mrstrip\u001b[49m\u001b[43m(\u001b[49m\u001b[43m)\u001b[49m\u001b[38;5;241;43m.\u001b[39;49m\u001b[43mlstrip\u001b[49m\u001b[43m(\u001b[49m\u001b[43m)\u001b[49m\u001b[38;5;241;43m.\u001b[39;49m\u001b[43msplit\u001b[49m\u001b[43m(\u001b[49m\u001b[38;5;124;43m'\u001b[39;49m\u001b[38;5;130;43;01m\\n\u001b[39;49;00m\u001b[38;5;124;43m'\u001b[39;49m\u001b[43m)\u001b[49m\u001b[43m[\u001b[49m\u001b[43mnum\u001b[49m\u001b[43m]\u001b[49m\u001b[38;5;241m.\u001b[39msplit(\u001b[38;5;124m\"\u001b[39m\u001b[38;5;124m \u001b[39m\u001b[38;5;124m\"\u001b[39m)\n",
      "\u001b[1;31mIndexError\u001b[0m: list index out of range"
     ]
    }
   ],
   "source": [
    "species_and_counts = combined_pdf.split(\"species # into shelter # adopted out # returned to owner # euthanizedtotal operating expenses\\ncost per animal handled\")[2].rstrip().lstrip().split('\\n')[num].split(\" \")"
   ]
  },
  {
   "cell_type": "code",
   "execution_count": 154,
   "id": "fa438f0a-abea-4450-9cab-0a8fcbf306cc",
   "metadata": {},
   "outputs": [
    {
     "ename": "IndexError",
     "evalue": "list index out of range",
     "output_type": "error",
     "traceback": [
      "\u001b[1;31m---------------------------------------------------------------------------\u001b[0m",
      "\u001b[1;31mIndexError\u001b[0m                                Traceback (most recent call last)",
      "Cell \u001b[1;32mIn[154], line 5\u001b[0m\n\u001b[0;32m      3\u001b[0m species_num \u001b[38;5;241m=\u001b[39m \u001b[38;5;241m2\u001b[39m\n\u001b[0;32m      4\u001b[0m \u001b[38;5;28;01mwhile\u001b[39;00m new_table \u001b[38;5;241m==\u001b[39m \u001b[38;5;28;01mFalse\u001b[39;00m:\n\u001b[1;32m----> 5\u001b[0m     species_and_counts \u001b[38;5;241m=\u001b[39m \u001b[43mcombined_pdf\u001b[49m\u001b[38;5;241;43m.\u001b[39;49m\u001b[43msplit\u001b[49m\u001b[43m(\u001b[49m\u001b[38;5;124;43m\"\u001b[39;49m\u001b[38;5;124;43mspecies # into shelter # adopted out # returned to owner # euthanizedtotal operating expenses\u001b[39;49m\u001b[38;5;130;43;01m\\n\u001b[39;49;00m\u001b[38;5;124;43mcost per animal handled\u001b[39;49m\u001b[38;5;124;43m\"\u001b[39;49m\u001b[43m)\u001b[49m\u001b[43m[\u001b[49m\u001b[38;5;241;43m2\u001b[39;49m\u001b[43m]\u001b[49m\u001b[38;5;241;43m.\u001b[39;49m\u001b[43mrstrip\u001b[49m\u001b[43m(\u001b[49m\u001b[43m)\u001b[49m\u001b[38;5;241;43m.\u001b[39;49m\u001b[43mlstrip\u001b[49m\u001b[43m(\u001b[49m\u001b[43m)\u001b[49m\u001b[38;5;241;43m.\u001b[39;49m\u001b[43msplit\u001b[49m\u001b[43m(\u001b[49m\u001b[38;5;124;43m'\u001b[39;49m\u001b[38;5;130;43;01m\\n\u001b[39;49;00m\u001b[38;5;124;43m'\u001b[39;49m\u001b[43m)\u001b[49m\u001b[43m[\u001b[49m\u001b[43mnum\u001b[49m\u001b[43m]\u001b[49m\u001b[38;5;241m.\u001b[39msplit(\u001b[38;5;124m\"\u001b[39m\u001b[38;5;124m \u001b[39m\u001b[38;5;124m\"\u001b[39m)\n\u001b[0;32m      7\u001b[0m     \u001b[38;5;28;01mif\u001b[39;00m \u001b[38;5;124m\"\u001b[39m\u001b[38;5;124mFull\u001b[39m\u001b[38;5;124m\"\u001b[39m \u001b[38;5;129;01min\u001b[39;00m species_and_counts[\u001b[38;5;241m0\u001b[39m]:\n\u001b[0;32m      8\u001b[0m         new_table \u001b[38;5;241m=\u001b[39m \u001b[38;5;28;01mTrue\u001b[39;00m\n",
      "\u001b[1;31mIndexError\u001b[0m: list index out of range"
     ]
    }
   ],
   "source": [
    "new_table = False\n",
    "table_num = 1\n",
    "species_num = 2\n",
    "while new_table == False:\n",
    "    species_and_counts = combined_pdf.split(\"species # into shelter # adopted out # returned to owner # euthanizedtotal operating expenses\\ncost per animal handled\")[2].rstrip().lstrip().split('\\n')[num].split(\" \")\n",
    "    \n",
    "    if \"Full\" in species_and_counts[0]:\n",
    "        new_table = True\n",
    "    else:\n",
    "        species = species_and_counts[0]\n",
    "        intake = species_and_counts[1]\n",
    "        adopted = species_and_counts[2]\n",
    "        returned = species_and_counts[3]\n",
    "        euthanized = species_and_counts[4]\n",
    "        spe += 1\n",
    "        print(species, intake, adopted,returned, euthanized)\n",
    "        \n",
    "    \n"
   ]
  },
  {
   "cell_type": "code",
   "execution_count": 19,
   "id": "80cd9298-334d-48ce-b7f9-740bc131c5e1",
   "metadata": {},
   "outputs": [
    {
     "data": {
      "text/plain": [
       "['$9,826.85',\n",
       " '$19.23 ID # 4',\n",
       " 'cat 50 44 0 6',\n",
       " 'dog 460 187 33 240',\n",
       " 'equine 1 0 1 0',\n",
       " 'Full name Anson County Animal Control',\n",
       " 'Department Anson County Health Dept',\n",
       " 'PO Box 473',\n",
       " 'Wadesboro NC 28170']"
      ]
     },
     "execution_count": 19,
     "metadata": {},
     "output_type": "execute_result"
    }
   ],
   "source": [
    "combined_pdf.split(\"species # into shelter # adopted out # returned to owner # euthanizedtotal operating expenses\\ncost per animal handled\")[1].rstrip().lstrip().split('\\n')"
   ]
  },
  {
   "cell_type": "code",
   "execution_count": 17,
   "id": "7a91fb4f-e471-434f-8413-eb605b8019d9",
   "metadata": {},
   "outputs": [
    {
     "ename": "IndexError",
     "evalue": "sequence index out of range",
     "output_type": "error",
     "traceback": [
      "\u001b[1;31m---------------------------------------------------------------------------\u001b[0m",
      "\u001b[1;31mIndexError\u001b[0m                                Traceback (most recent call last)",
      "\u001b[1;32m<ipython-input-17-e0afbd98cb86>\u001b[0m in \u001b[0;36m<module>\u001b[1;34m\u001b[0m\n\u001b[0;32m      1\u001b[0m \u001b[1;31m###writing function that combines all the pages into one page\u001b[0m\u001b[1;33m\u001b[0m\u001b[1;33m\u001b[0m\u001b[1;33m\u001b[0m\u001b[0m\n\u001b[0;32m      2\u001b[0m \u001b[1;33m\u001b[0m\u001b[0m\n\u001b[1;32m----> 3\u001b[1;33m \u001b[0mreader\u001b[0m\u001b[1;33m.\u001b[0m\u001b[0mpages\u001b[0m\u001b[1;33m[\u001b[0m\u001b[1;36m34\u001b[0m\u001b[1;33m]\u001b[0m\u001b[1;33m.\u001b[0m\u001b[0mextract_text\u001b[0m\u001b[1;33m(\u001b[0m\u001b[1;33m)\u001b[0m\u001b[1;33m\u001b[0m\u001b[1;33m\u001b[0m\u001b[0m\n\u001b[0m",
      "\u001b[1;32m~\\anaconda3\\lib\\site-packages\\PyPDF2\\_page.py\u001b[0m in \u001b[0;36m__getitem__\u001b[1;34m(self, index)\u001b[0m\n\u001b[0;32m   2075\u001b[0m             \u001b[0mindex\u001b[0m \u001b[1;33m=\u001b[0m \u001b[0mlen_self\u001b[0m \u001b[1;33m+\u001b[0m \u001b[0mindex\u001b[0m\u001b[1;33m\u001b[0m\u001b[1;33m\u001b[0m\u001b[0m\n\u001b[0;32m   2076\u001b[0m         \u001b[1;32mif\u001b[0m \u001b[0mindex\u001b[0m \u001b[1;33m<\u001b[0m \u001b[1;36m0\u001b[0m \u001b[1;32mor\u001b[0m \u001b[0mindex\u001b[0m \u001b[1;33m>=\u001b[0m \u001b[0mlen_self\u001b[0m\u001b[1;33m:\u001b[0m\u001b[1;33m\u001b[0m\u001b[1;33m\u001b[0m\u001b[0m\n\u001b[1;32m-> 2077\u001b[1;33m             \u001b[1;32mraise\u001b[0m \u001b[0mIndexError\u001b[0m\u001b[1;33m(\u001b[0m\u001b[1;34m\"sequence index out of range\"\u001b[0m\u001b[1;33m)\u001b[0m\u001b[1;33m\u001b[0m\u001b[1;33m\u001b[0m\u001b[0m\n\u001b[0m\u001b[0;32m   2078\u001b[0m         \u001b[1;32mreturn\u001b[0m \u001b[0mself\u001b[0m\u001b[1;33m.\u001b[0m\u001b[0mget_function\u001b[0m\u001b[1;33m(\u001b[0m\u001b[0mindex\u001b[0m\u001b[1;33m)\u001b[0m\u001b[1;33m\u001b[0m\u001b[1;33m\u001b[0m\u001b[0m\n\u001b[0;32m   2079\u001b[0m \u001b[1;33m\u001b[0m\u001b[0m\n",
      "\u001b[1;31mIndexError\u001b[0m: sequence index out of range"
     ]
    }
   ],
   "source": [
    "###writing function that combines all the pages into one page\n",
    "\n",
    "final_page = False\n",
    "\n",
    "try while final_page == False:\n",
    "    for i in range(0,101):\n",
    "        reader.pages[34].extract_text()"
   ]
  },
  {
   "cell_type": "code",
   "execution_count": null,
   "id": "924348c5-63fe-4289-85ee-92dec0a5aaf8",
   "metadata": {},
   "outputs": [],
   "source": []
  }
 ],
 "metadata": {
  "kernelspec": {
   "display_name": "Python 3 (ipykernel)",
   "language": "python",
   "name": "python3"
  },
  "language_info": {
   "codemirror_mode": {
    "name": "ipython",
    "version": 3
   },
   "file_extension": ".py",
   "mimetype": "text/x-python",
   "name": "python",
   "nbconvert_exporter": "python",
   "pygments_lexer": "ipython3",
   "version": "3.8.18"
  }
 },
 "nbformat": 4,
 "nbformat_minor": 5
}
